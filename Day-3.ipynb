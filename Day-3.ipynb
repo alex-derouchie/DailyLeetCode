{
 "cells": [
  {
   "cell_type": "markdown",
   "id": "a8fc2052",
   "metadata": {},
   "source": [
    "# LeetCode Problem 344: Reverse String"
   ]
  },
  {
   "cell_type": "markdown",
   "id": "d8ddea61",
   "metadata": {},
   "source": [
    "Write a function that reverses a string. The input string is given as an array of characters s.\n",
    "\n",
    "You must do this by modifying the input array in-place with O(1) extra memory."
   ]
  },
  {
   "cell_type": "markdown",
   "id": "abbeb068",
   "metadata": {},
   "source": [
    "### Examples:"
   ]
  },
  {
   "cell_type": "markdown",
   "id": "2ca1992e",
   "metadata": {},
   "source": [
    "Input: s = [\"h\",\"e\",\"l\",\"l\",\"o\"]\n",
    "Output: [\"o\",\"l\",\"l\",\"e\",\"h\"]\n",
    "\n",
    "Input: s = [\"H\",\"a\",\"n\",\"n\",\"a\",\"h\"]\n",
    "Output: [\"h\",\"a\",\"n\",\"n\",\"a\",\"H\"]"
   ]
  },
  {
   "cell_type": "markdown",
   "id": "be275d48",
   "metadata": {},
   "source": [
    "### Constraints:"
   ]
  },
  {
   "cell_type": "markdown",
   "id": "d2ef7da4",
   "metadata": {},
   "source": [
    "1 <= s.length <= 105\n",
    "\n",
    "s[i] is a printable ascii character."
   ]
  },
  {
   "cell_type": "markdown",
   "id": "5abcfa50",
   "metadata": {},
   "source": [
    "## Problem Solution:"
   ]
  },
  {
   "cell_type": "code",
   "execution_count": 1,
   "id": "953b7d6d",
   "metadata": {},
   "outputs": [],
   "source": [
    "class Solution {\n",
    "    public void reverseString(char[] s) {\n",
    "        int left = 0;\n",
    "        int right = s.length-1;\n",
    "        while(left<right){\n",
    "            char temp = s[left];\n",
    "            s[left] = s[right];\n",
    "            s[right] = temp;\n",
    "            left++;\n",
    "            right--;\n",
    "        }\n",
    "    }\n",
    "}"
   ]
  },
  {
   "cell_type": "markdown",
   "id": "a7bab0ec",
   "metadata": {},
   "source": [
    "### Notes:"
   ]
  },
  {
   "cell_type": "markdown",
   "id": "8c2741f4",
   "metadata": {},
   "source": [
    "This solution uses a two-pointer approach with a \"temp\" variable to swap two characters at a time, starting with the first and last elements and moving inward until it reaches the middle, at which point the array will be reversed. This could also be done with a for loop that iterates s.length/2 times, which would save a small amount of memory but involve slightly more overhead."
   ]
  },
  {
   "cell_type": "code",
   "execution_count": null,
   "id": "a914fcec",
   "metadata": {},
   "outputs": [],
   "source": []
  }
 ],
 "metadata": {
  "kernelspec": {
   "display_name": "Java",
   "language": "java",
   "name": "java"
  },
  "language_info": {
   "codemirror_mode": "java",
   "file_extension": ".jshell",
   "mimetype": "text/x-java-source",
   "name": "Java",
   "pygments_lexer": "java",
   "version": "9+181"
  }
 },
 "nbformat": 4,
 "nbformat_minor": 5
}
