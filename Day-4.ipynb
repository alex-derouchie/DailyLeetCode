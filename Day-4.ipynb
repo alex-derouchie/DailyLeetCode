{
 "cells": [
  {
   "cell_type": "markdown",
   "id": "f3732b86",
   "metadata": {},
   "source": [
    "# LeetCode Problem 557: Reverse Words in a String III"
   ]
  },
  {
   "cell_type": "markdown",
   "id": "bd51ec6e",
   "metadata": {},
   "source": [
    "Given a string s, reverse the order of characters in each word within a sentence while still preserving whitespace and initial word order."
   ]
  },
  {
   "cell_type": "markdown",
   "id": "7be9be8f",
   "metadata": {},
   "source": [
    "### Examples:"
   ]
  },
  {
   "cell_type": "markdown",
   "id": "8d4ed1bb",
   "metadata": {},
   "source": [
    "Input: s = \"Let's take LeetCode contest\"\n",
    "Output: \"s'teL ekat edoCteeL tsetnoc\"\n",
    "\n",
    "Input: s = \"God Ding\"\n",
    "Output: \"doG gniD\""
   ]
  },
  {
   "cell_type": "markdown",
   "id": "6bf7c117",
   "metadata": {},
   "source": [
    "### Constraints:"
   ]
  },
  {
   "cell_type": "markdown",
   "id": "cbb0a769",
   "metadata": {},
   "source": [
    "1 <= s.length <= 5 * 104\n",
    "\n",
    "s contains printable ASCII characters.\n",
    "\n",
    "s does not contain any leading or trailing spaces.\n",
    "\n",
    "There is at least one word in s.\n",
    "\n",
    "All the words in s are separated by a single space."
   ]
  },
  {
   "cell_type": "markdown",
   "id": "c5f6dd6f",
   "metadata": {},
   "source": [
    "## Problem Solution"
   ]
  },
  {
   "cell_type": "code",
   "execution_count": 2,
   "id": "f0771ce3",
   "metadata": {},
   "outputs": [],
   "source": [
    "//Alex Derouchie, 2022\n",
    "class Solution {\n",
    "    private char[] output;\n",
    "    public String reverseWords(String s) {\n",
    "        output = s.toCharArray();\n",
    "        int start = 0;\n",
    "        for(int i=0;i<output.length;i++){\n",
    "            if(output[i] == ' '){\n",
    "                reverseWord(start, i-1);\n",
    "                start = i+1;\n",
    "            } else if (i == output.length-1){\n",
    "                reverseWord(start, i);\n",
    "            }\n",
    "        }\n",
    "        return String.copyValueOf(output);\n",
    "    }\n",
    "    \n",
    "    public void reverseWord(int start, int end){\n",
    "        while(start < end){\n",
    "            char temp = output[start];\n",
    "            output[start] = output[end];\n",
    "            output[end] = temp;\n",
    "            start++;\n",
    "            end--;\n",
    "        }\n",
    "    }\n",
    "}"
   ]
  },
  {
   "cell_type": "markdown",
   "id": "fe7fc3c5",
   "metadata": {},
   "source": [
    "### Notes:"
   ]
  },
  {
   "cell_type": "markdown",
   "id": "58eb4e89",
   "metadata": {},
   "source": [
    "This solution essentially builds upon day three's solution (LeetCode #344), with an added step of parsing each word in the string. There are multiple ways of doing this, including many built-in options (substring, etc.), but I chose to find spaces manually, iterating through the character array and calling a reverseWord method for each word. The method also needs to handle the edge case of the last word, which is handled differently since there is not a trailing space after it."
   ]
  },
  {
   "cell_type": "code",
   "execution_count": null,
   "id": "aade5e49",
   "metadata": {},
   "outputs": [],
   "source": []
  }
 ],
 "metadata": {
  "kernelspec": {
   "display_name": "Java",
   "language": "java",
   "name": "java"
  },
  "language_info": {
   "codemirror_mode": "java",
   "file_extension": ".jshell",
   "mimetype": "text/x-java-source",
   "name": "Java",
   "pygments_lexer": "java",
   "version": "9+181"
  }
 },
 "nbformat": 4,
 "nbformat_minor": 5
}
