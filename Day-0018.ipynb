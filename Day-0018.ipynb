{
 "cells": [
  {
   "cell_type": "markdown",
   "id": "2f64edf6",
   "metadata": {},
   "source": [
    "# LeetCode Problem 24: Swap Nodes in Pairs"
   ]
  },
  {
   "cell_type": "markdown",
   "id": "fb398e41",
   "metadata": {},
   "source": [
    "Given a linked list, swap every two adjacent nodes and return its head. You must solve the problem without modifying the values in the list's nodes (i.e., only nodes themselves may be changed.)"
   ]
  },
  {
   "cell_type": "markdown",
   "id": "b54f6d97",
   "metadata": {},
   "source": [
    "### Examples:"
   ]
  },
  {
   "cell_type": "markdown",
   "id": "574362d4",
   "metadata": {},
   "source": [
    "Input: head = [1,2,3,4]\n",
    "Output: [2,1,4,3]\n",
    "\n",
    "Input: head = []\n",
    "Output: []\n",
    "\n",
    "Input: head = [1]\n",
    "Output: [1]"
   ]
  },
  {
   "cell_type": "markdown",
   "id": "71eece5d",
   "metadata": {},
   "source": [
    "### Constraints:"
   ]
  },
  {
   "cell_type": "markdown",
   "id": "21fdcf0f",
   "metadata": {},
   "source": [
    "The number of nodes in the list is in the range [0, 100].<br>\n",
    "0 <= Node.val <= 100"
   ]
  },
  {
   "cell_type": "markdown",
   "id": "06ad8ad8",
   "metadata": {},
   "source": [
    "## Problem Solution:"
   ]
  },
  {
   "cell_type": "code",
   "execution_count": 1,
   "id": "a63f16ee",
   "metadata": {},
   "outputs": [],
   "source": [
    "class ListNode:\n",
    "     def __init__(self, x):\n",
    "         self.val = x\n",
    "         self.next = None\n",
    "            \n",
    "class Solution:\n",
    "    def swapPairs(self, head: ListNode) -> ListNode:\n",
    "        if not head or not head.next:\n",
    "            return head\n",
    "        \n",
    "        pointer1 = head\n",
    "        head = ListNode()\n",
    "        head.next = pointer1\n",
    "        cur = head\n",
    "        while cur.next and cur.next.next:\n",
    "            first = cur.next\n",
    "            sec = cur.next.next\n",
    "            cur.next = sec\n",
    "            first.next = sec.next\n",
    "            sec.next = first\n",
    "            cur = cur.next.next\n",
    "        return head.next"
   ]
  },
  {
   "cell_type": "markdown",
   "id": "077636b0",
   "metadata": {},
   "source": [
    "### Notes:"
   ]
  },
  {
   "cell_type": "markdown",
   "id": "716f5932",
   "metadata": {},
   "source": [
    "This solution uses two pointers to step through each complete pair in the list until the end. Since the values within the nodes cannot be swapped, we have to do some juggling of nodes. After ensuring there are at least 2 elements, we pull the head pointer out of the input since the first element will be swapped. Afterwards, we loop so long as the working pointer cur has a next and next.next value. we take note of the first and second value, set cur.next to the second value, then set the next value of the first element to what used to be the second elements next value, and finally set sec.next to the newly rearranged first value, effectively swapping the next two nodes. We advance the working pointer and repeat to the end of the list, finally returning head.next as the first element in the swapped list."
   ]
  },
  {
   "cell_type": "code",
   "execution_count": null,
   "id": "37de3dbf",
   "metadata": {},
   "outputs": [],
   "source": []
  }
 ],
 "metadata": {
  "kernelspec": {
   "display_name": "Python 3 (ipykernel)",
   "language": "python",
   "name": "python3"
  },
  "language_info": {
   "codemirror_mode": {
    "name": "ipython",
    "version": 3
   },
   "file_extension": ".py",
   "mimetype": "text/x-python",
   "name": "python",
   "nbconvert_exporter": "python",
   "pygments_lexer": "ipython3",
   "version": "3.8.3"
  }
 },
 "nbformat": 4,
 "nbformat_minor": 5
}
