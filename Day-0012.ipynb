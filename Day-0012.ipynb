{
 "cells": [
  {
   "cell_type": "markdown",
   "id": "7490b4a1",
   "metadata": {},
   "source": [
    "# LeetCode Problem 189: Rotate Array"
   ]
  },
  {
   "cell_type": "markdown",
   "id": "e067cbde",
   "metadata": {},
   "source": [
    "Given an array, rotate the array to the right by k steps, where k is non-negative."
   ]
  },
  {
   "cell_type": "markdown",
   "id": "cfcb7e6a",
   "metadata": {},
   "source": [
    "### Examples:"
   ]
  },
  {
   "cell_type": "markdown",
   "id": "95149a39",
   "metadata": {},
   "source": [
    "Input: nums = [1,2,3,4,5,6,7], k = 3<br>\n",
    "Output: [5,6,7,1,2,3,4]<br>\n",
    "Explanation:<br>\n",
    "rotate 1 steps to the right: [7,1,2,3,4,5,6]<br>\n",
    "rotate 2 steps to the right: [6,7,1,2,3,4,5]<br>\n",
    "rotate 3 steps to the right: [5,6,7,1,2,3,4]<br>\n",
    "\n",
    "Input: nums = [-1,-100,3,99], k = 2<br>\n",
    "Output: [3,99,-1,-100]<br>\n",
    "Explanation: <br>\n",
    "rotate 1 steps to the right: [99,-1,-100,3]<br>\n",
    "rotate 2 steps to the right: [3,99,-1,-100]<br>"
   ]
  },
  {
   "cell_type": "markdown",
   "id": "375022ba",
   "metadata": {},
   "source": [
    "### Constraints:"
   ]
  },
  {
   "cell_type": "markdown",
   "id": "2b1663a6",
   "metadata": {},
   "source": [
    "1 <= nums.length <= 105\n",
    "\n",
    "-231 <= nums[i] <= 231 - 1\n",
    "\n",
    "0 <= k <= 105"
   ]
  },
  {
   "cell_type": "markdown",
   "id": "50ae223c",
   "metadata": {},
   "source": [
    "## Problem Solution:"
   ]
  },
  {
   "cell_type": "code",
   "execution_count": 1,
   "id": "3067fd89",
   "metadata": {},
   "outputs": [],
   "source": [
    "class Solution {\n",
    "    public void rotate(int[] nums, int k) {\n",
    "        k %= nums.length;\n",
    "        reverse(nums, 0, nums.length-1);\n",
    "        reverse(nums, 0, k-1);\n",
    "        reverse(nums, k, nums.length-1);\n",
    "    }\n",
    "    \n",
    "    public void reverse(int[] nums, int start, int end){\n",
    "        while(start < end){\n",
    "            int temp = nums[start];\n",
    "            nums[start] = nums[end];\n",
    "            nums[end] = temp;\n",
    "            start++;\n",
    "            end--;\n",
    "        }\n",
    "    }\n",
    "}"
   ]
  },
  {
   "cell_type": "markdown",
   "id": "7289d5ea",
   "metadata": {},
   "source": [
    "### Notes:"
   ]
  },
  {
   "cell_type": "markdown",
   "id": "162d21e5",
   "metadata": {},
   "source": [
    "This solution uses an arithmetic pattern to effectively rotate the one dimensional array. First, we take the result of k mod nums.length, since each nums.length in k simply leaves the array as it started. k is now the pivot point, where the value originally at index 0 should end up. using this value, if we reverse the entire array and then reverse the subarrays to the left and right of this pivor point, we end up with the final answer. This is because taking the reversed array and mirroring the elements from 0-k will yield the last k elements in their orignal order, and doing the same with elements from k-nums.length in the reversed array will yield the elements originally found in indexes 0-nums.length-k. This will yield the correctly rotated array. We use a simple reverse helper method to complete the logic."
   ]
  },
  {
   "cell_type": "code",
   "execution_count": null,
   "id": "4f031b0e",
   "metadata": {},
   "outputs": [],
   "source": []
  }
 ],
 "metadata": {
  "kernelspec": {
   "display_name": "Java",
   "language": "java",
   "name": "java"
  },
  "language_info": {
   "codemirror_mode": "java",
   "file_extension": ".jshell",
   "mimetype": "text/x-java-source",
   "name": "Java",
   "pygments_lexer": "java",
   "version": "9+181"
  }
 },
 "nbformat": 4,
 "nbformat_minor": 5
}
