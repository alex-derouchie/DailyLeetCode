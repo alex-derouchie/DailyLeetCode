{
 "cells": [
  {
   "cell_type": "markdown",
   "id": "05c815e5",
   "metadata": {},
   "source": [
    "# LeetCode Problem 543. Diameter of Binary Tree"
   ]
  },
  {
   "cell_type": "markdown",
   "id": "90b995af",
   "metadata": {},
   "source": [
    "Given the root of a binary tree, return the length of the diameter of the tree.\n",
    "\n",
    "The diameter of a binary tree is the length of the longest path between any two nodes in a tree. This path may or may not pass through the root.\n",
    "\n",
    "The length of a path between two nodes is represented by the number of edges between them."
   ]
  },
  {
   "cell_type": "markdown",
   "id": "2b9737ed",
   "metadata": {},
   "source": [
    "### Examples:"
   ]
  },
  {
   "cell_type": "markdown",
   "id": "ebc051bd",
   "metadata": {},
   "source": [
    "Input: root = [1,2,3,4,5]\n",
    "Output: 3\n",
    "Explanation: 3 is the length of the path [4,2,1,3] or [5,2,1,3].\n",
    "\n",
    "Input: root = [1,2]\n",
    "Output: 1"
   ]
  },
  {
   "cell_type": "markdown",
   "id": "45997377",
   "metadata": {},
   "source": [
    "### Constraints:"
   ]
  },
  {
   "cell_type": "markdown",
   "id": "c507508e",
   "metadata": {},
   "source": [
    "The number of nodes in the tree is in the range [1, 10^4].<br>\n",
    "-100 <= Node.val <= 100"
   ]
  },
  {
   "cell_type": "markdown",
   "id": "8d3a23f5",
   "metadata": {},
   "source": [
    "## Problem Solution:"
   ]
  },
  {
   "cell_type": "code",
   "execution_count": 1,
   "id": "d5e7af58",
   "metadata": {},
   "outputs": [],
   "source": [
    "\n",
    " //Definition for a binary tree node.\n",
    "public class TreeNode {\n",
    "    int val;\n",
    "    TreeNode left;\n",
    "    TreeNode right;\n",
    "    TreeNode() {}\n",
    "    TreeNode(int val) { this.val = val; }\n",
    "    TreeNode(int val, TreeNode left, TreeNode right) {\n",
    "        this.val = val;\n",
    "        this.left = left;\n",
    "        this.right = right;\n",
    "    }\n",
    "}\n",
    "\n",
    "class Solution {\n",
    "    \n",
    "    int maxDepth = 0;\n",
    "    public int diameterOfBinaryTree(TreeNode root) {\n",
    "        dfs(root);\n",
    "        return maxDepth;\n",
    "    }\n",
    "    \n",
    "    public int dfs(TreeNode root){\n",
    "        if(root == null) return 0;\n",
    "        \n",
    "        int left = dfs(root.left);\n",
    "        int right = dfs(root.right);\n",
    "        \n",
    "        maxDepth = Math.max(maxDepth, left+right);\n",
    "        \n",
    "        return 1+Math.max(left, right);\n",
    "    }\n",
    "}"
   ]
  },
  {
   "cell_type": "markdown",
   "id": "47689b3f",
   "metadata": {},
   "source": [
    "### Notes:"
   ]
  },
  {
   "cell_type": "markdown",
   "id": "ee0bfef5",
   "metadata": {},
   "source": [
    "This solution uses a DFS traversal of the tree to produce a solution. The trick is to recognize that as we traverse the tree, there will exists a node in which the diameter is equal to the maximum depth of it's left subtree plus the maximum depth of its right subtree. We can deduce this intuitively by looking at any tree diagram. Knowing this, we traverse the tree, and for each node we sum the maximum depth of its subtrees. We keep track of the maximum value of that sum as we traverse the tree, and when we are done traversing we have found the maximum diameter."
   ]
  },
  {
   "cell_type": "code",
   "execution_count": null,
   "id": "bd7d8b12",
   "metadata": {},
   "outputs": [],
   "source": []
  }
 ],
 "metadata": {
  "kernelspec": {
   "display_name": "Java",
   "language": "java",
   "name": "java"
  },
  "language_info": {
   "codemirror_mode": "java",
   "file_extension": ".jshell",
   "mimetype": "text/x-java-source",
   "name": "Java",
   "pygments_lexer": "java",
   "version": "9+181"
  }
 },
 "nbformat": 4,
 "nbformat_minor": 5
}
