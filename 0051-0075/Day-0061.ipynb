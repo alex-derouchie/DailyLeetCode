{
 "cells": [
  {
   "cell_type": "markdown",
   "id": "05c815e5",
   "metadata": {},
   "source": [
    "# LeetCode Problem 2131. Longest Palindrome by Concatenating Two Letter Words"
   ]
  },
  {
   "cell_type": "markdown",
   "id": "90b995af",
   "metadata": {},
   "source": [
    "You are given an array of strings words. Each element of words consists of two lowercase English letters.\n",
    "\n",
    "Create the longest possible palindrome by selecting some elements from words and concatenating them in any order. Each element can be selected at most once.\n",
    "\n",
    "Return the length of the longest palindrome that you can create. If it is impossible to create any palindrome, return 0.\n",
    "\n",
    "A palindrome is a string that reads the same forward and backward."
   ]
  },
  {
   "cell_type": "markdown",
   "id": "2b9737ed",
   "metadata": {},
   "source": [
    "### Examples:"
   ]
  },
  {
   "cell_type": "markdown",
   "id": "ebc051bd",
   "metadata": {},
   "source": [
    "Input: words = [\"lc\",\"cl\",\"gg\"]\n",
    "Output: 6\n",
    "Explanation: One longest palindrome is \"lc\" + \"gg\" + \"cl\" = \"lcggcl\", of length 6.\n",
    "Note that \"clgglc\" is another longest palindrome that can be created.\n",
    "\n",
    "Input: words = [\"ab\",\"ty\",\"yt\",\"lc\",\"cl\",\"ab\"]\n",
    "Output: 8\n",
    "Explanation: One longest palindrome is \"ty\" + \"lc\" + \"cl\" + \"yt\" = \"tylcclyt\", of length 8.\n",
    "Note that \"lcyttycl\" is another longest palindrome that can be created.\n",
    "\n",
    "Input: words = [\"cc\",\"ll\",\"xx\"]\n",
    "Output: 2\n",
    "Explanation: One longest palindrome is \"cc\", of length 2.\n",
    "Note that \"ll\" is another longest palindrome that can be created, and so is \"xx\"."
   ]
  },
  {
   "cell_type": "markdown",
   "id": "45997377",
   "metadata": {},
   "source": [
    "### Constraints:"
   ]
  },
  {
   "cell_type": "markdown",
   "id": "c507508e",
   "metadata": {},
   "source": [
    "1 <= words.length <= 10^5<br>\n",
    "words[i].length == 2<br>\n",
    "words[i] consists of lowercase English letters."
   ]
  },
  {
   "cell_type": "markdown",
   "id": "8d3a23f5",
   "metadata": {},
   "source": [
    "## Problem Solution:"
   ]
  },
  {
   "cell_type": "code",
   "execution_count": 1,
   "id": "d5e7af58",
   "metadata": {},
   "outputs": [],
   "source": [
    "class Solution {\n",
    "    public int longestPalindrome(String[] words) {\n",
    "        int addTwo = 0;\n",
    "        int res = 0;\n",
    "        Map<String, Integer> pairings = new HashMap<>();\n",
    "        for(String word : words){\n",
    "            if(pairings.containsKey(word)){\n",
    "                if(word.charAt(1) == word.charAt(0)) addTwo--;\n",
    "                pairings.put(word, pairings.get(word)-1);\n",
    "                if(pairings.get(word) == 0) pairings.remove(word);\n",
    "                res += 4;\n",
    "            } else {\n",
    "                if(word.charAt(1) == word.charAt(0)) addTwo++;\n",
    "                String key = new StringBuilder(word).reverse().toString();\n",
    "                pairings.merge(key, 1, (a,b) -> a+b);\n",
    "            }\n",
    "        }\n",
    "        return addTwo>0 ? res+2 : res;\n",
    "    }\n",
    "}"
   ]
  },
  {
   "cell_type": "markdown",
   "id": "47689b3f",
   "metadata": {},
   "source": [
    "### Notes:"
   ]
  },
  {
   "cell_type": "markdown",
   "id": "ee0bfef5",
   "metadata": {},
   "source": [
    "This problem is similar to longest palindrome by concatenating single letters, with a few small adjustments. We construct the maximised palindrome using a HashMap to find sets of opposing letters (e.g. \"QW\" and \"WQ). Whenever a pairing is found, we know we can append each of the strings to either end of our current palindrome to increase the size by 4. Finally, if the letter pair consists of double letters, we need to keep track of whether it remains by the end of the traversal, since it can be added to the middle of the palindrome for an extra 2 letters."
   ]
  },
  {
   "cell_type": "code",
   "execution_count": null,
   "id": "bd7d8b12",
   "metadata": {},
   "outputs": [],
   "source": []
  }
 ],
 "metadata": {
  "kernelspec": {
   "display_name": "Java",
   "language": "java",
   "name": "java"
  },
  "language_info": {
   "codemirror_mode": "java",
   "file_extension": ".jshell",
   "mimetype": "text/x-java-source",
   "name": "Java",
   "pygments_lexer": "java",
   "version": "9+181"
  }
 },
 "nbformat": 4,
 "nbformat_minor": 5
}
