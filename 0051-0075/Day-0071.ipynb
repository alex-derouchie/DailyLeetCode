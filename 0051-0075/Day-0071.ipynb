{
 "cells": [
  {
   "cell_type": "markdown",
   "id": "05c815e5",
   "metadata": {},
   "source": [
    "# LeetCode Problem 268. Missing Number"
   ]
  },
  {
   "cell_type": "markdown",
   "id": "90b995af",
   "metadata": {},
   "source": [
    "Given an array nums containing n distinct numbers in the range [0, n], return the only number in the range that is missing from the array."
   ]
  },
  {
   "cell_type": "markdown",
   "id": "2b9737ed",
   "metadata": {},
   "source": [
    "### Examples:"
   ]
  },
  {
   "cell_type": "markdown",
   "id": "ebc051bd",
   "metadata": {},
   "source": [
    "Input: nums = [3,0,1]\n",
    "Output: 2\n",
    "Explanation: n = 3 since there are 3 numbers, so all numbers are in the range [0,3]. 2 is the missing number in the range since it does not appear in nums.\n",
    "\n",
    "Input: nums = [0,1]\n",
    "Output: 2\n",
    "Explanation: n = 2 since there are 2 numbers, so all numbers are in the range [0,2]. 2 is the missing number in the range since it does not appear in nums.\n",
    "\n",
    "Input: nums = [9,6,4,2,3,5,7,0,1]\n",
    "Output: 8\n",
    "Explanation: n = 9 since there are 9 numbers, so all numbers are in the range [0,9]. 8 is the missing number in the range since it does not appear in nums."
   ]
  },
  {
   "cell_type": "markdown",
   "id": "45997377",
   "metadata": {},
   "source": [
    "### Constraints:"
   ]
  },
  {
   "cell_type": "markdown",
   "id": "c507508e",
   "metadata": {},
   "source": [
    "n == nums.length<br>\n",
    "1 <= n <= 10^4<br>\n",
    "0 <= nums[i] <= n<br>\n",
    "All the numbers of nums are unique."
   ]
  },
  {
   "cell_type": "markdown",
   "id": "8d3a23f5",
   "metadata": {},
   "source": [
    "## Problem Solution:"
   ]
  },
  {
   "cell_type": "code",
   "execution_count": 1,
   "id": "d5e7af58",
   "metadata": {},
   "outputs": [],
   "source": [
    "class Solution {\n",
    "    public int missingNumber(int[] nums) {\n",
    "        int res = nums.length;\n",
    "        for(int i=0;i<nums.length;i++){\n",
    "            res ^= i;\n",
    "            res ^= nums[i];\n",
    "        }\n",
    "        return res;\n",
    "    }\n",
    "}"
   ]
  },
  {
   "cell_type": "markdown",
   "id": "47689b3f",
   "metadata": {},
   "source": [
    "### Notes:"
   ]
  },
  {
   "cell_type": "markdown",
   "id": "ee0bfef5",
   "metadata": {},
   "source": [
    "We use a bit manipulation technique to determine the missing number, utilizing the XOR function over all the numbers in the nums list. Since a number XOR itself is zero, and a number XOR zero is unchanged, we take a result variable and XOR it with each number in the array as well as each index, which essentially ensures that the result will be the XOR of every element in the array twice and the missing element once."
   ]
  },
  {
   "cell_type": "code",
   "execution_count": null,
   "id": "bd7d8b12",
   "metadata": {},
   "outputs": [],
   "source": []
  }
 ],
 "metadata": {
  "kernelspec": {
   "display_name": "Java",
   "language": "java",
   "name": "java"
  },
  "language_info": {
   "codemirror_mode": "java",
   "file_extension": ".jshell",
   "mimetype": "text/x-java-source",
   "name": "Java",
   "pygments_lexer": "java",
   "version": "9+181"
  }
 },
 "nbformat": 4,
 "nbformat_minor": 5
}
