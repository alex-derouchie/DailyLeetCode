{
 "cells": [
  {
   "cell_type": "markdown",
   "id": "05c815e5",
   "metadata": {},
   "source": [
    "# LeetCode Problem 206. Reverse Linked List"
   ]
  },
  {
   "cell_type": "markdown",
   "id": "90b995af",
   "metadata": {},
   "source": [
    "Given the head of a singly linked list, reverse the list, and return the reversed list."
   ]
  },
  {
   "cell_type": "markdown",
   "id": "2b9737ed",
   "metadata": {},
   "source": [
    "### Examples:"
   ]
  },
  {
   "cell_type": "markdown",
   "id": "ebc051bd",
   "metadata": {},
   "source": [
    "Input: head = [1,2,3,4,5]\n",
    "Output: [5,4,3,2,1]\n",
    "\n",
    "Input: head = [1,2]\n",
    "Output: [2,1]\n",
    "\n",
    "Input: head = []\n",
    "Output: []"
   ]
  },
  {
   "cell_type": "markdown",
   "id": "45997377",
   "metadata": {},
   "source": [
    "### Constraints:"
   ]
  },
  {
   "cell_type": "markdown",
   "id": "c507508e",
   "metadata": {},
   "source": [
    "The number of nodes in the list is the range [0, 5000].<br>\n",
    "-5000 <= Node.val <= 5000"
   ]
  },
  {
   "cell_type": "markdown",
   "id": "8d3a23f5",
   "metadata": {},
   "source": [
    "## Problem Solution:"
   ]
  },
  {
   "cell_type": "code",
   "execution_count": 2,
   "id": "d5e7af58",
   "metadata": {},
   "outputs": [],
   "source": [
    "\n",
    "  //Definition for singly-linked list.\n",
    "  public class ListNode {\n",
    "      int val;\n",
    "      ListNode next;\n",
    "      ListNode() {}\n",
    "      ListNode(int val) { this.val = val; }\n",
    "      ListNode(int val, ListNode next) { this.val = val; this.next = next; }\n",
    "  }\n",
    " \n",
    "class Solution {\n",
    "    public ListNode reverseList(ListNode head) {\n",
    "        ListNode rev = null;\n",
    "        // head 1->2->3->->4->5->null, rev null\n",
    "        while(head != null){\n",
    "            ListNode next = head.next; // next 2->3->->4->5\n",
    "            head.next = rev; // head 1->null, rev null\n",
    "            rev = head; //head 1->null, rev 1->null\n",
    "            head = next; //head 2->3->->4->5, rev 1-> null\n",
    "            //repeat until rev = 5->4->3->2->1->null\n",
    "        }\n",
    "        return rev;\n",
    "    }\n",
    "}"
   ]
  },
  {
   "cell_type": "markdown",
   "id": "47689b3f",
   "metadata": {},
   "source": [
    "### Notes:"
   ]
  },
  {
   "cell_type": "markdown",
   "id": "ee0bfef5",
   "metadata": {},
   "source": [
    "This solution uses an intuitive approach that is nevertheless a bit tricky to understand just looking at it. We're essentially \"folding\" the list, constructing a reversed list by starting with a null value and appending to the beginning of that pointer the current head value and shifting both forward. The comments in the code depict the first iteration of the while loop."
   ]
  },
  {
   "cell_type": "code",
   "execution_count": null,
   "id": "bd7d8b12",
   "metadata": {},
   "outputs": [],
   "source": []
  }
 ],
 "metadata": {
  "kernelspec": {
   "display_name": "Java",
   "language": "java",
   "name": "java"
  },
  "language_info": {
   "codemirror_mode": "java",
   "file_extension": ".jshell",
   "mimetype": "text/x-java-source",
   "name": "Java",
   "pygments_lexer": "java",
   "version": "9+181"
  }
 },
 "nbformat": 4,
 "nbformat_minor": 5
}
