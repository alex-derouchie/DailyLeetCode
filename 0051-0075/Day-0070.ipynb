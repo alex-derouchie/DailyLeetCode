{
 "cells": [
  {
   "cell_type": "markdown",
   "id": "05c815e5",
   "metadata": {},
   "source": [
    "# LeetCode Problem 103. Binary Tree Zigzag Level Order Traversal"
   ]
  },
  {
   "cell_type": "markdown",
   "id": "90b995af",
   "metadata": {},
   "source": [
    "Given the root of a binary tree, return the zigzag level order traversal of its nodes' values. (i.e., from left to right, then right to left for the next level and alternate between)."
   ]
  },
  {
   "cell_type": "markdown",
   "id": "2b9737ed",
   "metadata": {},
   "source": [
    "### Examples:"
   ]
  },
  {
   "cell_type": "markdown",
   "id": "ebc051bd",
   "metadata": {},
   "source": [
    "Input: root = [3,9,20,null,null,15,7]\n",
    "Output: [[3],[20,9],[15,7]]\n",
    "\n",
    "\n",
    "Input: root = [1]\n",
    "Output: [[1]]\n",
    "\n",
    "\n",
    "Input: root = []\n",
    "Output: []"
   ]
  },
  {
   "cell_type": "markdown",
   "id": "45997377",
   "metadata": {},
   "source": [
    "### Constraints:"
   ]
  },
  {
   "cell_type": "markdown",
   "id": "c507508e",
   "metadata": {},
   "source": [
    "The number of nodes in the tree is in the range [0, 2000].<br>\n",
    "-100 <= Node.val <= 100"
   ]
  },
  {
   "cell_type": "markdown",
   "id": "8d3a23f5",
   "metadata": {},
   "source": [
    "## Problem Solution:"
   ]
  },
  {
   "cell_type": "code",
   "execution_count": 1,
   "id": "d5e7af58",
   "metadata": {},
   "outputs": [],
   "source": [
    "\n",
    " //Definition for a binary tree node.\n",
    "public class TreeNode {\n",
    "     int val;\n",
    "     TreeNode left;\n",
    "     TreeNode right;\n",
    "     TreeNode(int x) { val = x; }\n",
    "}\n",
    "\n",
    "\n",
    "class Solution {\n",
    "    \n",
    "    List<List<Integer>> res = new ArrayList<>();\n",
    "    \n",
    "    public List<List<Integer>> zigzagLevelOrder(TreeNode root) {\n",
    "        levelOrderTraversal(root, 0);\n",
    "        for(int i=1;i<res.size();i+=2){\n",
    "            Collections.reverse(res.get(i));\n",
    "        }\n",
    "        return res;\n",
    "    }\n",
    "    \n",
    "    private void levelOrderTraversal(TreeNode root, int level){\n",
    "        if(root == null) return;\n",
    "        if(res.size() <= level) res.add(new ArrayList<>());\n",
    "        res.get(level).add(root.val);\n",
    "        levelOrderTraversal(root.left, level+1);\n",
    "        levelOrderTraversal(root.right, level+1);\n",
    "    }\n",
    "    \n",
    "}"
   ]
  },
  {
   "cell_type": "markdown",
   "id": "47689b3f",
   "metadata": {},
   "source": [
    "### Notes:"
   ]
  },
  {
   "cell_type": "markdown",
   "id": "ee0bfef5",
   "metadata": {},
   "source": [
    "For the sake of concision & being easy to read, this solution essentially performs a level order traversal and follows it up by reversing every other level in the output list before returning.<br><br>\n",
    "It's worth noting that a more efficient solution would be to use an output list that is an ArrayList of LinkedLists, and for odd levels of the list, append each new item to the beginning of the list rather than the end. We'd use an ArrayList of LinkedLists since the firsst dimension uses get() frequently, whereas the second dimension uses add() frequently, which can be very inefficient for ArrayLists when adding to the beginning."
   ]
  },
  {
   "cell_type": "code",
   "execution_count": null,
   "id": "bd7d8b12",
   "metadata": {},
   "outputs": [],
   "source": []
  }
 ],
 "metadata": {
  "kernelspec": {
   "display_name": "Java",
   "language": "java",
   "name": "java"
  },
  "language_info": {
   "codemirror_mode": "java",
   "file_extension": ".jshell",
   "mimetype": "text/x-java-source",
   "name": "Java",
   "pygments_lexer": "java",
   "version": "9+181"
  }
 },
 "nbformat": 4,
 "nbformat_minor": 5
}
