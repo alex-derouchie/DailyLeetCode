{
 "cells": [
  {
   "cell_type": "markdown",
   "id": "05c815e5",
   "metadata": {},
   "source": [
    "# LeetCode Problem 202. Happy Number"
   ]
  },
  {
   "cell_type": "markdown",
   "id": "90b995af",
   "metadata": {},
   "source": [
    "Write an algorithm to determine if a number n is happy.\n",
    "\n",
    "A happy number is a number defined by the following process:\n",
    "\n",
    "Starting with any positive integer, replace the number by the sum of the squares of its digits.\n",
    "Repeat the process until the number equals 1 (where it will stay), or it loops endlessly in a cycle which does not include 1.\n",
    "Those numbers for which this process ends in 1 are happy.\n",
    "Return true if n is a happy number, and false if not."
   ]
  },
  {
   "cell_type": "markdown",
   "id": "2b9737ed",
   "metadata": {},
   "source": [
    "### Examples:"
   ]
  },
  {
   "cell_type": "markdown",
   "id": "ebc051bd",
   "metadata": {},
   "source": [
    "Input: n = 19<br>\n",
    "Output: true<br>\n",
    "Explanation:<br>\n",
    "12 + 92 = 82<br>\n",
    "82 + 22 = 68<br>\n",
    "62 + 82 = 100<br>\n",
    "12 + 02 + 02 = 1<br>\n",
    "\n",
    "Input: n = 2<br>\n",
    "Output: false"
   ]
  },
  {
   "cell_type": "markdown",
   "id": "45997377",
   "metadata": {},
   "source": [
    "### Constraints:"
   ]
  },
  {
   "cell_type": "markdown",
   "id": "c507508e",
   "metadata": {},
   "source": [
    "1 <= n <= 2^31 - 1"
   ]
  },
  {
   "cell_type": "markdown",
   "id": "8d3a23f5",
   "metadata": {},
   "source": [
    "## Problem Solution:"
   ]
  },
  {
   "cell_type": "code",
   "execution_count": 2,
   "id": "d5e7af58",
   "metadata": {},
   "outputs": [],
   "source": [
    "class Solution {\n",
    "    public boolean isHappy(int n) {\n",
    "        int slow = calc(n);\n",
    "        int fast = calc(calc(n));\n",
    "        while(slow != fast && fast != 1){\n",
    "            slow = calc(slow);\n",
    "            fast = calc(calc(fast));\n",
    "        }\n",
    "        return fast == 1;\n",
    "    }\n",
    "    \n",
    "    public int calc(int n){\n",
    "        int sum = 0;\n",
    "        while(n > 0){\n",
    "            sum += (n%10) * (n%10);\n",
    "            n = n/10;\n",
    "        }\n",
    "        return sum;\n",
    "    }\n",
    "}"
   ]
  },
  {
   "cell_type": "markdown",
   "id": "47689b3f",
   "metadata": {},
   "source": [
    "### Notes:"
   ]
  },
  {
   "cell_type": "markdown",
   "id": "ee0bfef5",
   "metadata": {},
   "source": [
    "Since we know from the problem solution that this pattern will either converge to 1 and stay there or continue to loop values indefinitely, we can essentially treat this as if we are finding a loop in a linked list. We set up a helper method to calculate the next value based on the current value. Then we initialize a \"fast\" pointer and a \"slow\" pointer. the fast advances two steps each iteration, the slow advances one. If the fast pointer ever hits 1, we know that the number has converged and is happy. Otherwise, if there is a loop, the two pointers will eventually meet at some point of the cycle and be equal to each other, at which point we know the number is not happy."
   ]
  },
  {
   "cell_type": "code",
   "execution_count": null,
   "id": "bd7d8b12",
   "metadata": {},
   "outputs": [],
   "source": []
  }
 ],
 "metadata": {
  "kernelspec": {
   "display_name": "Java",
   "language": "java",
   "name": "java"
  },
  "language_info": {
   "codemirror_mode": "java",
   "file_extension": ".jshell",
   "mimetype": "text/x-java-source",
   "name": "Java",
   "pygments_lexer": "java",
   "version": "9+181"
  }
 },
 "nbformat": 4,
 "nbformat_minor": 5
}
