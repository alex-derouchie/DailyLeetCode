{
 "cells": [
  {
   "cell_type": "markdown",
   "id": "05c815e5",
   "metadata": {},
   "source": [
    "# LeetCode Problem 17. Letter Combinations of a Phone Number"
   ]
  },
  {
   "cell_type": "markdown",
   "id": "90b995af",
   "metadata": {},
   "source": [
    "Given a string containing digits from 2-9 inclusive, return all possible letter combinations that the number could represent. Return the answer in any order.\n",
    "\n",
    "A mapping of digits to letters (just like on the telephone buttons) is given below. Note that 1 does not map to any letters.\n",
    "\n",
    "[Photo not included]"
   ]
  },
  {
   "cell_type": "markdown",
   "id": "2b9737ed",
   "metadata": {},
   "source": [
    "### Examples:"
   ]
  },
  {
   "cell_type": "markdown",
   "id": "ebc051bd",
   "metadata": {},
   "source": [
    "Input: digits = \"23\"\n",
    "Output: [\"ad\",\"ae\",\"af\",\"bd\",\"be\",\"bf\",\"cd\",\"ce\",\"cf\"]\n",
    "\n",
    "\n",
    "Input: digits = \"\"\n",
    "Output: []\n",
    "\n",
    "\n",
    "Input: digits = \"2\"\n",
    "Output: [\"a\",\"b\",\"c\"]"
   ]
  },
  {
   "cell_type": "markdown",
   "id": "45997377",
   "metadata": {},
   "source": [
    "### Constraints:"
   ]
  },
  {
   "cell_type": "markdown",
   "id": "c507508e",
   "metadata": {},
   "source": [
    "0 <= digits.length <= 4<br>\n",
    "digits[i] is a digit in the range ['2', '9']."
   ]
  },
  {
   "cell_type": "markdown",
   "id": "8d3a23f5",
   "metadata": {},
   "source": [
    "## Problem Solution:"
   ]
  },
  {
   "cell_type": "code",
   "execution_count": 1,
   "id": "d5e7af58",
   "metadata": {},
   "outputs": [],
   "source": [
    "class Solution {\n",
    "    \n",
    "    private Map<Character, String> letterMap;\n",
    "    private List<String> output;\n",
    "    \n",
    "    public List<String> letterCombinations(String digits) {\n",
    "        if(digits.length()==0) return new ArrayList<>();\n",
    "        \n",
    "        //Construct mapping\n",
    "        letterMap = new HashMap<>();\n",
    "        letterMap.put('2',\"abc\");\n",
    "        letterMap.put('3',\"def\");\n",
    "        letterMap.put('4',\"ghi\");\n",
    "        letterMap.put('5',\"jkl\");\n",
    "        letterMap.put('6',\"mno\");\n",
    "        letterMap.put('7',\"pqrs\");\n",
    "        letterMap.put('8',\"tuv\");\n",
    "        letterMap.put('9',\"wxyz\");\n",
    "        \n",
    "        output = new ArrayList<>();\n",
    "        buildCombos(new StringBuilder(), digits, 0);\n",
    "        return output;\n",
    "    }\n",
    "    \n",
    "    private void buildCombos(StringBuilder tempString, String digits, int index){\n",
    "        if(index == digits.length()){\n",
    "            output.add(tempString.toString());\n",
    "            return;\n",
    "        }\n",
    "        \n",
    "        String nextLetters = letterMap.get(digits.charAt(index));\n",
    "        for(int i=0;i<nextLetters.length();i++){\n",
    "            buildCombos(tempString.append(nextLetters.charAt(i)), digits, index+1);\n",
    "            tempString.deleteCharAt(tempString.length()-1);\n",
    "        }\n",
    "    }\n",
    "}"
   ]
  },
  {
   "cell_type": "markdown",
   "id": "47689b3f",
   "metadata": {},
   "source": [
    "### Notes:"
   ]
  },
  {
   "cell_type": "markdown",
   "id": "ee0bfef5",
   "metadata": {},
   "source": [
    "This solution is essentially a combinations question with the main difference being the mapping from digits to letters, instead of just the digits themselves. We need simply create a mapping from digits to corresponding characters and apply the backtracking algorithm for combinations to the problem to create a solution."
   ]
  },
  {
   "cell_type": "code",
   "execution_count": null,
   "id": "bd7d8b12",
   "metadata": {},
   "outputs": [],
   "source": []
  }
 ],
 "metadata": {
  "kernelspec": {
   "display_name": "Java",
   "language": "java",
   "name": "java"
  },
  "language_info": {
   "codemirror_mode": "java",
   "file_extension": ".jshell",
   "mimetype": "text/x-java-source",
   "name": "Java",
   "pygments_lexer": "java",
   "version": "9+181"
  }
 },
 "nbformat": 4,
 "nbformat_minor": 5
}
