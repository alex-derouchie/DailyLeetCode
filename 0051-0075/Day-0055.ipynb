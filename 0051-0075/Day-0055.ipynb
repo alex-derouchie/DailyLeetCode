{
 "cells": [
  {
   "cell_type": "markdown",
   "id": "05c815e5",
   "metadata": {},
   "source": [
    "# LeetCode Problem 54. Spiral Matrix"
   ]
  },
  {
   "cell_type": "markdown",
   "id": "90b995af",
   "metadata": {},
   "source": [
    "Given an m x n matrix, return all elements of the matrix in spiral order."
   ]
  },
  {
   "cell_type": "markdown",
   "id": "2b9737ed",
   "metadata": {},
   "source": [
    "### Examples:"
   ]
  },
  {
   "cell_type": "markdown",
   "id": "ebc051bd",
   "metadata": {},
   "source": [
    "Input: matrix = [[1,2,3],[4,5,6],[7,8,9]]<br>\n",
    "Output: [1,2,3,6,9,8,7,4,5]\n",
    "\n",
    "\n",
    "Input: matrix = [[1,2,3,4],[5,6,7,8],[9,10,11,12]]<br>\n",
    "Output: [1,2,3,4,8,12,11,10,9,5,6,7]"
   ]
  },
  {
   "cell_type": "markdown",
   "id": "45997377",
   "metadata": {},
   "source": [
    "### Constraints:"
   ]
  },
  {
   "cell_type": "markdown",
   "id": "c507508e",
   "metadata": {},
   "source": [
    "m == matrix.length<br>\n",
    "n == matrix[i].length<br>\n",
    "1 <= m, n <= 10<br>\n",
    "-100 <= matrix[i][j] <= 100<br>"
   ]
  },
  {
   "cell_type": "markdown",
   "id": "8d3a23f5",
   "metadata": {},
   "source": [
    "## Problem Solution:"
   ]
  },
  {
   "cell_type": "code",
   "execution_count": 1,
   "id": "d5e7af58",
   "metadata": {},
   "outputs": [],
   "source": [
    "class Solution {\n",
    "    \n",
    "    List<Integer> output = new ArrayList<>();\n",
    "    List<List<Integer>> elems = new ArrayList<>();\n",
    "    \n",
    "    public List<Integer> spiralOrder(int[][] matrix) {\n",
    "        \n",
    "        //Populate elems list\n",
    "        for(int i=0;i<matrix.length;i++){\n",
    "            List<Integer> currentLine = createArrayListForRow(matrix[i]);\n",
    "            elems.add(currentLine);\n",
    "        }\n",
    "        \n",
    "        //pop items from the elems list, adding them to the output list\n",
    "        while(elems.size() != 0){\n",
    "            //remove top row\n",
    "            popTop();\n",
    "            //remove rightmost col\n",
    "            popRight();\n",
    "            //remove bottom row\n",
    "            popBottom();\n",
    "            //remove leftmost col\n",
    "            popLeft();\n",
    "        }\n",
    "        \n",
    "        return output;\n",
    "    }\n",
    "    \n",
    "    private ArrayList<Integer> createArrayListForRow(int[] row){\n",
    "        ArrayList<Integer> output = new ArrayList<>(row.length);\n",
    "        for(int i : row) output.add(i);\n",
    "        return output;\n",
    "    }\n",
    "    \n",
    "    private void popTop(){\n",
    "        if(elems.size() == 0) return;\n",
    "        List<Integer> top = elems.remove(0);\n",
    "        for(Integer i : top){\n",
    "            output.add(i);\n",
    "        }\n",
    "    }\n",
    "    \n",
    "    private void popRight(){\n",
    "        for(int i=0;i<elems.size();i++){\n",
    "            if(elems.get(i).size() == 0) return;\n",
    "            int curVal = elems.get(i).remove(elems.get(i).size()-1);\n",
    "            output.add(curVal);\n",
    "        }\n",
    "    }\n",
    "    \n",
    "    private void popBottom(){\n",
    "        if(elems.size() == 0) return;\n",
    "        List<Integer> bottom = elems.remove(elems.size()-1);\n",
    "        for(int i=bottom.size()-1;i>=0;i--){\n",
    "            output.add(bottom.get(i));\n",
    "        }\n",
    "    }\n",
    "    \n",
    "    private void popLeft(){\n",
    "        for(int i=elems.size()-1;i>=0;i--){\n",
    "            if(elems.get(i).size() == 0) return;\n",
    "            int curVal = elems.get(i).remove(0);\n",
    "            output.add(curVal);\n",
    "        }\n",
    "    }\n",
    "    \n",
    "}"
   ]
  },
  {
   "cell_type": "markdown",
   "id": "47689b3f",
   "metadata": {},
   "source": [
    "### Notes:"
   ]
  },
  {
   "cell_type": "markdown",
   "id": "ee0bfef5",
   "metadata": {},
   "source": [
    "The idea behind this approach is to add all the elements to a 2D ArrayList to simplify boundary detection, and then to simply \"pop\" each edge of the remaining array in the corresponding order. Since we remove the elements that we add to the output list, we don't need to worry about duplicates or boundary calculation (at each stage, we're removing all the top elements, leftmost elements, etc.). This solution runs in O(2mn) = O(mn) time."
   ]
  },
  {
   "cell_type": "code",
   "execution_count": null,
   "id": "bd7d8b12",
   "metadata": {},
   "outputs": [],
   "source": []
  }
 ],
 "metadata": {
  "kernelspec": {
   "display_name": "Java",
   "language": "java",
   "name": "java"
  },
  "language_info": {
   "codemirror_mode": "java",
   "file_extension": ".jshell",
   "mimetype": "text/x-java-source",
   "name": "Java",
   "pygments_lexer": "java",
   "version": "9+181"
  }
 },
 "nbformat": 4,
 "nbformat_minor": 5
}
