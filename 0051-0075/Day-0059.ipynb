{
 "cells": [
  {
   "cell_type": "markdown",
   "id": "05c815e5",
   "metadata": {},
   "source": [
    "# LeetCode Problem 328. Odd Even Linked List"
   ]
  },
  {
   "cell_type": "markdown",
   "id": "90b995af",
   "metadata": {},
   "source": [
    "Given the head of a singly linked list, group all the nodes with odd indices together followed by the nodes with even indices, and return the reordered list.\n",
    "\n",
    "The first node is considered odd, and the second node is even, and so on.\n",
    "\n",
    "Note that the relative order inside both the even and odd groups should remain as it was in the input.\n",
    "\n",
    "You must solve the problem in O(1) extra space complexity and O(n) time complexity."
   ]
  },
  {
   "cell_type": "markdown",
   "id": "2b9737ed",
   "metadata": {},
   "source": [
    "### Examples:"
   ]
  },
  {
   "cell_type": "markdown",
   "id": "ebc051bd",
   "metadata": {},
   "source": [
    "Input: head = [1,2,3,4,5]\n",
    "Output: [1,3,5,2,4]\n",
    "\n",
    "\n",
    "Input: head = [2,1,3,5,6,4,7]\n",
    "Output: [2,3,6,7,1,5,4]"
   ]
  },
  {
   "cell_type": "markdown",
   "id": "45997377",
   "metadata": {},
   "source": [
    "### Constraints:"
   ]
  },
  {
   "cell_type": "markdown",
   "id": "c507508e",
   "metadata": {},
   "source": [
    "The number of nodes in the linked list is in the range [0, 104]. <br>\n",
    "-106 <= Node.val <= 106"
   ]
  },
  {
   "cell_type": "markdown",
   "id": "8d3a23f5",
   "metadata": {},
   "source": [
    "## Problem Solution:"
   ]
  },
  {
   "cell_type": "code",
   "execution_count": 1,
   "id": "d5e7af58",
   "metadata": {},
   "outputs": [],
   "source": [
    "\n",
    "//Definition for singly-linked list.\n",
    "public class ListNode {\n",
    "      int val;\n",
    "      ListNode next;\n",
    "      ListNode() {}\n",
    "      ListNode(int val) { this.val = val; }\n",
    "      ListNode(int val, ListNode next) { this.val = val; this.next = next; }\n",
    "  }\n",
    "\n",
    "class Solution {\n",
    "    public ListNode oddEvenList(ListNode head) {\n",
    "        if(head == null) return null;\n",
    "        \n",
    "        ListNode odd = head, even = head.next, evenHead = even;\n",
    "        while(even != null && even.next != null){\n",
    "            odd.next = odd.next.next;\n",
    "            even.next = even.next.next;\n",
    "            odd = odd.next;\n",
    "            even = even.next;\n",
    "        }\n",
    "        odd.next = evenHead;\n",
    "        \n",
    "        return head;\n",
    "    }\n",
    "}"
   ]
  },
  {
   "cell_type": "markdown",
   "id": "47689b3f",
   "metadata": {},
   "source": [
    "### Notes:"
   ]
  },
  {
   "cell_type": "markdown",
   "id": "ee0bfef5",
   "metadata": {},
   "source": [
    "This solution uses two staggered pointers which advance two elements at a time to construct a list of \"odd\" elements and \"even\" elements. Once these two sublists are constructed, we simply tag the even list on to the end of the odd list, and we've constructed our odd even list."
   ]
  },
  {
   "cell_type": "code",
   "execution_count": null,
   "id": "bd7d8b12",
   "metadata": {},
   "outputs": [],
   "source": []
  }
 ],
 "metadata": {
  "kernelspec": {
   "display_name": "Java",
   "language": "java",
   "name": "java"
  },
  "language_info": {
   "codemirror_mode": "java",
   "file_extension": ".jshell",
   "mimetype": "text/x-java-source",
   "name": "Java",
   "pygments_lexer": "java",
   "version": "17.0.4+11-LTS-179"
  }
 },
 "nbformat": 4,
 "nbformat_minor": 5
}
