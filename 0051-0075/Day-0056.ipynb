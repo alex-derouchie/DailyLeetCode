{
 "cells": [
  {
   "cell_type": "markdown",
   "id": "05c815e5",
   "metadata": {},
   "source": [
    "# LeetCode Problem 1706. Where Will the Ball Fall"
   ]
  },
  {
   "cell_type": "markdown",
   "id": "90b995af",
   "metadata": {},
   "source": [
    "You have a 2-D grid of size m x n representing a box, and you have n balls. The box is open on the top and bottom sides.\n",
    "\n",
    "Each cell in the box has a diagonal board spanning two corners of the cell that can redirect a ball to the right or to the left.\n",
    "\n",
    "A board that redirects the ball to the right spans the top-left corner to the bottom-right corner and is represented in the grid as 1.<br>\n",
    "A board that redirects the ball to the left spans the top-right corner to the bottom-left corner and is represented in the grid as -1.<br><br>\n",
    "We drop one ball at the top of each column of the box. Each ball can get stuck in the box or fall out of the bottom. A ball gets stuck if it hits a \"V\" shaped pattern between two boards or if a board redirects the ball into either wall of the box.\n",
    "\n",
    "Return an array answer of size n where answer[i] is the column that the ball falls out of at the bottom after dropping the ball from the ith column at the top, or -1 if the ball gets stuck in the box."
   ]
  },
  {
   "cell_type": "markdown",
   "id": "2b9737ed",
   "metadata": {},
   "source": [
    "### Examples:"
   ]
  },
  {
   "cell_type": "markdown",
   "id": "ebc051bd",
   "metadata": {},
   "source": [
    "Input: grid = [[1,1,1,-1,-1],[1,1,1,-1,-1],[-1,-1,-1,1,1],[1,1,1,1,-1],[-1,-1,-1,-1,-1]]<br>\n",
    "Output: [1,-1,-1,-1,-1]<br>\n",
    "Explanation: This example is shown in the photo.<br>\n",
    "Ball b0 is dropped at column 0 and falls out of the box at column 1.<br>\n",
    "Ball b1 is dropped at column 1 and will get stuck in the box between column 2 and 3 and row 1.<br>\n",
    "Ball b2 is dropped at column 2 and will get stuck on the box between column 2 and 3 and row 0.<br>\n",
    "Ball b3 is dropped at column 3 and will get stuck on the box between column 2 and 3 and row 0.<br>\n",
    "Ball b4 is dropped at column 4 and will get stuck on the box between column 2 and 3 and row 1.<br>\n",
    "\n",
    "Input: grid = [[-1]]<br>\n",
    "Output: [-1]<br>\n",
    "Explanation: The ball gets stuck against the left wall.<br>\n",
    "\n",
    "Input: grid = [[1,1,1,1,1,1],[-1,-1,-1,-1,-1,-1],[1,1,1,1,1,1],[-1,-1,-1,-1,-1,-1]]<br>\n",
    "Output: [0,1,2,3,4,-1]"
   ]
  },
  {
   "cell_type": "markdown",
   "id": "45997377",
   "metadata": {},
   "source": [
    "### Constraints:"
   ]
  },
  {
   "cell_type": "markdown",
   "id": "c507508e",
   "metadata": {},
   "source": [
    "m == grid.length<br>\n",
    "n == grid[i].length<br>\n",
    "1 <= m, n <= 100<br>\n",
    "grid[i][j] is 1 or -1.<br>"
   ]
  },
  {
   "cell_type": "markdown",
   "id": "8d3a23f5",
   "metadata": {},
   "source": [
    "## Problem Solution:"
   ]
  },
  {
   "cell_type": "code",
   "execution_count": 1,
   "id": "d5e7af58",
   "metadata": {},
   "outputs": [],
   "source": [
    "class Solution {\n",
    "    public int[] findBall(int[][] grid) {\n",
    "        int[] locations = new int[grid[0].length];\n",
    "        for(int col=0;col<grid[0].length;col++){\n",
    "            locations[col] = dfs(grid, 0, col);\n",
    "        }\n",
    "        return locations;\n",
    "    }\n",
    "    \n",
    "    public int dfs(int[][] grid, int row, int col){\n",
    "        if(row == grid.length)\n",
    "            return col;\n",
    "        \n",
    "        if(col < 0 || col >= grid[0].length)\n",
    "            return -1;\n",
    "        \n",
    "        if(grid[row][col] == 1 && col < grid[0].length-1 && grid[row][col+1] == 1){\n",
    "            return dfs(grid, row+1, col+1);\n",
    "        } else if (grid[row][col] == -1 && col > 0 && grid[row][col-1] == -1){\n",
    "            return dfs(grid, row+1, col-1);\n",
    "        }\n",
    "        \n",
    "        return -1;\n",
    "    }\n",
    "    \n",
    "}\n"
   ]
  },
  {
   "cell_type": "markdown",
   "id": "47689b3f",
   "metadata": {},
   "source": [
    "### Notes:"
   ]
  },
  {
   "cell_type": "markdown",
   "id": "ee0bfef5",
   "metadata": {},
   "source": [
    "Our approach to this solution is essentially to use a DFS search over the grid 2D array to trace the final location of each ball in the starting array (there is a ball which starts at each index of grid[0]). During our DFS search for each ball, if the current row of the grid reaches the end of the array, we return the ball's final position (col). Otherwise, if col ever falls below zero or above the length of the grid, the ball has hit the left or right wall and doesn't reach the bottom (return -1). This is also the case when the ball reaches a \"V\" (when the cell to the right/left of the current cell, depending on the direction, is not equal to the current cell's value.) After conducting all the searches, we simply return the result array. This algorithm runs in worst case O(mn), where m*n is the size of the input array."
   ]
  },
  {
   "cell_type": "code",
   "execution_count": null,
   "id": "bd7d8b12",
   "metadata": {},
   "outputs": [],
   "source": []
  }
 ],
 "metadata": {
  "kernelspec": {
   "display_name": "Java",
   "language": "java",
   "name": "java"
  },
  "language_info": {
   "codemirror_mode": "java",
   "file_extension": ".jshell",
   "mimetype": "text/x-java-source",
   "name": "Java",
   "pygments_lexer": "java",
   "version": "9+181"
  }
 },
 "nbformat": 4,
 "nbformat_minor": 5
}
