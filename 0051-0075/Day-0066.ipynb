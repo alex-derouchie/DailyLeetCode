{
 "cells": [
  {
   "cell_type": "markdown",
   "id": "05c815e5",
   "metadata": {},
   "source": [
    "# LeetCode Problem 1911. Maximum Alternating Subsequence Sum"
   ]
  },
  {
   "cell_type": "markdown",
   "id": "90b995af",
   "metadata": {},
   "source": [
    "The alternating sum of a 0-indexed array is defined as the sum of the elements at even indices minus the sum of the elements at odd indices.\n",
    "\n",
    "For example, the alternating sum of [4,2,5,3] is (4 + 5) - (2 + 3) = 4.<br>\n",
    "Given an array nums, return the maximum alternating sum of any subsequence of nums (after reindexing the elements of the subsequence).\n",
    "\n",
    "A subsequence of an array is a new array generated from the original array by deleting some elements (possibly none) without changing the remaining elements' relative order. For example, [2,7,4] is a subsequence of [4,2,3,7,2,1,4] (the underlined elements), while [2,4,2] is not."
   ]
  },
  {
   "cell_type": "markdown",
   "id": "2b9737ed",
   "metadata": {},
   "source": [
    "### Examples:"
   ]
  },
  {
   "cell_type": "markdown",
   "id": "ebc051bd",
   "metadata": {},
   "source": [
    "Input: nums = [4,2,5,3]\n",
    "Output: 7\n",
    "Explanation: It is optimal to choose the subsequence [4,2,5] with alternating sum (4 + 5) - 2 = 7.\n",
    "\n",
    "\n",
    "Input: nums = [5,6,7,8]\n",
    "Output: 8\n",
    "Explanation: It is optimal to choose the subsequence [8] with alternating sum 8.\n",
    "\n",
    "\n",
    "Input: nums = [6,2,1,2,4,5]\n",
    "Output: 10\n",
    "Explanation: It is optimal to choose the subsequence [6,1,5] with alternating sum (6 + 5) - 1 = 10."
   ]
  },
  {
   "cell_type": "markdown",
   "id": "45997377",
   "metadata": {},
   "source": [
    "### Constraints:"
   ]
  },
  {
   "cell_type": "markdown",
   "id": "c507508e",
   "metadata": {},
   "source": [
    "1 <= nums.length <= 10^5<br>\n",
    "1 <= nums[i] <= 10^5"
   ]
  },
  {
   "cell_type": "markdown",
   "id": "8d3a23f5",
   "metadata": {},
   "source": [
    "## Problem Solution:"
   ]
  },
  {
   "cell_type": "code",
   "execution_count": 1,
   "id": "d5e7af58",
   "metadata": {},
   "outputs": [],
   "source": [
    "class Solution {\n",
    "    public long maxAlternatingSum(int[] nums) {\n",
    "        long even = 0;\n",
    "        long odd = 0;\n",
    "        for(int i=0;i<nums.length;i++){\n",
    "            even = Math.max(odd + nums[i], even);\n",
    "            odd = even - nums[i];\n",
    "        }\n",
    "        return even;\n",
    "    }\n",
    "}"
   ]
  },
  {
   "cell_type": "markdown",
   "id": "47689b3f",
   "metadata": {},
   "source": [
    "### Notes:"
   ]
  },
  {
   "cell_type": "markdown",
   "id": "ee0bfef5",
   "metadata": {},
   "source": [
    "This solution is similar to a greedy, 0/1 backpack problem - for each element in nums, we can either choose to take it, or not. For each step, we're trying to minimize the 'odd' elements in our final subsequence and maximize the 'even' ones. We do this by keeping track of an odd value and an even value for each element. At each element, the odd value is equal to the even value minus the current element. the Even value is equal to the maximum of the current element plus the previous odd value or the previous even value. By the end of the list, the even value will be our maximum that we return."
   ]
  },
  {
   "cell_type": "code",
   "execution_count": null,
   "id": "bd7d8b12",
   "metadata": {},
   "outputs": [],
   "source": []
  }
 ],
 "metadata": {
  "kernelspec": {
   "display_name": "Java",
   "language": "java",
   "name": "java"
  },
  "language_info": {
   "codemirror_mode": "java",
   "file_extension": ".jshell",
   "mimetype": "text/x-java-source",
   "name": "Java",
   "pygments_lexer": "java",
   "version": "9+181"
  }
 },
 "nbformat": 4,
 "nbformat_minor": 5
}
