{
 "cells": [
  {
   "cell_type": "markdown",
   "id": "05c815e5",
   "metadata": {},
   "source": [
    "# LeetCode Problem 148. Sort List"
   ]
  },
  {
   "cell_type": "markdown",
   "id": "90b995af",
   "metadata": {},
   "source": [
    "Given the head of a linked list, return the list after sorting it in ascending order."
   ]
  },
  {
   "cell_type": "markdown",
   "id": "2b9737ed",
   "metadata": {},
   "source": [
    "### Examples:"
   ]
  },
  {
   "cell_type": "markdown",
   "id": "ebc051bd",
   "metadata": {},
   "source": [
    "Input: head = [4,2,1,3]\n",
    "Output: [1,2,3,4]\n",
    "\n",
    "\n",
    "Input: head = [-1,5,3,4,0]\n",
    "Output: [-1,0,3,4,5]\n",
    "\n",
    "Input: head = []\n",
    "Output: []"
   ]
  },
  {
   "cell_type": "markdown",
   "id": "45997377",
   "metadata": {},
   "source": [
    "### Constraints:"
   ]
  },
  {
   "cell_type": "markdown",
   "id": "c507508e",
   "metadata": {},
   "source": [
    "The number of nodes in the list is in the range [0, 5 * 104].<br>\n",
    "-105 <= Node.val <= 105"
   ]
  },
  {
   "cell_type": "markdown",
   "id": "8d3a23f5",
   "metadata": {},
   "source": [
    "## Problem Solution:"
   ]
  },
  {
   "cell_type": "code",
   "execution_count": 1,
   "id": "d5e7af58",
   "metadata": {},
   "outputs": [],
   "source": [
    "\n",
    "//Definition for singly-linked list.\n",
    "public class ListNode {\n",
    "      int val;\n",
    "      ListNode next;\n",
    "      ListNode() {}\n",
    "      ListNode(int val) { this.val = val; }\n",
    "      ListNode(int val, ListNode next) { this.val = val; this.next = next; }\n",
    "  }\n",
    "\n",
    "class Solution {\n",
    "    public ListNode sortList(ListNode head) {\n",
    "        if(head == null || head.next == null) return head;\n",
    "        \n",
    "        ListNode walker = head, runner = head, prev = head;\n",
    "        while(runner != null && runner.next != null){\n",
    "            prev = walker;\n",
    "            runner = runner.next.next;\n",
    "            walker = walker.next;\n",
    "        }\n",
    "        prev.next = null;\n",
    "        \n",
    "        ListNode l1 = sortList(head);\n",
    "        ListNode l2 = sortList(walker);\n",
    "        \n",
    "        return merge(l1, l2);\n",
    "        \n",
    "    }\n",
    "    \n",
    "    public ListNode merge(ListNode l1, ListNode l2){\n",
    "        ListNode merged = new ListNode(0), point = merged;\n",
    "        \n",
    "        while(l1 != null && l2 != null){\n",
    "            if(l1.val < l2.val){\n",
    "                point.next = l1;\n",
    "                l1 = l1.next;\n",
    "                point = point.next;\n",
    "            } else {\n",
    "                point.next = l2;\n",
    "                l2 = l2.next;\n",
    "                point = point.next;\n",
    "            }\n",
    "        }\n",
    "        \n",
    "        if(l1 != null){\n",
    "            point.next = l1;\n",
    "        }\n",
    "        \n",
    "        if(l2 != null){\n",
    "            point.next = l2;\n",
    "        }\n",
    "        \n",
    "        return merged.next;\n",
    "    }\n",
    "}"
   ]
  },
  {
   "cell_type": "markdown",
   "id": "47689b3f",
   "metadata": {},
   "source": [
    "### Notes:"
   ]
  },
  {
   "cell_type": "markdown",
   "id": "ee0bfef5",
   "metadata": {},
   "source": [
    "This problem is a classic MergeSort problem. To sort the list, we recursively split the list in half until it's split into individual nodes, and then we work backwards, reassembling two lists into one until the entire list is reassembled in sorted order for an O(nlogn) solution"
   ]
  },
  {
   "cell_type": "code",
   "execution_count": null,
   "id": "bd7d8b12",
   "metadata": {},
   "outputs": [],
   "source": []
  }
 ],
 "metadata": {
  "kernelspec": {
   "display_name": "Java",
   "language": "java",
   "name": "java"
  },
  "language_info": {
   "codemirror_mode": "java",
   "file_extension": ".jshell",
   "mimetype": "text/x-java-source",
   "name": "Java",
   "pygments_lexer": "java",
   "version": "9+181"
  }
 },
 "nbformat": 4,
 "nbformat_minor": 5
}
