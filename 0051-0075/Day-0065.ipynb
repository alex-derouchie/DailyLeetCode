{
 "cells": [
  {
   "cell_type": "markdown",
   "id": "05c815e5",
   "metadata": {},
   "source": [
    "# LeetCode Problem 74. Search a 2D Matrix"
   ]
  },
  {
   "cell_type": "markdown",
   "id": "90b995af",
   "metadata": {},
   "source": [
    "Write an efficient algorithm that searches for a value target in an m x n integer matrix matrix. This matrix has the following properties:\n",
    "\n",
    "Integers in each row are sorted from left to right.\n",
    "The first integer of each row is greater than the last integer of the previous row."
   ]
  },
  {
   "cell_type": "markdown",
   "id": "2b9737ed",
   "metadata": {},
   "source": [
    "### Examples:"
   ]
  },
  {
   "cell_type": "markdown",
   "id": "ebc051bd",
   "metadata": {},
   "source": [
    "Input: matrix = [[1,3,5,7],[10,11,16,20],[23,30,34,60]], target = 3\n",
    "Output: true\n",
    "\n",
    "\n",
    "Input: matrix = [[1,3,5,7],[10,11,16,20],[23,30,34,60]], target = 13\n",
    "Output: false"
   ]
  },
  {
   "cell_type": "markdown",
   "id": "45997377",
   "metadata": {},
   "source": [
    "### Constraints:"
   ]
  },
  {
   "cell_type": "markdown",
   "id": "c507508e",
   "metadata": {},
   "source": [
    "m == matrix.length<br>\n",
    "n == matrix[i].length<br>\n",
    "1 <= m, n <= 100<br>\n",
    "-10^4 <= matrix[i][j], target <= 10^4<br>"
   ]
  },
  {
   "cell_type": "markdown",
   "id": "8d3a23f5",
   "metadata": {},
   "source": [
    "## Problem Solution:"
   ]
  },
  {
   "cell_type": "code",
   "execution_count": 1,
   "id": "d5e7af58",
   "metadata": {},
   "outputs": [],
   "source": [
    "class Solution {\n",
    "    public boolean searchMatrix(int[][] matrix, int target) {\n",
    "        //find row in which target resides\n",
    "        int left = 0, right = matrix.length-1;\n",
    "        int n = matrix[0].length;\n",
    "        int mid = 0;\n",
    "        while(left <= right){\n",
    "            mid = (left+right)/2;\n",
    "            if(matrix[mid][0] < target && matrix[mid][n-1] > target){\n",
    "                break;\n",
    "            } else if (matrix[mid][0] > target){\n",
    "                right = mid-1;\n",
    "            } else if (matrix[mid][n-1] < target){\n",
    "                left = mid+1;\n",
    "            } else if (matrix[mid][0] == target || matrix[mid][n-1] == target){\n",
    "                return true;\n",
    "            }\n",
    "        }\n",
    "        \n",
    "        //find target\n",
    "        left = 0;\n",
    "        right = n-1;\n",
    "        int inMid;\n",
    "        while(left <= right){\n",
    "            inMid = (left + right) / 2;\n",
    "            if(matrix[mid][inMid] > target){\n",
    "                right = inMid-1;\n",
    "            } else if (matrix[mid][inMid] < target) {\n",
    "                left = inMid + 1;\n",
    "            } else {\n",
    "                return true;\n",
    "            }\n",
    "            \n",
    "        }\n",
    "        \n",
    "        return false;\n",
    "    }\n",
    "}"
   ]
  },
  {
   "cell_type": "markdown",
   "id": "47689b3f",
   "metadata": {},
   "source": [
    "### Notes:"
   ]
  },
  {
   "cell_type": "markdown",
   "id": "ee0bfef5",
   "metadata": {},
   "source": [
    "The tricky part about this problem is to find the right row to lookk for our target in. After we've found the right row, knowing it's sorted we can perform a simple binary search. How do we find the correct row? Binary search! We look for a row where the smallest element is smaller than target and the biggest element is bigger than target. At that point, we've found our row, and we perform the 2nd binary search to find our target. This solution runs in O(log(max(n, m))."
   ]
  },
  {
   "cell_type": "code",
   "execution_count": null,
   "id": "bd7d8b12",
   "metadata": {},
   "outputs": [],
   "source": []
  }
 ],
 "metadata": {
  "kernelspec": {
   "display_name": "Java",
   "language": "java",
   "name": "java"
  },
  "language_info": {
   "codemirror_mode": "java",
   "file_extension": ".jshell",
   "mimetype": "text/x-java-source",
   "name": "Java",
   "pygments_lexer": "java",
   "version": "9+181"
  }
 },
 "nbformat": 4,
 "nbformat_minor": 5
}
