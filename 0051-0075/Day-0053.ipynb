{
 "cells": [
  {
   "cell_type": "markdown",
   "id": "05c815e5",
   "metadata": {},
   "source": [
    "# LeetCode Problem 589. N-ary Tree Preorder Traversal"
   ]
  },
  {
   "cell_type": "markdown",
   "id": "90b995af",
   "metadata": {},
   "source": [
    "Given the root of an n-ary tree, return the preorder traversal of its nodes' values.\n",
    "\n",
    "Nary-Tree input serialization is represented in their level order traversal. Each group of children is separated by the null value (See examples)"
   ]
  },
  {
   "cell_type": "markdown",
   "id": "2b9737ed",
   "metadata": {},
   "source": [
    "### Examples:"
   ]
  },
  {
   "cell_type": "markdown",
   "id": "ebc051bd",
   "metadata": {},
   "source": [
    "Input: root = [1,null,3,2,4,null,5,6]\n",
    "Output: [1,3,5,6,2,4]\n",
    "\n",
    "Input: root = [1,null,2,3,4,5,null,null,6,7,null,8,null,9,10,null,null,11,null,12,null,13,null,null,14]\n",
    "Output: [1,2,3,6,7,11,14,4,8,12,5,9,13,10]"
   ]
  },
  {
   "cell_type": "markdown",
   "id": "45997377",
   "metadata": {},
   "source": [
    "### Constraints:"
   ]
  },
  {
   "cell_type": "markdown",
   "id": "c507508e",
   "metadata": {},
   "source": [
    "The number of nodes in the tree is in the range [0, 104].<br>\n",
    "0 <= Node.val <= 104<br>\n",
    "The height of the n-ary tree is less than or equal to 1000."
   ]
  },
  {
   "cell_type": "markdown",
   "id": "8d3a23f5",
   "metadata": {},
   "source": [
    "## Problem Solution:"
   ]
  },
  {
   "cell_type": "code",
   "execution_count": 1,
   "id": "d5e7af58",
   "metadata": {},
   "outputs": [],
   "source": [
    "class Node {\n",
    "    public int val;\n",
    "    public List<Node> children;\n",
    "\n",
    "    public Node() {}\n",
    "\n",
    "    public Node(int _val) {\n",
    "        val = _val;\n",
    "    }\n",
    "\n",
    "    public Node(int _val, List<Node> _children) {\n",
    "        val = _val;\n",
    "        children = _children;\n",
    "    }\n",
    "};\n",
    "\n",
    "\n",
    "class Solution {\n",
    "    public List<Integer> preorder(Node root) {\n",
    "        if(root == null) return new ArrayList<>();\n",
    "        return preorderTraversal(root, new ArrayList<>());\n",
    "    }\n",
    "    \n",
    "    public List<Integer> preorderTraversal(Node cur, List<Integer> values){\n",
    "        values.add(cur.val);\n",
    "        for(Node child : cur.children){\n",
    "            preorderTraversal(child, values);\n",
    "        }\n",
    "        return values;\n",
    "    }\n",
    "}"
   ]
  },
  {
   "cell_type": "markdown",
   "id": "47689b3f",
   "metadata": {},
   "source": [
    "### Notes:"
   ]
  },
  {
   "cell_type": "markdown",
   "id": "ee0bfef5",
   "metadata": {},
   "source": [
    "The basis of a pre-order traversal is that the current node is added to the output before traversing its children. Since this is an n-ary tree instead of binary, instead of simply exploring left and right subtrees, we need to explore the entire list of children for each node. This solution is very prone to StackOverflow, so caution should be taken towards the input set."
   ]
  },
  {
   "cell_type": "code",
   "execution_count": null,
   "id": "bd7d8b12",
   "metadata": {},
   "outputs": [],
   "source": []
  }
 ],
 "metadata": {
  "kernelspec": {
   "display_name": "Java",
   "language": "java",
   "name": "java"
  },
  "language_info": {
   "codemirror_mode": "java",
   "file_extension": ".jshell",
   "mimetype": "text/x-java-source",
   "name": "Java",
   "pygments_lexer": "java",
   "version": "9+181"
  }
 },
 "nbformat": 4,
 "nbformat_minor": 5
}
