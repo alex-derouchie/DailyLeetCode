{
 "cells": [
  {
   "cell_type": "markdown",
   "id": "05c815e5",
   "metadata": {},
   "source": [
    "# LeetCode Problem 110. Balanced Binary Tree"
   ]
  },
  {
   "cell_type": "markdown",
   "id": "90b995af",
   "metadata": {},
   "source": [
    "Given a binary tree, determine if it is height-balanced.\n",
    "\n",
    "For this problem, a height-balanced binary tree is defined as:\n",
    "\n",
    "a binary tree in which the left and right subtrees of every node differ in height by no more than 1."
   ]
  },
  {
   "cell_type": "markdown",
   "id": "2b9737ed",
   "metadata": {},
   "source": [
    "### Examples:"
   ]
  },
  {
   "cell_type": "markdown",
   "id": "ebc051bd",
   "metadata": {},
   "source": [
    "Input: root = [3,9,20,null,null,15,7]\n",
    "Output: true\n",
    "\n",
    "Input: root = [1,2,2,3,3,null,null,4,4]\n",
    "Output: false\n",
    "\n",
    "Input: root = []\n",
    "Output: true"
   ]
  },
  {
   "cell_type": "markdown",
   "id": "45997377",
   "metadata": {},
   "source": [
    "### Constraints:"
   ]
  },
  {
   "cell_type": "markdown",
   "id": "c507508e",
   "metadata": {},
   "source": [
    "The number of nodes in the tree is in the range [0, 5000].<br>\n",
    "-10^4 <= Node.val <= 10^4"
   ]
  },
  {
   "cell_type": "markdown",
   "id": "8d3a23f5",
   "metadata": {},
   "source": [
    "## Problem Solution:"
   ]
  },
  {
   "cell_type": "code",
   "execution_count": 1,
   "id": "d5e7af58",
   "metadata": {},
   "outputs": [],
   "source": [
    "\n",
    " //Definition for a binary tree node.\n",
    "public class TreeNode {\n",
    "    int val;\n",
    "    TreeNode left;\n",
    "    TreeNode right;\n",
    "    TreeNode() {}\n",
    "    TreeNode(int val) { this.val = val; }\n",
    "    TreeNode(int val, TreeNode left, TreeNode right) {\n",
    "        this.val = val;\n",
    "        this.left = left;\n",
    "        this.right = right;\n",
    "    }\n",
    "}\n",
    "\n",
    "class Solution {\n",
    "    \n",
    "    boolean balanced = true;\n",
    "    \n",
    "    public boolean isBalanced(TreeNode root) {\n",
    "        maxDepth(root);\n",
    "        return balanced;\n",
    "    }\n",
    "    \n",
    "    public int maxDepth(TreeNode root){\n",
    "        if(root == null || !balanced){\n",
    "            return 0;\n",
    "        }\n",
    "        \n",
    "        int l = maxDepth(root.left);\n",
    "        int r = maxDepth(root.right);\n",
    "        \n",
    "        if(Math.abs(l-r) > 1) balanced = false;\n",
    "        \n",
    "        return 1 + Math.max(l, r);\n",
    "    }\n",
    "}"
   ]
  },
  {
   "cell_type": "markdown",
   "id": "47689b3f",
   "metadata": {},
   "source": [
    "### Notes:"
   ]
  },
  {
   "cell_type": "markdown",
   "id": "ee0bfef5",
   "metadata": {},
   "source": [
    "This solution works intuitively with a recursive approach. We use a recursive helper function to determine the maximum depth of the left and right subtrees of any given node. Simply put, if the depth of each subtree differs by more than one for any node, we know the tree is not balanced. Our base case is when our current TreeNode is null, which is when the pointer has reached the end of its current branch. It then backtracks, adding 1 for each level of the tree. Once the tree has been fully traversed, if the left and right subtrees of the root node do not differ by more than one, the tree is balanced."
   ]
  },
  {
   "cell_type": "code",
   "execution_count": null,
   "id": "bd7d8b12",
   "metadata": {},
   "outputs": [],
   "source": []
  }
 ],
 "metadata": {
  "kernelspec": {
   "display_name": "Java",
   "language": "java",
   "name": "java"
  },
  "language_info": {
   "codemirror_mode": "java",
   "file_extension": ".jshell",
   "mimetype": "text/x-java-source",
   "name": "Java",
   "pygments_lexer": "java",
   "version": "9+181"
  }
 },
 "nbformat": 4,
 "nbformat_minor": 5
}
