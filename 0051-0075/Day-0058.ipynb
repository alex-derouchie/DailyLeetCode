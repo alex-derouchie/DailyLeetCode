{
 "cells": [
  {
   "cell_type": "markdown",
   "id": "05c815e5",
   "metadata": {},
   "source": [
    "# LeetCode Problem 234. Palindrome Linked List"
   ]
  },
  {
   "cell_type": "markdown",
   "id": "90b995af",
   "metadata": {},
   "source": [
    "Given the head of a singly linked list, return true if it is a palindrome."
   ]
  },
  {
   "cell_type": "markdown",
   "id": "2b9737ed",
   "metadata": {},
   "source": [
    "### Examples:"
   ]
  },
  {
   "cell_type": "markdown",
   "id": "ebc051bd",
   "metadata": {},
   "source": [
    "Input: head = [1,2,2,1]\n",
    "Output: true\n",
    "\n",
    "\n",
    "Input: head = [1,2]\n",
    "Output: false"
   ]
  },
  {
   "cell_type": "markdown",
   "id": "45997377",
   "metadata": {},
   "source": [
    "### Constraints:"
   ]
  },
  {
   "cell_type": "markdown",
   "id": "c507508e",
   "metadata": {},
   "source": [
    "The number of nodes in the list is in the range [1, 10^5].<br>\n",
    "0 <= Node.val <= 9"
   ]
  },
  {
   "cell_type": "markdown",
   "id": "8d3a23f5",
   "metadata": {},
   "source": [
    "## Problem Solution:"
   ]
  },
  {
   "cell_type": "code",
   "execution_count": 1,
   "id": "d5e7af58",
   "metadata": {},
   "outputs": [],
   "source": [
    "\n",
    "//Definition for singly-linked list.\n",
    "public class ListNode {\n",
    "      int val;\n",
    "      ListNode next;\n",
    "      ListNode() {}\n",
    "      ListNode(int val) { this.val = val; }\n",
    "      ListNode(int val, ListNode next) { this.val = val; this.next = next; }\n",
    "  }\n",
    "\n",
    "class Solution {\n",
    "    public boolean isPalindrome(ListNode head) {\n",
    "        if(head.next == null) return true;\n",
    "        \n",
    "        //find middle\n",
    "        ListNode walker = head;\n",
    "        ListNode runner = head;\n",
    "        while(runner != null && runner.next != null){\n",
    "            walker = walker.next;\n",
    "            runner = runner.next.next;\n",
    "        }\n",
    "        \n",
    "        //reverse second half\n",
    "        ListNode rev = null;\n",
    "        while(walker != null){\n",
    "            ListNode next = walker.next;\n",
    "            walker.next = rev;\n",
    "            rev = walker;\n",
    "            walker = next;\n",
    "        }\n",
    "        \n",
    "        //check if first half == second half\n",
    "        while(rev != null){\n",
    "            if(head.val != rev.val) return false;\n",
    "            head = head.next;\n",
    "            rev = rev.next;\n",
    "        }\n",
    "        return true;\n",
    "    }\n",
    "}"
   ]
  },
  {
   "cell_type": "markdown",
   "id": "47689b3f",
   "metadata": {},
   "source": [
    "### Notes:"
   ]
  },
  {
   "cell_type": "markdown",
   "id": "ee0bfef5",
   "metadata": {},
   "source": [
    "In this solution, we merely observe that, in order for a sequence to be a palindrome, the second half of the sequence must equal the reverse of the first half. With this in mind, we use a combination of simple algorithms to find the middle of the linked list, reverse the second half of the list, then simply step through each half of the list one element at a time, checking for equivalency. If we reach the end of the list, it is a palindrome, otherwise it is not."
   ]
  },
  {
   "cell_type": "code",
   "execution_count": null,
   "id": "bd7d8b12",
   "metadata": {},
   "outputs": [],
   "source": []
  }
 ],
 "metadata": {
  "kernelspec": {
   "display_name": "Java",
   "language": "java",
   "name": "java"
  },
  "language_info": {
   "codemirror_mode": "java",
   "file_extension": ".jshell",
   "mimetype": "text/x-java-source",
   "name": "Java",
   "pygments_lexer": "java",
   "version": "9+181"
  }
 },
 "nbformat": 4,
 "nbformat_minor": 5
}
