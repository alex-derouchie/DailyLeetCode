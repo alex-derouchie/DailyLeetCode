{
 "cells": [
  {
   "cell_type": "markdown",
   "id": "05c815e5",
   "metadata": {},
   "source": [
    "# LeetCode Problem 621. Task Scheduler"
   ]
  },
  {
   "cell_type": "markdown",
   "id": "90b995af",
   "metadata": {},
   "source": [
    "Given a characters array tasks, representing the tasks a CPU needs to do, where each letter represents a different task. Tasks could be done in any order. Each task is done in one unit of time. For each unit of time, the CPU could complete either one task or just be idle.\n",
    "\n",
    "However, there is a non-negative integer n that represents the cooldown period between two same tasks (the same letter in the array), that is that there must be at least n units of time between any two same tasks.\n",
    "\n",
    "Return the least number of units of times that the CPU will take to finish all the given tasks."
   ]
  },
  {
   "cell_type": "markdown",
   "id": "2b9737ed",
   "metadata": {},
   "source": [
    "### Examples:"
   ]
  },
  {
   "cell_type": "markdown",
   "id": "ebc051bd",
   "metadata": {},
   "source": [
    "Input: tasks = [\"A\",\"A\",\"A\",\"B\",\"B\",\"B\"], n = 2<br>\n",
    "Output: 8<br>\n",
    "Explanation: <br>\n",
    "A -> B -> idle -> A -> B -> idle -> A -> B<br>\n",
    "There is at least 2 units of time between any two same tasks.<br>\n",
    "\n",
    "<br>\n",
    "Input: tasks = [\"A\",\"A\",\"A\",\"B\",\"B\",\"B\"], n = 0<br>\n",
    "Output: 6<br>\n",
    "Explanation: On this case any permutation of size 6 would work since n = 0.<br>\n",
    "[\"A\",\"A\",\"A\",\"B\",\"B\",\"B\"]<br>\n",
    "[\"A\",\"B\",\"A\",\"B\",\"A\",\"B\"]<br>\n",
    "[\"B\",\"B\",\"B\",\"A\",\"A\",\"A\"]<br>\n",
    "...<br>\n",
    "And so on.<br>\n",
    "\n",
    "<br>\n",
    "Input: tasks = [\"A\",\"A\",\"A\",\"A\",\"A\",\"A\",\"B\",\"C\",\"D\",\"E\",\"F\",\"G\"], n = 2<br>\n",
    "Output: 16<br>\n",
    "Explanation: <br>\n",
    "One possible solution is<br>\n",
    "A -> B -> C -> A -> D -> E -> A -> F -> G -> A -> idle -> idle -> A -> idle -> idle -> A<br>"
   ]
  },
  {
   "cell_type": "markdown",
   "id": "45997377",
   "metadata": {},
   "source": [
    "### Constraints:"
   ]
  },
  {
   "cell_type": "markdown",
   "id": "c507508e",
   "metadata": {},
   "source": [
    "1 <= task.length <= 10^4<br>\n",
    "tasks[i] is upper-case English letter.<br>\n",
    "The integer n is in the range [0, 100]."
   ]
  },
  {
   "cell_type": "markdown",
   "id": "8d3a23f5",
   "metadata": {},
   "source": [
    "## Problem Solution:"
   ]
  },
  {
   "cell_type": "code",
   "execution_count": 1,
   "id": "d5e7af58",
   "metadata": {},
   "outputs": [],
   "source": [
    "class Solution {\n",
    "    public int leastInterval(char[] tasks, int n) {\n",
    "        if(n == 0) return tasks.length;\n",
    "        int max = 0, maxCount = 0;\n",
    "        int[] chars = new int[26];\n",
    "        for(char c : tasks){\n",
    "            chars[c-'A']++;\n",
    "            if(chars[c-'A'] == max) maxCount++;\n",
    "            if(max < chars[c-'A']){\n",
    "                max = chars[c-'A'];\n",
    "                maxCount = 1;\n",
    "            }\n",
    "        }\n",
    "        \n",
    "        int intervals = max-1;\n",
    "        int intervalSize = n-(maxCount-1);\n",
    "        int spaces = intervals*intervalSize;\n",
    "        int idles = Math.max(0, spaces-(tasks.length-(max*maxCount)));\n",
    "        \n",
    "        return tasks.length + idles;\n",
    "    }\n",
    "}"
   ]
  },
  {
   "cell_type": "markdown",
   "id": "47689b3f",
   "metadata": {},
   "source": [
    "### Notes:"
   ]
  },
  {
   "cell_type": "markdown",
   "id": "ee0bfef5",
   "metadata": {},
   "source": [
    "We use a mathematical approach to solve this problem. We observe that the size of the final schedule (which is all we need to return) is equal to the number of tasks plus any idles, so we focus on calculating the amount of idles. We count up the amount each task occurs, keeping track of the maximum frequency and how many different tasks have that frequency (i.e. if 'A' and 'B' both have 4 occurences). Since a task can only occur every n steps, we know that the schedule will be divided into intervals of size n. The amount of intervals is equal to the max frequency-1 in order to sufficiently spread the most common letter. we update the size of the interval to account for the amount of most common tasks (if there are 3 different tasks tied for most frequent, they all need space in the interval). We can calculate the remaining spaces by multiplying the updated interval size by the amount of intervals. Since we've already populated the schedule with the most common elements, we know the rest of the elements can fit in between them. We calculate the amount of idles by subtracting the amount of remaining elements by the available spaces (or zero if no idles are needed)"
   ]
  },
  {
   "cell_type": "code",
   "execution_count": null,
   "id": "bd7d8b12",
   "metadata": {},
   "outputs": [],
   "source": []
  }
 ],
 "metadata": {
  "kernelspec": {
   "display_name": "Java",
   "language": "java",
   "name": "java"
  },
  "language_info": {
   "codemirror_mode": "java",
   "file_extension": ".jshell",
   "mimetype": "text/x-java-source",
   "name": "Java",
   "pygments_lexer": "java",
   "version": "9+181"
  }
 },
 "nbformat": 4,
 "nbformat_minor": 5
}
