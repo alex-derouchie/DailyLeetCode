{
 "cells": [
  {
   "cell_type": "markdown",
   "id": "05c815e5",
   "metadata": {},
   "source": [
    "# LeetCode Problem 169: Majority Element"
   ]
  },
  {
   "cell_type": "markdown",
   "id": "90b995af",
   "metadata": {},
   "source": [
    "Given an array nums of size n, return the majority element.\n",
    "\n",
    "The majority element is the element that appears more than ⌊n / 2⌋ times. You may assume that the majority element always exists in the array."
   ]
  },
  {
   "cell_type": "markdown",
   "id": "2b9737ed",
   "metadata": {},
   "source": [
    "### Examples:"
   ]
  },
  {
   "cell_type": "markdown",
   "id": "ebc051bd",
   "metadata": {},
   "source": [
    "Input: nums = [3,2,3]\n",
    "Output: 3\n",
    "\n",
    "Input: nums = [2,2,1,1,1,2,2]\n",
    "Output: 2"
   ]
  },
  {
   "cell_type": "markdown",
   "id": "45997377",
   "metadata": {},
   "source": [
    "### Constraints:"
   ]
  },
  {
   "cell_type": "markdown",
   "id": "c507508e",
   "metadata": {},
   "source": [
    "n == nums.length<br>\n",
    "1 <= n <= 5 * 104<br>\n",
    "-109 <= nums[i] <= 109"
   ]
  },
  {
   "cell_type": "markdown",
   "id": "8d3a23f5",
   "metadata": {},
   "source": [
    "## Problem Solution:"
   ]
  },
  {
   "cell_type": "code",
   "execution_count": 2,
   "id": "d5e7af58",
   "metadata": {},
   "outputs": [],
   "source": [
    "class Solution {\n",
    "    public int majorityElement(int[] nums) {\n",
    "        int count = 0;\n",
    "        int cand = nums[0];\n",
    "        for(int i=0;i<nums.length;i++){\n",
    "            if(count == 0) cand = nums[i];\n",
    "            if(cand == nums[i]){\n",
    "                count++;\n",
    "            } else {\n",
    "                count--;\n",
    "            }\n",
    "        }\n",
    "        return cand;\n",
    "    }\n",
    "}"
   ]
  },
  {
   "cell_type": "markdown",
   "id": "47689b3f",
   "metadata": {},
   "source": [
    "### Notes:"
   ]
  },
  {
   "cell_type": "markdown",
   "id": "ee0bfef5",
   "metadata": {},
   "source": [
    "This solution takes advantage of the fact that there is an element that appears <b>more than</b> n/2 times. Since we know this, we use the Boyer-Moore majority algorithm. We use a counter and a temp value to increment when the current element is equal to the temp value and decrement otherwise. If the counter hits zero, we know this cannot be the majority element so we replace the temp value with the current element and keep going. This algorithm only works since we can guarantee that there exists a majority element."
   ]
  },
  {
   "cell_type": "code",
   "execution_count": null,
   "id": "bd7d8b12",
   "metadata": {},
   "outputs": [],
   "source": []
  }
 ],
 "metadata": {
  "kernelspec": {
   "display_name": "Java",
   "language": "java",
   "name": "java"
  },
  "language_info": {
   "codemirror_mode": "java",
   "file_extension": ".jshell",
   "mimetype": "text/x-java-source",
   "name": "Java",
   "pygments_lexer": "java",
   "version": "9+181"
  }
 },
 "nbformat": 4,
 "nbformat_minor": 5
}
