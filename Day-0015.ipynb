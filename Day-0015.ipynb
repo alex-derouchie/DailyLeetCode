{
 "cells": [
  {
   "cell_type": "markdown",
   "id": "05c815e5",
   "metadata": {},
   "source": [
    "# LeetCode Problem 701: Insert into a Binary Search Tree"
   ]
  },
  {
   "cell_type": "markdown",
   "id": "90b995af",
   "metadata": {},
   "source": [
    "You are given the root node of a binary search tree (BST) and a value to insert into the tree. Return the root node of the BST after the insertion. It is guaranteed that the new value does not exist in the original BST.\n",
    "\n",
    "Notice that there may exist multiple valid ways for the insertion, as long as the tree remains a BST after insertion. You can return any of them."
   ]
  },
  {
   "cell_type": "markdown",
   "id": "2b9737ed",
   "metadata": {},
   "source": [
    "### Examples:"
   ]
  },
  {
   "cell_type": "markdown",
   "id": "ebc051bd",
   "metadata": {},
   "source": [
    "Input: root = [4,2,7,1,3], val = 5\n",
    "Output: [4,2,7,1,3,5]\n",
    "\n",
    "Input: root = [40,20,60,10,30,50,70], val = 25\n",
    "Output: [40,20,60,10,30,50,70,null,null,25]\n",
    "\n",
    "Input: root = [4,2,7,1,3,null,null,null,null,null,null], val = 5\n",
    "Output: [4,2,7,1,3,5]"
   ]
  },
  {
   "cell_type": "markdown",
   "id": "45997377",
   "metadata": {},
   "source": [
    "### Constraints:"
   ]
  },
  {
   "cell_type": "markdown",
   "id": "c507508e",
   "metadata": {},
   "source": [
    "The number of nodes in the tree will be in the range [0, 104].<br>\n",
    "-108 <= Node.val <= 108<br>\n",
    "All the values Node.val are unique.<br>\n",
    "-108 <= val <= 108<br>\n",
    "It's guaranteed that val does not exist in the original BST."
   ]
  },
  {
   "cell_type": "markdown",
   "id": "8d3a23f5",
   "metadata": {},
   "source": [
    "## Problem Solution:"
   ]
  },
  {
   "cell_type": "code",
   "execution_count": 2,
   "id": "d5e7af58",
   "metadata": {},
   "outputs": [],
   "source": [
    "  public class TreeNode {\n",
    "      int val;\n",
    "      TreeNode left;\n",
    "      TreeNode right;\n",
    "      TreeNode() {}\n",
    "      TreeNode(int val) { this.val = val; }\n",
    "      TreeNode(int val, TreeNode left, TreeNode right) {\n",
    "          this.val = val;\n",
    "          this.left = left;\n",
    "          this.right = right;\n",
    "      }\n",
    " }\n",
    "\n",
    "class Solution {\n",
    "    public TreeNode insertIntoBST(TreeNode root, int val) {\n",
    "        if(root == null) return new TreeNode(val);\n",
    "        TreeNode pointer = root;\n",
    "        traverseAndInsert(pointer, val);\n",
    "        return root;\n",
    "    }\n",
    "    \n",
    "    public void traverseAndInsert(TreeNode node, int val){\n",
    "        if(node.val > val){\n",
    "            if(node.left == null){\n",
    "                node.left = new TreeNode(val);\n",
    "                return;\n",
    "            }\n",
    "            traverseAndInsert(node.left, val);\n",
    "        } else {\n",
    "            if(node.right == null){\n",
    "                node.right = new TreeNode(val);\n",
    "                return;\n",
    "            }\n",
    "            traverseAndInsert(node.right, val);\n",
    "        }\n",
    "    }\n",
    "}"
   ]
  },
  {
   "cell_type": "markdown",
   "id": "47689b3f",
   "metadata": {},
   "source": [
    "### Notes:"
   ]
  },
  {
   "cell_type": "markdown",
   "id": "ee0bfef5",
   "metadata": {},
   "source": [
    "This approach uses a helper method with a pointer to traverse the tree to find the leaf node to which argument val can correctly be added as a new child node. When it is found, the new node is created and the original method returns the original head with the new Node added."
   ]
  },
  {
   "cell_type": "code",
   "execution_count": null,
   "id": "bd7d8b12",
   "metadata": {},
   "outputs": [],
   "source": []
  }
 ],
 "metadata": {
  "kernelspec": {
   "display_name": "Java",
   "language": "java",
   "name": "java"
  },
  "language_info": {
   "codemirror_mode": "java",
   "file_extension": ".jshell",
   "mimetype": "text/x-java-source",
   "name": "Java",
   "pygments_lexer": "java",
   "version": "9+181"
  }
 },
 "nbformat": 4,
 "nbformat_minor": 5
}
