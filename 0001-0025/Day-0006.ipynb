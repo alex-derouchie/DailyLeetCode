{
 "cells": [
  {
   "cell_type": "markdown",
   "id": "59f8a80b",
   "metadata": {},
   "source": [
    "# LeetCode Problem 19: Remove Nth Node From End of List"
   ]
  },
  {
   "cell_type": "markdown",
   "id": "2eaac120",
   "metadata": {},
   "source": [
    "Given the head of a linked list, remove the nth node from the end of the list and return its head."
   ]
  },
  {
   "cell_type": "markdown",
   "id": "5d41984e",
   "metadata": {},
   "source": [
    "### Examples:"
   ]
  },
  {
   "cell_type": "markdown",
   "id": "98af7f41",
   "metadata": {},
   "source": [
    "Input: head = [1,2,3,4,5], n = 2\n",
    "Output: [1,2,3,5]\n",
    "\n",
    "Input: head = [1], n = 1\n",
    "Output: []\n",
    "\n",
    "Input: head = [1,2], n = 1\n",
    "Output: [1]"
   ]
  },
  {
   "cell_type": "markdown",
   "id": "cf0be8c0",
   "metadata": {},
   "source": [
    "### Constraints:"
   ]
  },
  {
   "cell_type": "markdown",
   "id": "4381d906",
   "metadata": {},
   "source": [
    "The number of nodes in the list is sz.\n",
    "\n",
    "1 <= sz <= 30\n",
    "\n",
    "0 <= Node.val <= 100\n",
    "\n",
    "1 <= n <= sz"
   ]
  },
  {
   "cell_type": "markdown",
   "id": "59406ec3",
   "metadata": {},
   "source": [
    "## Problem Solution:"
   ]
  },
  {
   "cell_type": "code",
   "execution_count": 2,
   "id": "1783de42",
   "metadata": {},
   "outputs": [],
   "source": [
    "//Alex Derouchie, 2022\n",
    "\n",
    "//Definition for singly-linked list.\n",
    "public class ListNode {\n",
    "     int val;\n",
    "     ListNode next;\n",
    "     ListNode() {}\n",
    "     ListNode(int val) { this.val = val; }\n",
    "     ListNode(int val, ListNode next) { this.val = val; this.next = next; }\n",
    "}\n",
    " \n",
    "class Solution {\n",
    "    public ListNode removeNthFromEnd(ListNode head, int n) {\n",
    "        ListNode leader = head, trailer = head;\n",
    "        \n",
    "        //Advance leader n+1 steps ahead of trailer\n",
    "        for(int i=0;i<=n;i++){\n",
    "            //n == number of nodes, simply remove first node\n",
    "            if(leader == null) return head.next;\n",
    "            \n",
    "            leader = leader.next;\n",
    "        }\n",
    "\n",
    "        //Advance both pointers until leader hits the end\n",
    "        while(leader != null){\n",
    "            leader = leader.next;\n",
    "            trailer = trailer.next;\n",
    "        }\n",
    "        \n",
    "        //Trailer is 1 before the nth node from the end, skip next\n",
    "        trailer.next = trailer.next.next;\n",
    "        \n",
    "        return head;\n",
    "    }\n",
    "}"
   ]
  },
  {
   "cell_type": "markdown",
   "id": "ebcdd8d9",
   "metadata": {},
   "source": [
    "### Notes:"
   ]
  },
  {
   "cell_type": "markdown",
   "id": "795f59c7",
   "metadata": {},
   "source": [
    "This solution uses two separate pointers to implement a one pass approach. since we can't backtrack on a singly linked list, and we don't know where the end of the list is until we traverse it, we use two pointers that are spaced n+1 nodes apart and advance both until the leader hits the end. At this point, the trailer pointer's next node is the nth node, so it is skipped and the head is returned."
   ]
  },
  {
   "cell_type": "code",
   "execution_count": null,
   "id": "7494b567",
   "metadata": {},
   "outputs": [],
   "source": []
  }
 ],
 "metadata": {
  "kernelspec": {
   "display_name": "Java",
   "language": "java",
   "name": "java"
  },
  "language_info": {
   "codemirror_mode": "java",
   "file_extension": ".jshell",
   "mimetype": "text/x-java-source",
   "name": "Java",
   "pygments_lexer": "java",
   "version": "9+181"
  }
 },
 "nbformat": 4,
 "nbformat_minor": 5
}
