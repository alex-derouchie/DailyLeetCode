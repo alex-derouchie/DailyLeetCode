{
 "cells": [
  {
   "cell_type": "markdown",
   "id": "7490b4a1",
   "metadata": {},
   "source": [
    "# LeetCode Problem 98: Validate Binary Search Tree"
   ]
  },
  {
   "cell_type": "markdown",
   "id": "e067cbde",
   "metadata": {},
   "source": [
    "Given the root of a binary tree, determine if it is a valid binary search tree (BST).\n",
    "\n",
    "A valid BST is defined as follows:\n",
    "\n",
    "The left subtree of a node contains only nodes with keys less than the node's key.\n",
    "The right subtree of a node contains only nodes with keys greater than the node's key.\n",
    "Both the left and right subtrees must also be binary search trees."
   ]
  },
  {
   "cell_type": "markdown",
   "id": "cfcb7e6a",
   "metadata": {},
   "source": [
    "### Examples:"
   ]
  },
  {
   "cell_type": "markdown",
   "id": "95149a39",
   "metadata": {},
   "source": [
    "Input: root = [2,1,3]\n",
    "Output: true\n",
    "\n",
    "Input: root = [5,1,4,null,null,3,6]\n",
    "Output: false\n",
    "Explanation: The root node's value is 5 but its right child's value is 4."
   ]
  },
  {
   "cell_type": "markdown",
   "id": "375022ba",
   "metadata": {},
   "source": [
    "### Constraints:"
   ]
  },
  {
   "cell_type": "markdown",
   "id": "2b1663a6",
   "metadata": {},
   "source": [
    "The number of nodes in the tree is in the range [1, 104].\n",
    "\n",
    "-2^31 <= Node.val <= 2^31 - 1"
   ]
  },
  {
   "cell_type": "markdown",
   "id": "50ae223c",
   "metadata": {},
   "source": [
    "## Problem Solution:"
   ]
  },
  {
   "cell_type": "code",
   "execution_count": 1,
   "id": "3067fd89",
   "metadata": {},
   "outputs": [],
   "source": [
    "\n",
    "//Definition for a binary tree node.\n",
    "public class TreeNode {\n",
    "  int val;\n",
    "  TreeNode left;\n",
    "  TreeNode right;\n",
    "  TreeNode() {}\n",
    "  TreeNode(int val) { this.val = val; }\n",
    "  TreeNode(int val, TreeNode left, TreeNode right) {\n",
    "      this.val = val;\n",
    "      this.left = left;\n",
    "      this.right = right;\n",
    " }\n",
    "}\n",
    " \n",
    "class Solution {\n",
    "    public boolean isValidBST(TreeNode root) {\n",
    "        return validBSTHelper(root, null, null);\n",
    "    }\n",
    "    \n",
    "    public boolean validBSTHelper(TreeNode root, Integer min, Integer max){\n",
    "        if(root == null) return true;\n",
    "        if(min != null && root.val <= min || max != null && root.val >= max) return false;\n",
    "        return validBSTHelper(root.left, min, root.val) && validBSTHelper(root.right, root.val, max);\n",
    "    }\n",
    "}"
   ]
  },
  {
   "cell_type": "markdown",
   "id": "7289d5ea",
   "metadata": {},
   "source": [
    "### Notes:"
   ]
  },
  {
   "cell_type": "markdown",
   "id": "162d21e5",
   "metadata": {},
   "source": [
    "This solution is a recursive preorder traversal of the tree that uses a helper class to keep track of the maximum and minumum valid values a given node can take given the previous nodes in the tree. If a node's value is outside the given bounds, the search tree is invalid, so it returns false. If every node falls within the valid bounds, the search tree is valid & the method returns true."
   ]
  },
  {
   "cell_type": "code",
   "execution_count": null,
   "id": "4f031b0e",
   "metadata": {},
   "outputs": [],
   "source": []
  }
 ],
 "metadata": {
  "kernelspec": {
   "display_name": "Java",
   "language": "java",
   "name": "java"
  },
  "language_info": {
   "codemirror_mode": "java",
   "file_extension": ".jshell",
   "mimetype": "text/x-java-source",
   "name": "Java",
   "pygments_lexer": "java",
   "version": "9+181"
  }
 },
 "nbformat": 4,
 "nbformat_minor": 5
}
