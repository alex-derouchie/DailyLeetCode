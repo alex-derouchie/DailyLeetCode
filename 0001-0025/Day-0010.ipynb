{
 "cells": [
  {
   "cell_type": "markdown",
   "id": "7490b4a1",
   "metadata": {},
   "source": [
    "# LeetCode Problem 88: Merge Sorted Array"
   ]
  },
  {
   "cell_type": "markdown",
   "id": "e067cbde",
   "metadata": {},
   "source": [
    "You are given two integer arrays nums1 and nums2, sorted in non-decreasing order, and two integers m and n, representing the number of elements in nums1 and nums2 respectively.\n",
    "\n",
    "Merge nums1 and nums2 into a single array sorted in non-decreasing order.\n",
    "\n",
    "The final sorted array should not be returned by the function, but instead be stored inside the array nums1. To accommodate this, nums1 has a length of m + n, where the first m elements denote the elements that should be merged, and the last n elements are set to 0 and should be ignored. nums2 has a length of n."
   ]
  },
  {
   "cell_type": "markdown",
   "id": "cfcb7e6a",
   "metadata": {},
   "source": [
    "### Examples:"
   ]
  },
  {
   "cell_type": "markdown",
   "id": "95149a39",
   "metadata": {},
   "source": [
    "Input: nums1 = [1,2,3,0,0,0], m = 3, nums2 = [2,5,6], n = 3\n",
    "Output: [1,2,2,3,5,6]\n",
    "Explanation: The arrays we are merging are [1,2,3] and [2,5,6].\n",
    "The result of the merge is [1,2,2,3,5,6] with the underlined elements coming from nums1.\n",
    "\n",
    "Input: nums1 = [1], m = 1, nums2 = [], n = 0\n",
    "Output: [1]\n",
    "Explanation: The arrays we are merging are [1] and [].\n",
    "The result of the merge is [1].\n",
    "\n",
    "Input: nums1 = [0], m = 0, nums2 = [1], n = 1\n",
    "Output: [1]\n",
    "Explanation: The arrays we are merging are [] and [1].\n",
    "The result of the merge is [1].\n",
    "Note that because m = 0, there are no elements in nums1. The 0 is only there to ensure the merge result can fit in nums1."
   ]
  },
  {
   "cell_type": "markdown",
   "id": "375022ba",
   "metadata": {},
   "source": [
    "### Constraints:"
   ]
  },
  {
   "cell_type": "markdown",
   "id": "2b1663a6",
   "metadata": {},
   "source": [
    "nums1.length == m + n\n",
    "\n",
    "nums2.length == n\n",
    "\n",
    "0 <= m, n <= 200\n",
    "\n",
    "1 <= m + n <= 200\n",
    "\n",
    "-109 <= nums1[i], nums2[j] <= 109"
   ]
  },
  {
   "cell_type": "markdown",
   "id": "50ae223c",
   "metadata": {},
   "source": [
    "## Problem Solution:"
   ]
  },
  {
   "cell_type": "code",
   "execution_count": 1,
   "id": "3067fd89",
   "metadata": {},
   "outputs": [],
   "source": [
    "class Solution {\n",
    "    public void merge(int[] nums1, int m, int[] nums2, int n) {\n",
    "        int[] output = new int[m+n];\n",
    "        int point1 = 0, point2 = 0;\n",
    "        for(int i=0;i<m+n; i++){\n",
    "            if(point1 >= m){\n",
    "                output[i] = nums2[point2++];\n",
    "            } else if (point2 >= n){\n",
    "                output[i] = nums1[point1++];\n",
    "            } else if(nums1[point1] <= nums2[point2]){\n",
    "                output[i] = nums1[point1++];\n",
    "            } else {\n",
    "                output[i] = nums2[point2++];\n",
    "            }\n",
    "        }\n",
    "        for(int j=0;j<m+n;j++){\n",
    "            nums1[j] = output[j];\n",
    "        }\n",
    "    }\n",
    "}"
   ]
  },
  {
   "cell_type": "markdown",
   "id": "7289d5ea",
   "metadata": {},
   "source": [
    "### Notes:"
   ]
  },
  {
   "cell_type": "markdown",
   "id": "162d21e5",
   "metadata": {},
   "source": [
    "This solution creates a loop of size m+n (the size of the final output), and uses two pointers that keep track of the smallest unused element in each array, starting at 0. for each iteration of the array, the next smallest element in either of the two arrays must be one of the elements the two pointers are referencing. In the loop, the smallest of the two elements is added to the output list, and that pointer is incremented. By the end of the loop, both pointers will have reached the end of their respective arrays, with the output array being a sorted array of all the elements of nums1 and nums2. As per the problem description, the output array is copied into nums1."
   ]
  },
  {
   "cell_type": "code",
   "execution_count": null,
   "id": "4f031b0e",
   "metadata": {},
   "outputs": [],
   "source": []
  }
 ],
 "metadata": {
  "kernelspec": {
   "display_name": "Java",
   "language": "java",
   "name": "java"
  },
  "language_info": {
   "codemirror_mode": "java",
   "file_extension": ".jshell",
   "mimetype": "text/x-java-source",
   "name": "Java",
   "pygments_lexer": "java",
   "version": "9+181"
  }
 },
 "nbformat": 4,
 "nbformat_minor": 5
}
