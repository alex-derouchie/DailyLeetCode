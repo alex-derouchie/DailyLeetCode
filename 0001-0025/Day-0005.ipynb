{
 "cells": [
  {
   "cell_type": "markdown",
   "id": "8c7fc089",
   "metadata": {},
   "source": [
    "# LeetCode Problem 876: Middle of the Linked List"
   ]
  },
  {
   "cell_type": "markdown",
   "id": "f3272ccd",
   "metadata": {},
   "source": [
    "Given the head of a singly linked list, return the middle node of the linked list.\n",
    "\n",
    "If there are two middle nodes, return the second middle node."
   ]
  },
  {
   "cell_type": "markdown",
   "id": "981f080a",
   "metadata": {},
   "source": [
    "### Examples:"
   ]
  },
  {
   "cell_type": "markdown",
   "id": "a980a275",
   "metadata": {},
   "source": [
    "Input: head = [1,2,3,4,5]\n",
    "Output: [3,4,5]\n",
    "Explanation: The middle node of the list is node 3.\n",
    "\n",
    "Input: head = [1,2,3,4,5,6]\n",
    "Output: [4,5,6]\n",
    "Explanation: Since the list has two middle nodes with values 3 and 4, we return the second one."
   ]
  },
  {
   "cell_type": "markdown",
   "id": "3b2dfcfc",
   "metadata": {},
   "source": [
    "### Constraints:"
   ]
  },
  {
   "cell_type": "markdown",
   "id": "c8f665f0",
   "metadata": {},
   "source": [
    "The number of nodes in the list is in the range [1, 100].\n",
    "\n",
    "1 <= Node.val <= 100"
   ]
  },
  {
   "cell_type": "markdown",
   "id": "0f41d1a9",
   "metadata": {},
   "source": [
    "## Problem Solution:"
   ]
  },
  {
   "cell_type": "code",
   "execution_count": 3,
   "id": "7d69f981",
   "metadata": {},
   "outputs": [],
   "source": [
    "//Alex Deoruchie, 2022\n",
    "\n",
    "//Definition for singly-linked list.\n",
    "public class ListNode {\n",
    "    int val;\n",
    "    ListNode next;\n",
    "    ListNode() {}\n",
    "    ListNode(int val) { this.val = val; }\n",
    "    ListNode(int val, ListNode next) { this.val = val; this.next = next; }\n",
    "}\n",
    "\n",
    "class Solution {\n",
    "    public ListNode middleNode(ListNode head) {\n",
    "        ListNode runner = head;\n",
    "        ListNode walker = head;\n",
    "        while(runner.next != null){\n",
    "            runner = runner.next.next;\n",
    "            walker = walker.next;\n",
    "            if(runner == null) break;\n",
    "        }\n",
    "        return walker;\n",
    "    }\n",
    "}"
   ]
  },
  {
   "cell_type": "markdown",
   "id": "3b120e79",
   "metadata": {},
   "source": [
    "### Notes:"
   ]
  },
  {
   "cell_type": "markdown",
   "id": "eade7a90",
   "metadata": {},
   "source": [
    "This solution uses a two pointer runner/walker approach. if we use a 'runner' that skips 2 until it reaches the end of the list, and another pointer that 'walks' 1 node for every 2 steps of the runner, by the time the runner reaches the end of the list, the walker will be in the middle of the list. We simply return the walker.\n",
    "\n",
    "Note that the input 'head' could be used as either the walker or runner to save space. I initialized two pointers for better readability, considering the number of nodes in the LinkedList is constrained to 100 nodes."
   ]
  },
  {
   "cell_type": "code",
   "execution_count": null,
   "id": "ebbafc98",
   "metadata": {},
   "outputs": [],
   "source": []
  }
 ],
 "metadata": {
  "kernelspec": {
   "display_name": "Java",
   "language": "java",
   "name": "java"
  },
  "language_info": {
   "codemirror_mode": "java",
   "file_extension": ".jshell",
   "mimetype": "text/x-java-source",
   "name": "Java",
   "pygments_lexer": "java",
   "version": "9+181"
  }
 },
 "nbformat": 4,
 "nbformat_minor": 5
}
