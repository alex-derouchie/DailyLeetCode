{
 "cells": [
  {
   "cell_type": "markdown",
   "id": "7490b4a1",
   "metadata": {},
   "source": [
    "# LeetCode Problem 278: First Bad Version"
   ]
  },
  {
   "cell_type": "markdown",
   "id": "e067cbde",
   "metadata": {},
   "source": [
    "You are a product manager and currently leading a team to develop a new product. Unfortunately, the latest version of your product fails the quality check. Since each version is developed based on the previous version, all the versions after a bad version are also bad.\n",
    "\n",
    "Suppose you have n versions [1, 2, ..., n] and you want to find out the first bad one, which causes all the following ones to be bad.\n",
    "\n",
    "You are given an API bool isBadVersion(version) which returns whether version is bad. Implement a function to find the first bad version. You should minimize the number of calls to the API."
   ]
  },
  {
   "cell_type": "markdown",
   "id": "cfcb7e6a",
   "metadata": {},
   "source": [
    "### Examples:"
   ]
  },
  {
   "cell_type": "markdown",
   "id": "95149a39",
   "metadata": {},
   "source": [
    "Input: n = 5, bad = 4\n",
    "Output: 4\n",
    "Explanation:\n",
    "call isBadVersion(3) -> false\n",
    "call isBadVersion(5) -> true\n",
    "call isBadVersion(4) -> true\n",
    "Then 4 is the first bad version.\n",
    "\n",
    "Input: n = 1, bad = 1\n",
    "Output: 1"
   ]
  },
  {
   "cell_type": "markdown",
   "id": "375022ba",
   "metadata": {},
   "source": [
    "### Constraints:"
   ]
  },
  {
   "cell_type": "markdown",
   "id": "2b1663a6",
   "metadata": {},
   "source": [
    "1 <= bad <= n <= 231 - 1"
   ]
  },
  {
   "cell_type": "markdown",
   "id": "50ae223c",
   "metadata": {},
   "source": [
    "## Problem Solution:"
   ]
  },
  {
   "cell_type": "code",
   "execution_count": 2,
   "id": "3067fd89",
   "metadata": {},
   "outputs": [
    {
     "ename": "CompilationException",
     "evalue": "",
     "output_type": "error",
     "traceback": [
      "\u001b[1m\u001b[30m|   \u001b[1m\u001b[30m/* The isBadVersion API is defined in the parent class VersionControl.\u001b[0m",
      "\u001b[1m\u001b[30m|   \u001b[1m\u001b[30mboolean isBadVersion(int version); */\u001b[0m",
      "\u001b[1m\u001b[30m|   \u001b[1m\u001b[30m\u001b[0m",
      "\u001b[1m\u001b[30m|   \u001b[1m\u001b[30mpublic class Solution extends VersionControl {\u001b[0m",
      "\u001b[1m\u001b[30m|   \u001b[1m\u001b[30m    public int firstBadVersion(int n) {\u001b[0m",
      "\u001b[1m\u001b[30m|   \u001b[1m\u001b[30m        int left = 1, right = n;\u001b[0m",
      "\u001b[1m\u001b[30m|   \u001b[1m\u001b[30m        while(left < right){\u001b[0m",
      "\u001b[1m\u001b[30m|   \u001b[1m\u001b[30m            int mid = left + (right-left)/2;\u001b[0m",
      "\u001b[1m\u001b[30m|   \u001b[1m\u001b[30m            if(!isBadVersion(mid)){\u001b[0m",
      "\u001b[1m\u001b[30m|   \u001b[1m\u001b[30m                left = mid+1;\u001b[0m",
      "\u001b[1m\u001b[30m|   \u001b[1m\u001b[30m            }else{\u001b[0m",
      "\u001b[1m\u001b[30m|   \u001b[1m\u001b[30m                right = mid;\u001b[0m",
      "\u001b[1m\u001b[30m|   \u001b[1m\u001b[30m            }\u001b[0m",
      "\u001b[1m\u001b[30m|   \u001b[1m\u001b[30m        }\u001b[0m",
      "\u001b[1m\u001b[30m|   \u001b[1m\u001b[30m        return left;\u001b[0m",
      "\u001b[1m\u001b[30m|   \u001b[1m\u001b[30m    }\u001b[0m",
      "\u001b[1m\u001b[30m|   \u001b[1m\u001b[30m}\u001b[0m",
      "\u001b[1m\u001b[31mUnresolved dependencies:\u001b[0m",
      "\u001b[1m\u001b[31m   - class VersionControl\u001b[0m"
     ]
    }
   ],
   "source": [
    "/* The isBadVersion API is defined in the parent class VersionControl.\n",
    "boolean isBadVersion(int version); */\n",
    "\n",
    "public class Solution extends VersionControl {\n",
    "    public int firstBadVersion(int n) {\n",
    "        int left = 1, right = n;\n",
    "        while(left < right){\n",
    "            int mid = left + (right-left)/2;\n",
    "            if(!isBadVersion(mid)){\n",
    "                left = mid+1;\n",
    "            }else{\n",
    "                right = mid;\n",
    "            }\n",
    "        }\n",
    "        return left;\n",
    "    }\n",
    "}"
   ]
  },
  {
   "cell_type": "markdown",
   "id": "7289d5ea",
   "metadata": {},
   "source": [
    "### Notes:"
   ]
  },
  {
   "cell_type": "markdown",
   "id": "162d21e5",
   "metadata": {},
   "source": [
    "This is a classic binary search problem. the list is \"sorted\" in the sense that there is a list that starts with good builds and is followed by bad builds. To find the first bad version, we iteratively cut the data set (in this case it is hidden behind the VersionControl API) in half, stopping when the left and right pointers cross. At that point, the first bad version will always be the value stores in the left pointer."
   ]
  },
  {
   "cell_type": "code",
   "execution_count": null,
   "id": "4f031b0e",
   "metadata": {},
   "outputs": [],
   "source": []
  }
 ],
 "metadata": {
  "kernelspec": {
   "display_name": "Java",
   "language": "java",
   "name": "java"
  },
  "language_info": {
   "codemirror_mode": "java",
   "file_extension": ".jshell",
   "mimetype": "text/x-java-source",
   "name": "Java",
   "pygments_lexer": "java",
   "version": "9+181"
  }
 },
 "nbformat": 4,
 "nbformat_minor": 5
}
