{
 "cells": [
  {
   "cell_type": "markdown",
   "id": "7490b4a1",
   "metadata": {},
   "source": [
    "# LeetCode Problem 53: Maximum Subarray"
   ]
  },
  {
   "cell_type": "markdown",
   "id": "e067cbde",
   "metadata": {},
   "source": [
    "Given an integer array nums, find the contiguous subarray (containing at least one number) which has the largest sum and return its sum.\n",
    "\n",
    "A subarray is a contiguous part of an array."
   ]
  },
  {
   "cell_type": "markdown",
   "id": "cfcb7e6a",
   "metadata": {},
   "source": [
    "### Examples:"
   ]
  },
  {
   "cell_type": "markdown",
   "id": "95149a39",
   "metadata": {},
   "source": [
    "Input: nums = [-2,1,-3,4,-1,2,1,-5,4]\n",
    "Output: 6\n",
    "Explanation: [4,-1,2,1] has the largest sum = 6.\n",
    "\n",
    "Input: nums = [1]\n",
    "Output: 1\n",
    "\n",
    "Input: nums = [5,4,-1,7,8]\n",
    "Output: 23"
   ]
  },
  {
   "cell_type": "markdown",
   "id": "375022ba",
   "metadata": {},
   "source": [
    "### Constraints:"
   ]
  },
  {
   "cell_type": "markdown",
   "id": "2b1663a6",
   "metadata": {},
   "source": [
    "1 <= nums.length <= 105\n",
    "\n",
    "-104 <= nums[i] <= 104"
   ]
  },
  {
   "cell_type": "markdown",
   "id": "50ae223c",
   "metadata": {},
   "source": [
    "## Problem Solution:"
   ]
  },
  {
   "cell_type": "code",
   "execution_count": 1,
   "id": "3067fd89",
   "metadata": {},
   "outputs": [],
   "source": [
    "class Solution {\n",
    "    public int maxSubArray(int[] nums) {\n",
    "        int maxRightHere = nums[0];\n",
    "        int maxSoFar = nums[0];\n",
    "        for(int i=1; i<nums.length; i++){\n",
    "            maxRightHere = Math.max(maxRightHere+nums[i], nums[i]);\n",
    "            maxSoFar = Math.max(maxSoFar, maxRightHere);\n",
    "        }\n",
    "        return maxSoFar;\n",
    "    }\n",
    "}"
   ]
  },
  {
   "cell_type": "markdown",
   "id": "7289d5ea",
   "metadata": {},
   "source": [
    "### Notes:"
   ]
  },
  {
   "cell_type": "markdown",
   "id": "162d21e5",
   "metadata": {},
   "source": [
    "This solution uses a method called Kadane's algorithm to find the maximum subarray. Essentially, the algorithm uses two counters along a single pass. The maxRightHere variable keeps track of the array's maximum sum at point i, which must either be the value at i itself, or the sum of the previous position's maximum plus the value of i. We also keep track of the maximum maxRightHere valuable for each i and store it in maxSoFar. At the end of the first pass, maxSoFar will contain the largest sum possible for any subarray of nums."
   ]
  },
  {
   "cell_type": "code",
   "execution_count": null,
   "id": "4f031b0e",
   "metadata": {},
   "outputs": [],
   "source": []
  }
 ],
 "metadata": {
  "kernelspec": {
   "display_name": "Java",
   "language": "java",
   "name": "java"
  },
  "language_info": {
   "codemirror_mode": "java",
   "file_extension": ".jshell",
   "mimetype": "text/x-java-source",
   "name": "Java",
   "pygments_lexer": "java",
   "version": "9+181"
  }
 },
 "nbformat": 4,
 "nbformat_minor": 5
}
