{
 "cells": [
  {
   "cell_type": "markdown",
   "id": "2f64edf6",
   "metadata": {},
   "source": [
    "# LeetCode Problem 16: 3Sum Closest"
   ]
  },
  {
   "cell_type": "markdown",
   "id": "fb398e41",
   "metadata": {},
   "source": [
    "Given an integer array nums of length n and an integer target, find three integers in nums such that the sum is closest to target.\n",
    "\n",
    "Return the sum of the three integers.\n",
    "\n",
    "You may assume that each input would have exactly one solution."
   ]
  },
  {
   "cell_type": "markdown",
   "id": "b54f6d97",
   "metadata": {},
   "source": [
    "### Examples:"
   ]
  },
  {
   "cell_type": "markdown",
   "id": "574362d4",
   "metadata": {},
   "source": [
    "Input: nums = [-1,2,1,-4], target = 1\n",
    "Output: 2\n",
    "Explanation: The sum that is closest to the target is 2. (-1 + 2 + 1 = 2).\n",
    "\n",
    "Input: nums = [0,0,0], target = 1\n",
    "Output: 0"
   ]
  },
  {
   "cell_type": "markdown",
   "id": "71eece5d",
   "metadata": {},
   "source": [
    "### Constraints:"
   ]
  },
  {
   "cell_type": "markdown",
   "id": "21fdcf0f",
   "metadata": {},
   "source": [
    "3 <= nums.length <= 1000<br>\n",
    "-1000 <= nums[i] <= 1000<br>\n",
    "-104 <= target <= 104"
   ]
  },
  {
   "cell_type": "markdown",
   "id": "06ad8ad8",
   "metadata": {},
   "source": [
    "## Problem Solution:"
   ]
  },
  {
   "cell_type": "code",
   "execution_count": 2,
   "id": "a63f16ee",
   "metadata": {},
   "outputs": [],
   "source": [
    "class Solution:\n",
    "    def threeSumClosest(self, nums, target) -> int:\n",
    "        nums.sort()\n",
    "        result = nums[0] + nums[1] + nums[2]\n",
    "        for i in range(0, len(nums)-2):\n",
    "            if(i > 0 and nums[i] == nums[i-1]): continue\n",
    "            left, right = i+1, len(nums)-1\n",
    "            while(left < right):\n",
    "                if(result == target): return target\n",
    "                sum = nums[i] + nums[left] + nums[right]\n",
    "                if(abs(target-sum) < abs(target-result)): result = sum\n",
    "                if(sum < target):\n",
    "                    left += 1\n",
    "                else:\n",
    "                    right -= 1\n",
    "        return result\n",
    "        "
   ]
  },
  {
   "cell_type": "markdown",
   "id": "077636b0",
   "metadata": {},
   "source": [
    "### Notes:"
   ]
  },
  {
   "cell_type": "markdown",
   "id": "716f5932",
   "metadata": {},
   "source": [
    "This solution runs in approximately O(n^2) time using a two-pointer approach within an outer loop. Since this solution is finding the closest solution (not the exact solution), it is most efficient to sort the array, otherwise we may need to traverse the entire array for each of the three elements composing the result (O(n^3)). With the sorted array, for each i we start at the beginning and the end of the remaining elements. depending on the current sum, we either increment or decrement left or right index in an attempt to get as close as possible to the target. if the current sum is closer to the target than the previous sum, we store it. After the outer loop is done, the result variable stores the closest possible sum to target in the given array."
   ]
  },
  {
   "cell_type": "code",
   "execution_count": null,
   "id": "37de3dbf",
   "metadata": {},
   "outputs": [],
   "source": []
  }
 ],
 "metadata": {
  "kernelspec": {
   "display_name": "Python 3 (ipykernel)",
   "language": "python",
   "name": "python3"
  },
  "language_info": {
   "codemirror_mode": {
    "name": "ipython",
    "version": 3
   },
   "file_extension": ".py",
   "mimetype": "text/x-python",
   "name": "python",
   "nbconvert_exporter": "python",
   "pygments_lexer": "ipython3",
   "version": "3.8.3"
  }
 },
 "nbformat": 4,
 "nbformat_minor": 5
}
