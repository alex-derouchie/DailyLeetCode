{
 "cells": [
  {
   "cell_type": "markdown",
   "id": "2f64edf6",
   "metadata": {},
   "source": [
    "# LeetCode Problem 15: 3Sum"
   ]
  },
  {
   "cell_type": "markdown",
   "id": "fb398e41",
   "metadata": {},
   "source": [
    "Given an integer array nums, return all the triplets [nums[i], nums[j], nums[k]] such that i != j, i != k, and j != k, and nums[i] + nums[j] + nums[k] == 0.\n",
    "\n",
    "Notice that the solution set must not contain duplicate triplets."
   ]
  },
  {
   "cell_type": "markdown",
   "id": "b54f6d97",
   "metadata": {},
   "source": [
    "### Examples:"
   ]
  },
  {
   "cell_type": "markdown",
   "id": "574362d4",
   "metadata": {},
   "source": [
    "Input: nums = [-1,0,1,2,-1,-4]\n",
    "Output: [[-1,-1,2],[-1,0,1]]\n",
    "\n",
    "Input: nums = []\n",
    "Output: []\n",
    "\n",
    "Input: nums = [0]\n",
    "Output: []"
   ]
  },
  {
   "cell_type": "markdown",
   "id": "71eece5d",
   "metadata": {},
   "source": [
    "### Constraints:"
   ]
  },
  {
   "cell_type": "markdown",
   "id": "21fdcf0f",
   "metadata": {},
   "source": [
    "0 <= nums.length <= 3000<br>\n",
    "-105 <= nums[i] <= 105"
   ]
  },
  {
   "cell_type": "markdown",
   "id": "06ad8ad8",
   "metadata": {},
   "source": [
    "## Problem Solution:"
   ]
  },
  {
   "cell_type": "code",
   "execution_count": 3,
   "id": "a63f16ee",
   "metadata": {},
   "outputs": [],
   "source": [
    "class Solution:\n",
    "    def threeSum(self, nums):\n",
    "        if(len(nums) == 0 or len(nums) == 1): return []\n",
    "        nums.sort()\n",
    "        sums = []\n",
    "        for i in range(0, len(nums)-2):\n",
    "            #Skips duplicates for better efficiency\n",
    "            if(i > 0 and nums[i] == nums[i-1]): continue\n",
    "            left = i+1\n",
    "            right = len(nums)-1\n",
    "            while(left < right):\n",
    "                numSum = nums[i] + nums[left] + nums[right]\n",
    "                if(numSum == 0):\n",
    "                    sums.append([nums[i], nums[left], nums[right]])\n",
    "                    #These loops handle duplicates\n",
    "                    while(left < right and nums[left+1] == nums[left]): \n",
    "                        left += 1\n",
    "                    while(left < right and nums[right-1] == nums[right]):\n",
    "                        right -= 1\n",
    "                    left += 1\n",
    "                    right -= 1\n",
    "                elif(numSum > 0):\n",
    "                    right -= 1\n",
    "                else:\n",
    "                    left += 1\n",
    "        return sums\n",
    "            \n",
    "        "
   ]
  },
  {
   "cell_type": "markdown",
   "id": "077636b0",
   "metadata": {},
   "source": [
    "### Notes:"
   ]
  },
  {
   "cell_type": "markdown",
   "id": "716f5932",
   "metadata": {},
   "source": [
    "This algorithm sorts the array so that it can use a two pointer approach to narrow in on a potential zero combination quickly. It loops from element 0 to the third last element (you need three elements to form a valid solution), and for each of these elements it creates a pointer at the beginning and end of the remainding elements. If the sum of these three elements is zero, it's added to the list of solutions, if the sum is larger than zero the rightmost pointer is decremented, otherwise the leftmost pointer is incremented. this algorithm is at worst O(n^2), but the average case is much quicker due to the nature of the two pointer approach."
   ]
  },
  {
   "cell_type": "code",
   "execution_count": null,
   "id": "37de3dbf",
   "metadata": {},
   "outputs": [],
   "source": []
  }
 ],
 "metadata": {
  "kernelspec": {
   "display_name": "Python 3 (ipykernel)",
   "language": "python",
   "name": "python3"
  },
  "language_info": {
   "codemirror_mode": {
    "name": "ipython",
    "version": 3
   },
   "file_extension": ".py",
   "mimetype": "text/x-python",
   "name": "python",
   "nbconvert_exporter": "python",
   "pygments_lexer": "ipython3",
   "version": "3.8.3"
  }
 },
 "nbformat": 4,
 "nbformat_minor": 5
}
