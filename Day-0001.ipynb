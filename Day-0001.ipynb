{
 "cells": [
  {
   "cell_type": "markdown",
   "id": "03ab18dc",
   "metadata": {},
   "source": [
    "# LeetCode Problem 283: Move Zeroes"
   ]
  },
  {
   "cell_type": "markdown",
   "id": "d8718953",
   "metadata": {},
   "source": [
    "Given an integer array nums, move all 0's to the end of it while maintaining the relative order of the non-zero elements.\n",
    "Note that you must do this in-place without making a copy of the array."
   ]
  },
  {
   "cell_type": "markdown",
   "id": "8e8a6124",
   "metadata": {},
   "source": [
    "### Examples:"
   ]
  },
  {
   "cell_type": "markdown",
   "id": "24be112a",
   "metadata": {},
   "source": [
    "Input: nums = [0,1,0,3,12] Output: [1,3,12,0,0]\n",
    "\n",
    "Input: nums = [0] Output: [0]"
   ]
  },
  {
   "cell_type": "markdown",
   "id": "51367758",
   "metadata": {},
   "source": [
    "### Constraints:"
   ]
  },
  {
   "cell_type": "markdown",
   "id": "2e0dea08",
   "metadata": {},
   "source": [
    "1 <= nums.length <= 104 \n",
    "\n",
    "-2^31 <= nums[i] <= 2^31 - 1"
   ]
  },
  {
   "cell_type": "markdown",
   "id": "8edee186",
   "metadata": {},
   "source": [
    "## Problem Solution:"
   ]
  },
  {
   "cell_type": "code",
   "execution_count": 3,
   "id": "58f2eaac",
   "metadata": {},
   "outputs": [],
   "source": [
    "class Solution {\n",
    "    public void moveZeroes(int[] nums) {\n",
    "        int nonZero = 0;\n",
    "        for(int i=0;i<nums.length;i++){\n",
    "            if(nums[i] != 0){\n",
    "                if(nonZero != i){\n",
    "                    nums[nonZero] = nums[i];\n",
    "                    nums[i] = 0;                    \n",
    "                }\n",
    "                nonZero++;\n",
    "            }\n",
    "        }\n",
    "    }\n",
    "}"
   ]
  },
  {
   "cell_type": "markdown",
   "id": "369f1fbb",
   "metadata": {},
   "source": [
    "### Notes:"
   ]
  },
  {
   "cell_type": "markdown",
   "id": "6d82d33a",
   "metadata": {},
   "source": [
    "This solution is pretty straightforward. The method loops through the input array with a two pointer approach, keeping track of the current item in the loop and the current index to insert a non-zero value into (the earliest known zero). when a nonzero item is found, it essentially swaps the earliest known zero with the non-zero element, and repeats until the loop is complete."
   ]
  },
  {
   "cell_type": "code",
   "execution_count": null,
   "id": "22a6ce87",
   "metadata": {},
   "outputs": [],
   "source": []
  }
 ],
 "metadata": {
  "kernelspec": {
   "display_name": "Java",
   "language": "java",
   "name": "java"
  },
  "language_info": {
   "codemirror_mode": "java",
   "file_extension": ".jshell",
   "mimetype": "text/x-java-source",
   "name": "Java",
   "pygments_lexer": "java",
   "version": "9+181"
  }
 },
 "nbformat": 4,
 "nbformat_minor": 5
}
