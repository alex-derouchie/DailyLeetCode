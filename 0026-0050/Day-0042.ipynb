{
 "cells": [
  {
   "cell_type": "markdown",
   "id": "2f64edf6",
   "metadata": {},
   "source": [
    "# LeetCode Problem 82: Remove Duplicates from sorted list II"
   ]
  },
  {
   "cell_type": "markdown",
   "id": "fb398e41",
   "metadata": {},
   "source": [
    "Given the head of a sorted linked list, delete all nodes that have duplicate numbers, leaving only distinct numbers from the original list. Return the linked list sorted as well."
   ]
  },
  {
   "cell_type": "markdown",
   "id": "b54f6d97",
   "metadata": {},
   "source": [
    "### Examples:"
   ]
  },
  {
   "cell_type": "markdown",
   "id": "574362d4",
   "metadata": {},
   "source": [
    "Input: head = [1,2,3,3,4,4,5]\n",
    "Output: [1,2,5]\n",
    "\n",
    "\n",
    "Input: head = [1,1,1,2,3]\n",
    "Output: [2,3]"
   ]
  },
  {
   "cell_type": "markdown",
   "id": "71eece5d",
   "metadata": {},
   "source": [
    "### Constraints:"
   ]
  },
  {
   "cell_type": "markdown",
   "id": "21fdcf0f",
   "metadata": {},
   "source": [
    "The number of nodes in the list is in the range [0, 300].<br>\n",
    "-100 <= Node.val <= 100<br>\n",
    "The list is guaranteed to be sorted in ascending order."
   ]
  },
  {
   "cell_type": "markdown",
   "id": "06ad8ad8",
   "metadata": {},
   "source": [
    "## Problem Solution:"
   ]
  },
  {
   "cell_type": "code",
   "execution_count": 1,
   "id": "a63f16ee",
   "metadata": {},
   "outputs": [],
   "source": [
    "# Definition for singly-linked list.\n",
    "class ListNode:\n",
    "    def __init__(self, val=0, next=None):\n",
    "        self.val = val\n",
    "        self.next = next\n",
    "        \n",
    "class Solution:\n",
    "    def deleteDuplicates(self, head):\n",
    "        if(head == None or head.next == None):\n",
    "            return head\n",
    "        \n",
    "        s = set()\n",
    "        point = head\n",
    "        lastVal = None\n",
    "        while(point !=None):\n",
    "            if(point.val == lastVal):\n",
    "                s.add(point.val)\n",
    "            lastVal = point.val\n",
    "            point = point.next\n",
    "        \n",
    "        point = head\n",
    "        while(point.next != None):\n",
    "            if(point.next.val in s):\n",
    "                point.next = point.next.next\n",
    "            else:\n",
    "                point = point.next\n",
    "        \n",
    "        if(head.val in s):\n",
    "            return head.next\n",
    "        else:\n",
    "            return head"
   ]
  },
  {
   "cell_type": "markdown",
   "id": "077636b0",
   "metadata": {},
   "source": [
    "### Notes:"
   ]
  },
  {
   "cell_type": "markdown",
   "id": "716f5932",
   "metadata": {},
   "source": [
    "I completed this problem using a two-pass approach. I iterated through the list the first time, adding any duplicate values to a set. I then iterated through again, looking one step ahead of the pointer and shipping any nodes having values that appear in the set of duplicates. Finally, I handle the case where the first item in the list may be a duplicate by returning either the head or head.next. Note that this solution can be solved using a two-pointer approach in one pass, but I found this solution far more comprehendible and still quite efficient given the nature of linked lists & efficient time complexity of the set."
   ]
  },
  {
   "cell_type": "code",
   "execution_count": null,
   "id": "37de3dbf",
   "metadata": {},
   "outputs": [],
   "source": []
  }
 ],
 "metadata": {
  "kernelspec": {
   "display_name": "Python 3 (ipykernel)",
   "language": "python",
   "name": "python3"
  },
  "language_info": {
   "codemirror_mode": {
    "name": "ipython",
    "version": 3
   },
   "file_extension": ".py",
   "mimetype": "text/x-python",
   "name": "python",
   "nbconvert_exporter": "python",
   "pygments_lexer": "ipython3",
   "version": "3.8.3"
  }
 },
 "nbformat": 4,
 "nbformat_minor": 5
}
