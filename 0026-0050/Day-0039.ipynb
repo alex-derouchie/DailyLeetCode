{
 "cells": [
  {
   "cell_type": "markdown",
   "id": "2f64edf6",
   "metadata": {},
   "source": [
    "# LeetCode Problem 2: Add Two Numbers"
   ]
  },
  {
   "cell_type": "markdown",
   "id": "fb398e41",
   "metadata": {},
   "source": [
    "You are given two non-empty linked lists representing two non-negative integers. The digits are stored in reverse order, and each of their nodes contains a single digit. Add the two numbers and return the sum as a linked list.\n",
    "\n",
    "You may assume the two numbers do not contain any leading zero, except the number 0 itself.\n"
   ]
  },
  {
   "cell_type": "markdown",
   "id": "b54f6d97",
   "metadata": {},
   "source": [
    "### Examples:"
   ]
  },
  {
   "cell_type": "markdown",
   "id": "574362d4",
   "metadata": {},
   "source": [
    "Input: l1 = [2,4,3], l2 = [5,6,4]\n",
    "Output: [7,0,8]\n",
    "Explanation: 342 + 465 = 807.\n",
    "\n",
    "Input: l1 = [0], l2 = [0]\n",
    "Output: [0]\n",
    "\n",
    "Input: l1 = [9,9,9,9,9,9,9], l2 = [9,9,9,9]\n",
    "Output: [8,9,9,9,0,0,0,1]"
   ]
  },
  {
   "cell_type": "markdown",
   "id": "71eece5d",
   "metadata": {},
   "source": [
    "### Constraints:"
   ]
  },
  {
   "cell_type": "markdown",
   "id": "21fdcf0f",
   "metadata": {},
   "source": [
    "The number of nodes in each linked list is in the range [1, 100].<br>\n",
    "0 <= Node.val <= 9<br>\n",
    "It is guaranteed that the list represents a number that does not have leading zeros."
   ]
  },
  {
   "cell_type": "markdown",
   "id": "06ad8ad8",
   "metadata": {},
   "source": [
    "## Problem Solution:"
   ]
  },
  {
   "cell_type": "code",
   "execution_count": 1,
   "id": "a63f16ee",
   "metadata": {},
   "outputs": [],
   "source": [
    "class ListNode:\n",
    "     def __init__(self, val=0, next=None):\n",
    "         self.val = val\n",
    "         self.next = next\n",
    "\n",
    "class Solution:\n",
    "    def addTwoNumbers(self, l1, l2):\n",
    "        pointer = ListNode\n",
    "        head = pointer\n",
    "        carry = False\n",
    "        val1 = 0\n",
    "        val2 = 0\n",
    "        digit = 0\n",
    "        \n",
    "        while(l1 is not None or l2 is not None):\n",
    "            val1 = 0 if l1 is None else l1.val\n",
    "            val2 = 0 if l2 is None else l2.val\n",
    "            digit = val1 + val2 + 1 if carry else val1 + val2\n",
    "            carry = True if digit > 9 else False\n",
    "            pointer.next = ListNode(digit % 10)\n",
    "            pointer = pointer.next\n",
    "            if(l1 is not None): l1 = l1.next\n",
    "            if(l2 is not None): l2 = l2.next\n",
    "            \n",
    "        if(carry):\n",
    "            pointer.next = ListNode(1)\n",
    "            \n",
    "        return head.next"
   ]
  },
  {
   "cell_type": "markdown",
   "id": "077636b0",
   "metadata": {},
   "source": [
    "### Notes:"
   ]
  },
  {
   "cell_type": "markdown",
   "id": "716f5932",
   "metadata": {},
   "source": [
    "To solve this problem, we add the values digit by digit, using a carry value to handle overflow. we create a head value to remember the startpoint of the linked list, then for each position we add the value from l1 and l2 to the current carry value, using modulo 10 to determine the digit. After the operation, carry is 1 if the sum was greater than 9. We continue adding digit by digit until the end of both lists, adding a 1 to the end of the list (representing the highest place value) is carry is still 1 (true) at the end of the loop. We return the startpoint of the list we saved earlier as the result."
   ]
  },
  {
   "cell_type": "code",
   "execution_count": null,
   "id": "37de3dbf",
   "metadata": {},
   "outputs": [],
   "source": []
  }
 ],
 "metadata": {
  "kernelspec": {
   "display_name": "Python 3 (ipykernel)",
   "language": "python",
   "name": "python3"
  },
  "language_info": {
   "codemirror_mode": {
    "name": "ipython",
    "version": 3
   },
   "file_extension": ".py",
   "mimetype": "text/x-python",
   "name": "python",
   "nbconvert_exporter": "python",
   "pygments_lexer": "ipython3",
   "version": "3.8.3"
  }
 },
 "nbformat": 4,
 "nbformat_minor": 5
}
