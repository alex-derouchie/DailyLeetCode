{
 "cells": [
  {
   "cell_type": "markdown",
   "id": "2f64edf6",
   "metadata": {},
   "source": [
    "# LeetCode Problem 5: Longest Palindromic Substring"
   ]
  },
  {
   "cell_type": "markdown",
   "id": "fb398e41",
   "metadata": {},
   "source": [
    "Given a string s, return the longest palindromic substring in s.\n"
   ]
  },
  {
   "cell_type": "markdown",
   "id": "b54f6d97",
   "metadata": {},
   "source": [
    "### Examples:"
   ]
  },
  {
   "cell_type": "markdown",
   "id": "574362d4",
   "metadata": {},
   "source": [
    "nput: s = \"babad\"\n",
    "Output: \"bab\"\n",
    "Explanation: \"aba\" is also a valid answer.\n",
    "\n",
    "Input: s = \"cbbd\"\n",
    "Output: \"bb\""
   ]
  },
  {
   "cell_type": "markdown",
   "id": "71eece5d",
   "metadata": {},
   "source": [
    "### Constraints:"
   ]
  },
  {
   "cell_type": "markdown",
   "id": "21fdcf0f",
   "metadata": {},
   "source": [
    "1 <= s.length <= 1000<br>\n",
    "s consist of only digits and English letters."
   ]
  },
  {
   "cell_type": "markdown",
   "id": "06ad8ad8",
   "metadata": {},
   "source": [
    "## Problem Solution:"
   ]
  },
  {
   "cell_type": "code",
   "execution_count": 2,
   "id": "a63f16ee",
   "metadata": {},
   "outputs": [],
   "source": [
    "class Solution:\n",
    "    def longestPalindrome(self, s: str) -> str:\n",
    "        start = 0\n",
    "        end = 0\n",
    "        for i in range(len(s)):\n",
    "            len1 = expandFromCenter(s, i, i)\n",
    "            len2 = expandFromCenter(s, i, i+1)\n",
    "            maxPal = max(len1, len2)\n",
    "            if maxPal>(end-start):\n",
    "                start = i-(maxPal-1)//2\n",
    "                end = i+maxPal//2\n",
    "        return s[start: end+1]\n",
    "        \n",
    "        \n",
    "    \n",
    "    \n",
    "def expandFromCenter(s:str, l:int, r:int):\n",
    "    left = l\n",
    "    right = r\n",
    "    while left>-1 and right<len(s) and s[left] == s[right]:\n",
    "        left -= 1\n",
    "        right += 1\n",
    "    return right-left-1"
   ]
  },
  {
   "cell_type": "markdown",
   "id": "077636b0",
   "metadata": {},
   "source": [
    "### Notes:"
   ]
  },
  {
   "cell_type": "markdown",
   "id": "716f5932",
   "metadata": {},
   "source": [
    "To solve this problem, we use a helper method that essentially tests for the definition of a palindrome (characters that mirror each other expanding outward from a central point), that expands it window outwards until the condition is no longer satisfied, at which point it returns the largest palindrome it found from the given origin point. We then use that helper to test for the largest palindrome size originating from each character (or pair of characters) in the input string, keeping track of the largest palindrome found to date. By the end of the loop, we know where the largest palindrome in the string is located, and can return the corresponding sliced string."
   ]
  },
  {
   "cell_type": "code",
   "execution_count": null,
   "id": "37de3dbf",
   "metadata": {},
   "outputs": [],
   "source": []
  }
 ],
 "metadata": {
  "kernelspec": {
   "display_name": "Python 3 (ipykernel)",
   "language": "python",
   "name": "python3"
  },
  "language_info": {
   "codemirror_mode": {
    "name": "ipython",
    "version": 3
   },
   "file_extension": ".py",
   "mimetype": "text/x-python",
   "name": "python",
   "nbconvert_exporter": "python",
   "pygments_lexer": "ipython3",
   "version": "3.8.3"
  }
 },
 "nbformat": 4,
 "nbformat_minor": 5
}
