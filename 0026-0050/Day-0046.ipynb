{
 "cells": [
  {
   "cell_type": "markdown",
   "id": "05c815e5",
   "metadata": {},
   "source": [
    "# LeetCode Problem 1480: Running Sum of 1d Array"
   ]
  },
  {
   "cell_type": "markdown",
   "id": "90b995af",
   "metadata": {},
   "source": [
    "Given an array nums. We define a running sum of an array as runningSum[i] = sum(nums[0]…nums[i]).\n",
    "\n",
    "Return the running sum of nums."
   ]
  },
  {
   "cell_type": "markdown",
   "id": "2b9737ed",
   "metadata": {},
   "source": [
    "### Examples:"
   ]
  },
  {
   "cell_type": "markdown",
   "id": "ebc051bd",
   "metadata": {},
   "source": [
    "Input: nums = [3,1,2,10,1]<br>\n",
    "Output: [3,4,6,16,17]"
   ]
  },
  {
   "cell_type": "markdown",
   "id": "45997377",
   "metadata": {},
   "source": [
    "### Constraints:"
   ]
  },
  {
   "cell_type": "markdown",
   "id": "c507508e",
   "metadata": {},
   "source": [
    "1 <= nums.length <= 1000\n",
    "\n",
    "-10^6 <= nums[i] <= 10^6"
   ]
  },
  {
   "cell_type": "markdown",
   "id": "8d3a23f5",
   "metadata": {},
   "source": [
    "## Problem Solution:"
   ]
  },
  {
   "cell_type": "code",
   "execution_count": 1,
   "id": "d5e7af58",
   "metadata": {},
   "outputs": [],
   "source": [
    "class Solution {\n",
    "    public int[] runningSum(int[] nums) {\n",
    "        int[] runningArray = new int[nums.length];\n",
    "        int runningSum = 0;\n",
    "        for(int i=0;i<nums.length;i++){\n",
    "            runningSum += nums[i];\n",
    "            runningArray[i] = runningSum;\n",
    "        }\n",
    "        return runningArray;\n",
    "    }\n",
    "}"
   ]
  },
  {
   "cell_type": "markdown",
   "id": "47689b3f",
   "metadata": {},
   "source": [
    "### Notes:"
   ]
  },
  {
   "cell_type": "markdown",
   "id": "ee0bfef5",
   "metadata": {},
   "source": [
    "This solution is nearly trivial. We need only create an array the size of the input array, and for each element in the input, add it's value to the total sum so far and plug it into the new array. We could eliminate the runningSum variable by simply using runningArray[i-1] instead, but for readability I've left it included here."
   ]
  },
  {
   "cell_type": "code",
   "execution_count": null,
   "id": "bd7d8b12",
   "metadata": {},
   "outputs": [],
   "source": []
  }
 ],
 "metadata": {
  "kernelspec": {
   "display_name": "Java",
   "language": "java",
   "name": "java"
  },
  "language_info": {
   "codemirror_mode": "java",
   "file_extension": ".jshell",
   "mimetype": "text/x-java-source",
   "name": "Java",
   "pygments_lexer": "java",
   "version": "9+181"
  }
 },
 "nbformat": 4,
 "nbformat_minor": 5
}
