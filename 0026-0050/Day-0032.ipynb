{
 "cells": [
  {
   "cell_type": "markdown",
   "id": "2f64edf6",
   "metadata": {},
   "source": [
    "# LeetCode Problem 409: Longest Palindrome"
   ]
  },
  {
   "cell_type": "markdown",
   "id": "fb398e41",
   "metadata": {},
   "source": [
    "Given a string s which consists of lowercase or uppercase letters, return the length of the longest palindrome that can be built with those letters.\n",
    "\n",
    "Letters are case sensitive, for example, \"Aa\" is not considered a palindrome here."
   ]
  },
  {
   "cell_type": "markdown",
   "id": "b54f6d97",
   "metadata": {},
   "source": [
    "### Examples:"
   ]
  },
  {
   "cell_type": "markdown",
   "id": "574362d4",
   "metadata": {},
   "source": [
    "Input: s = \"abccccdd\"\n",
    "Output: 7\n",
    "Explanation:\n",
    "One longest palindrome that can be built is \"dccaccd\", whose length is 7.\n",
    "\n",
    "Input: s = \"a\"\n",
    "Output: 1\n",
    "\n",
    "Input: s = \"bb\"\n",
    "Output: 2"
   ]
  },
  {
   "cell_type": "markdown",
   "id": "71eece5d",
   "metadata": {},
   "source": [
    "### Constraints:"
   ]
  },
  {
   "cell_type": "markdown",
   "id": "21fdcf0f",
   "metadata": {},
   "source": [
    "1 <= s.length <= 2000<br>\n",
    "s consists of lowercase and/or uppercase English letters only."
   ]
  },
  {
   "cell_type": "markdown",
   "id": "06ad8ad8",
   "metadata": {},
   "source": [
    "## Problem Solution:"
   ]
  },
  {
   "cell_type": "code",
   "execution_count": 1,
   "id": "a63f16ee",
   "metadata": {},
   "outputs": [],
   "source": [
    "class Solution:\n",
    "    def longestPalindrome(self, s: str) -> int:\n",
    "        dict = {}\n",
    "        oddVal = False\n",
    "        count = 0\n",
    "        for c in s:\n",
    "            dict[c] = dict.get(c, 0) + 1\n",
    "        for key in dict:\n",
    "            if (dict[key] % 2 != 0): oddVal = True\n",
    "            count += (dict[key]//2)\n",
    "        count *= 2\n",
    "        if(oddVal): count += 1\n",
    "            \n",
    "        return count   "
   ]
  },
  {
   "cell_type": "markdown",
   "id": "077636b0",
   "metadata": {},
   "source": [
    "### Notes:"
   ]
  },
  {
   "cell_type": "markdown",
   "id": "716f5932",
   "metadata": {},
   "source": [
    "This solution uses a map to keep track of the frequencies of each character in the string. It then uses a second pass to count how many pairs of characters exist (a palindrome essentially is a collection of pairs arranged around a central point). Finally, it also keeps track of whether there is at least one character which appears an odd number of times. the longest palindrome given the string of characters is equal to two times the number of character pairs, plus one if a character appears an odd amount of times."
   ]
  },
  {
   "cell_type": "code",
   "execution_count": null,
   "id": "37de3dbf",
   "metadata": {},
   "outputs": [],
   "source": []
  }
 ],
 "metadata": {
  "kernelspec": {
   "display_name": "Python 3 (ipykernel)",
   "language": "python",
   "name": "python3"
  },
  "language_info": {
   "codemirror_mode": {
    "name": "ipython",
    "version": 3
   },
   "file_extension": ".py",
   "mimetype": "text/x-python",
   "name": "python",
   "nbconvert_exporter": "python",
   "pygments_lexer": "ipython3",
   "version": "3.8.3"
  }
 },
 "nbformat": 4,
 "nbformat_minor": 5
}
