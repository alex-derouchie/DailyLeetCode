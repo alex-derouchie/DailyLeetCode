{
 "cells": [
  {
   "cell_type": "markdown",
   "id": "2f64edf6",
   "metadata": {},
   "source": [
    "# LeetCode Problem 763: Partition Labels"
   ]
  },
  {
   "cell_type": "markdown",
   "id": "fb398e41",
   "metadata": {},
   "source": [
    "You are given a string s. We want to partition the string into as many parts as possible so that each letter appears in at most one part.\n",
    "\n",
    "Note that the partition is done so that after concatenating all the parts in order, the resultant string should be s.\n",
    "\n",
    "Return a list of integers representing the size of these parts.\n"
   ]
  },
  {
   "cell_type": "markdown",
   "id": "b54f6d97",
   "metadata": {},
   "source": [
    "### Examples:"
   ]
  },
  {
   "cell_type": "markdown",
   "id": "574362d4",
   "metadata": {},
   "source": [
    "Input: s = \"ababcbacadefegdehijhklij\"\n",
    "Output: [9,7,8]\n",
    "Explanation:\n",
    "The partition is \"ababcbaca\", \"defegde\", \"hijhklij\".\n",
    "This is a partition so that each letter appears in at most one part.\n",
    "A partition like \"ababcbacadefegde\", \"hijhklij\" is incorrect, because it splits s into less parts.\n",
    "\n",
    "Input: s = \"eccbbbbdec\"\n",
    "Output: [10]"
   ]
  },
  {
   "cell_type": "markdown",
   "id": "71eece5d",
   "metadata": {},
   "source": [
    "### Constraints:"
   ]
  },
  {
   "cell_type": "markdown",
   "id": "21fdcf0f",
   "metadata": {},
   "source": [
    "1 <= s.length <= 500<br>\n",
    "s consists of lowercase English letters."
   ]
  },
  {
   "cell_type": "markdown",
   "id": "06ad8ad8",
   "metadata": {},
   "source": [
    "## Problem Solution:"
   ]
  },
  {
   "cell_type": "code",
   "execution_count": 1,
   "id": "a63f16ee",
   "metadata": {},
   "outputs": [],
   "source": [
    "class Solution:\n",
    "    def partitionLabels(self, s: str):\n",
    "        L = len(s)\n",
    "        lastIndex = {s[i] : i for i in range(L)}\n",
    "        i = 0\n",
    "        partition = []\n",
    "        while i<L:\n",
    "            j = i + 1\n",
    "            endPoint = lastIndex[s[i]]\n",
    "            while(j < endPoint):\n",
    "                if(lastIndex[s[j]] > endPoint):\n",
    "                    endPoint = lastIndex[s[j]]\n",
    "                j += 1\n",
    "            \n",
    "            partition.append(endPoint-i+1)\n",
    "            i = endPoint + 1\n",
    "        \n",
    "        return partition"
   ]
  },
  {
   "cell_type": "markdown",
   "id": "077636b0",
   "metadata": {},
   "source": [
    "### Notes:"
   ]
  },
  {
   "cell_type": "markdown",
   "id": "716f5932",
   "metadata": {},
   "source": [
    "Since we're looking for the maximum number of partitions, we can use a greedy algorithm to progress through the string finding the first valid interval at any point and adding it to the output list.<br> In order to partition so that each letter only appears in one interval, we must know the last index of each leter in the string. We store this in a dictionary named lastIndex.<br> Then, starting at the beginning of the string, we look at the starting character. we start with an endpoint for the first partition as the last index of the first character. We then need to check for each character from the start of the interval (i) to the current endpoint, ensuring that those characters' last indices are not outside of the current partition. If any character does have a last index greater than the current endPoint of the interval, we update the endpoint. once the pointer keeping track of that validation step reaches the value of the endPoint, we have a complete valid interval.<br> We add the interval to the partition list, update the next interval's startpoint, and continue to the end of the list."
   ]
  },
  {
   "cell_type": "code",
   "execution_count": null,
   "id": "37de3dbf",
   "metadata": {},
   "outputs": [],
   "source": []
  }
 ],
 "metadata": {
  "kernelspec": {
   "display_name": "Python 3 (ipykernel)",
   "language": "python",
   "name": "python3"
  },
  "language_info": {
   "codemirror_mode": {
    "name": "ipython",
    "version": 3
   },
   "file_extension": ".py",
   "mimetype": "text/x-python",
   "name": "python",
   "nbconvert_exporter": "python",
   "pygments_lexer": "ipython3",
   "version": "3.8.3"
  }
 },
 "nbformat": 4,
 "nbformat_minor": 5
}
