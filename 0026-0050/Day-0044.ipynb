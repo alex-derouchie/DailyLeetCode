{
 "cells": [
  {
   "cell_type": "markdown",
   "id": "2f64edf6",
   "metadata": {},
   "source": [
    "# LeetCode Problem 143: Reorder List"
   ]
  },
  {
   "cell_type": "markdown",
   "id": "fb398e41",
   "metadata": {},
   "source": [
    "You are given the head of a singly linked-list. The list can be represented as:\n",
    "\n",
    "L0 → L1 → … → Ln - 1 → Ln\n",
    "Reorder the list to be on the following form:\n",
    "\n",
    "L0 → Ln → L1 → Ln - 1 → L2 → Ln - 2 → …\n",
    "You may not modify the values in the list's nodes. Only nodes themselves may be changed."
   ]
  },
  {
   "cell_type": "markdown",
   "id": "b54f6d97",
   "metadata": {},
   "source": [
    "### Examples:"
   ]
  },
  {
   "cell_type": "markdown",
   "id": "574362d4",
   "metadata": {},
   "source": [
    "Input: head = [1,2,3,4]\n",
    "Output: [1,4,2,3]\n",
    "\n",
    "Input: head = [1,2,3,4,5]\n",
    "Output: [1,5,2,4,3]"
   ]
  },
  {
   "cell_type": "markdown",
   "id": "71eece5d",
   "metadata": {},
   "source": [
    "### Constraints:"
   ]
  },
  {
   "cell_type": "markdown",
   "id": "21fdcf0f",
   "metadata": {},
   "source": [
    "The number of nodes in the list is in the range [1, 5 * 10^4].<br>\n",
    "1 <= Node.val <= 1000"
   ]
  },
  {
   "cell_type": "markdown",
   "id": "06ad8ad8",
   "metadata": {},
   "source": [
    "## Problem Solution:"
   ]
  },
  {
   "cell_type": "code",
   "execution_count": 1,
   "id": "a63f16ee",
   "metadata": {},
   "outputs": [],
   "source": [
    "# Definition for singly-linked list.\n",
    "class ListNode:\n",
    "    def __init__(self, val=0, next=None):\n",
    "        self.val = val\n",
    "        self.next = next\n",
    "\n",
    "\n",
    "class Solution:\n",
    "    def reorderList(self, head) -> None:\n",
    "        \n",
    "        #Find Middle\n",
    "        fast = head\n",
    "        slow = head\n",
    "        while(fast.next and fast.next.next):\n",
    "            slow = slow.next\n",
    "            fast = fast.next.next\n",
    "        \n",
    "        #using slow as midpoint, reverse midpoint\n",
    "        prev, cur = None, slow.next\n",
    "        while (cur):\n",
    "            nextVal = cur.next\n",
    "            cur.next = prev\n",
    "            prev = cur\n",
    "            cur = nextVal\n",
    "        slow.next = None #eliminate looping\n",
    "            \n",
    "        #assemble list, starting from head and slow.next\n",
    "        first, second = head, prev\n",
    "        while(second):\n",
    "            temp = first.next\n",
    "            first.next = second \n",
    "            first = second\n",
    "            second = temp"
   ]
  },
  {
   "cell_type": "markdown",
   "id": "077636b0",
   "metadata": {},
   "source": [
    "### Notes:"
   ]
  },
  {
   "cell_type": "markdown",
   "id": "716f5932",
   "metadata": {},
   "source": [
    "In order to follow the necessary pattern without the list supporting the reverse direction, the most efficient manner of producing this alternating pattern requires three steps:<br>\n",
    "1) Find the middle of the list<br>\n",
    "2) Reverse the order of all the nodes in the second half of the list<br>\n",
    "4) Assemble the final result, alternating between the values starting at the front of the list & the values starting at the middle of the list"
   ]
  },
  {
   "cell_type": "code",
   "execution_count": null,
   "id": "37de3dbf",
   "metadata": {},
   "outputs": [],
   "source": []
  }
 ],
 "metadata": {
  "kernelspec": {
   "display_name": "Python 3 (ipykernel)",
   "language": "python",
   "name": "python3"
  },
  "language_info": {
   "codemirror_mode": {
    "name": "ipython",
    "version": 3
   },
   "file_extension": ".py",
   "mimetype": "text/x-python",
   "name": "python",
   "nbconvert_exporter": "python",
   "pygments_lexer": "ipython3",
   "version": "3.8.3"
  }
 },
 "nbformat": 4,
 "nbformat_minor": 5
}
