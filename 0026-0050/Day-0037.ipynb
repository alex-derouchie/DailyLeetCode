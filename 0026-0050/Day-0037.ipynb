{
 "cells": [
  {
   "cell_type": "markdown",
   "id": "2f64edf6",
   "metadata": {},
   "source": [
    "# LeetCode Problem 187: Repeated DNA Seqences"
   ]
  },
  {
   "cell_type": "markdown",
   "id": "fb398e41",
   "metadata": {},
   "source": [
    "The DNA sequence is composed of a series of nucleotides abbreviated as 'A', 'C', 'G', and 'T'.\n",
    "\n",
    "For example, \"ACGAATTCCG\" is a DNA sequence.\n",
    "When studying DNA, it is useful to identify repeated sequences within the DNA.\n",
    "\n",
    "Given a string s that represents a DNA sequence, return all the 10-letter-long sequences (substrings) that occur more than once in a DNA molecule. You may return the answer in any order.\n"
   ]
  },
  {
   "cell_type": "markdown",
   "id": "b54f6d97",
   "metadata": {},
   "source": [
    "### Examples:"
   ]
  },
  {
   "cell_type": "markdown",
   "id": "574362d4",
   "metadata": {},
   "source": [
    "Input: s = \"AAAAACCCCCAAAAACCCCCCAAAAAGGGTTT\"\n",
    "Output: [\"AAAAACCCCC\",\"CCCCCAAAAA\"]\n",
    "\n",
    "Input: s = \"AAAAAAAAAAAAA\"\n",
    "Output: [\"AAAAAAAAAA\"]"
   ]
  },
  {
   "cell_type": "markdown",
   "id": "71eece5d",
   "metadata": {},
   "source": [
    "### Constraints:"
   ]
  },
  {
   "cell_type": "markdown",
   "id": "21fdcf0f",
   "metadata": {},
   "source": [
    "1 <= s.length <= 105<br>\n",
    "s[i] is either 'A', 'C', 'G', or 'T'."
   ]
  },
  {
   "cell_type": "markdown",
   "id": "06ad8ad8",
   "metadata": {},
   "source": [
    "## Problem Solution:"
   ]
  },
  {
   "cell_type": "code",
   "execution_count": 1,
   "id": "a63f16ee",
   "metadata": {},
   "outputs": [],
   "source": [
    "class Solution:\n",
    "    def findRepeatedDnaSequences(self, s: str):\n",
    "        if(len(s) <= 10): return []\n",
    "        seq = {}\n",
    "        ans = []\n",
    "        for i in range(10, len(s)+1, 1):\n",
    "            seqVal = seq.get(s[i-10:i], -1)\n",
    "            if seqVal == 1: #Present but not yet inserted\n",
    "                ans = ans + [s[i-10:i]]\n",
    "                seq[s[i-10:i]] = 2 #Already inserted\n",
    "            elif seqVal == -1:\n",
    "                seq[s[i-10:i]] = 1\n",
    "        return ans"
   ]
  },
  {
   "cell_type": "markdown",
   "id": "077636b0",
   "metadata": {},
   "source": [
    "### Notes:"
   ]
  },
  {
   "cell_type": "markdown",
   "id": "716f5932",
   "metadata": {},
   "source": [
    "Since we're only returning repeated sequences that are 10 characters long, we can use an iterative approach with a hashmap to solve this problem.<br> To produce a solution, we loop through the string and for each character, we attempt to retrieve the value from the dictionary at the key corresponding to the 10 character substring starting at character i.<br> If the value doesn't exist, we add an integer value of 1 at that location, indicating it has been seen before (for future iterations).<br> If the value at that location of the dictionary does exist and is set to 1, we know that we've seen that sequence before and it has not been added to the final result List. We add the sequence to the list and set the value of the dictionary at the current key to 2 to avoid duplicate insertions.<br> At the end of the loop we have produced our final result."
   ]
  },
  {
   "cell_type": "code",
   "execution_count": null,
   "id": "37de3dbf",
   "metadata": {},
   "outputs": [],
   "source": []
  }
 ],
 "metadata": {
  "kernelspec": {
   "display_name": "Python 3 (ipykernel)",
   "language": "python",
   "name": "python3"
  },
  "language_info": {
   "codemirror_mode": {
    "name": "ipython",
    "version": 3
   },
   "file_extension": ".py",
   "mimetype": "text/x-python",
   "name": "python",
   "nbconvert_exporter": "python",
   "pygments_lexer": "ipython3",
   "version": "3.8.3"
  }
 },
 "nbformat": 4,
 "nbformat_minor": 5
}
