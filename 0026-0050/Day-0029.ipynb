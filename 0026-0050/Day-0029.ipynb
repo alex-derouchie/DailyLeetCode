{
 "cells": [
  {
   "cell_type": "markdown",
   "id": "2f64edf6",
   "metadata": {},
   "source": [
    "# LeetCode Problem 238: Product of Array Except Self"
   ]
  },
  {
   "cell_type": "markdown",
   "id": "fb398e41",
   "metadata": {},
   "source": [
    "Given an integer array nums, return an array answer such that answer[i] is equal to the product of all the elements of nums except nums[i].\n",
    "\n",
    "The product of any prefix or suffix of nums is guaranteed to fit in a 32-bit integer.\n",
    "\n",
    "You must write an algorithm that runs in O(n) time and without using the division operation."
   ]
  },
  {
   "cell_type": "markdown",
   "id": "b54f6d97",
   "metadata": {},
   "source": [
    "### Examples:"
   ]
  },
  {
   "cell_type": "markdown",
   "id": "574362d4",
   "metadata": {},
   "source": [
    "Input: nums = [1,2,3,4]\n",
    "Output: [24,12,8,6]\n",
    "\n",
    "Input: nums = [-1,1,0,-3,3]\n",
    "Output: [0,0,9,0,0]"
   ]
  },
  {
   "cell_type": "markdown",
   "id": "71eece5d",
   "metadata": {},
   "source": [
    "### Constraints:"
   ]
  },
  {
   "cell_type": "markdown",
   "id": "21fdcf0f",
   "metadata": {},
   "source": [
    "2 <= nums.length <= 105<br>\n",
    "-30 <= nums[i] <= 30<br>\n",
    "The product of any prefix or suffix of nums is guaranteed to fit in a 32-bit integer."
   ]
  },
  {
   "cell_type": "markdown",
   "id": "06ad8ad8",
   "metadata": {},
   "source": [
    "## Problem Solution:"
   ]
  },
  {
   "cell_type": "code",
   "execution_count": 1,
   "id": "a63f16ee",
   "metadata": {},
   "outputs": [],
   "source": [
    "class Solution:\n",
    "    def productExceptSelf(self, nums):\n",
    "        r = len(nums)-2\n",
    "        lProd = [nums[0]]*len(nums)\n",
    "        rProd = [nums[len(nums)-1]] * len(nums)\n",
    "        for l in range(1, len(nums)-1, 1):\n",
    "            lProd[l] = lProd[l-1] * nums[l]\n",
    "            rProd[r] = rProd[r+1] * nums[r]\n",
    "            r -= 1\n",
    "        for i in range(len(nums)):\n",
    "            if(i == 0):\n",
    "                nums[i] = rProd[i+1]\n",
    "            elif(i == len(nums)-1):\n",
    "                nums[i] = lProd[i-1]\n",
    "            else:\n",
    "                nums[i] = lProd[i-1] * rProd[i+1]\n",
    "        return nums\n",
    "        \n",
    "            "
   ]
  },
  {
   "cell_type": "markdown",
   "id": "077636b0",
   "metadata": {},
   "source": [
    "### Notes:"
   ]
  },
  {
   "cell_type": "markdown",
   "id": "716f5932",
   "metadata": {},
   "source": [
    "This solution uses two passes to first create two lists of running products from left to right and right to left. then we loop through one more time to construct the output list, multiplying the running sum to the left of the current element with the running sum to the right. This ensures the correct handling of zeroes.\n",
    "\n",
    "Note that there is a more spacially efficient algorithm that I discovered after creating my own solution that still utilizes two passes but is O(1) space with an output list. That algortihm essentially loops forward and then backwards through the list, with each loop starting a running product of 1, inserting the running product into the output on the first pass and multiplying it with the previous value on the second pass. After inserting the running product, it is updated with the current element. This post-update essentially excludes the current element from the total product that is inserted into it's place in the output array."
   ]
  },
  {
   "cell_type": "code",
   "execution_count": null,
   "id": "37de3dbf",
   "metadata": {},
   "outputs": [],
   "source": []
  }
 ],
 "metadata": {
  "kernelspec": {
   "display_name": "Python 3 (ipykernel)",
   "language": "python",
   "name": "python3"
  },
  "language_info": {
   "codemirror_mode": {
    "name": "ipython",
    "version": 3
   },
   "file_extension": ".py",
   "mimetype": "text/x-python",
   "name": "python",
   "nbconvert_exporter": "python",
   "pygments_lexer": "ipython3",
   "version": "3.8.3"
  }
 },
 "nbformat": 4,
 "nbformat_minor": 5
}
