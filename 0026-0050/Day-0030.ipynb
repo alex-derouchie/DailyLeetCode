{
 "cells": [
  {
   "cell_type": "markdown",
   "id": "2f64edf6",
   "metadata": {},
   "source": [
    "# LeetCode Problem 560: Subarray Sum Equals K"
   ]
  },
  {
   "cell_type": "markdown",
   "id": "fb398e41",
   "metadata": {},
   "source": [
    "Given an array of integers nums and an integer k, return the total number of subarrays whose sum equals to k."
   ]
  },
  {
   "cell_type": "markdown",
   "id": "b54f6d97",
   "metadata": {},
   "source": [
    "### Examples:"
   ]
  },
  {
   "cell_type": "markdown",
   "id": "574362d4",
   "metadata": {},
   "source": [
    "Input: nums = [1,1,1], k = 2\n",
    "Output: 2\n",
    "\n",
    "Input: nums = [1,2,3], k = 3\n",
    "Output: 2"
   ]
  },
  {
   "cell_type": "markdown",
   "id": "71eece5d",
   "metadata": {},
   "source": [
    "### Constraints:"
   ]
  },
  {
   "cell_type": "markdown",
   "id": "21fdcf0f",
   "metadata": {},
   "source": [
    "1 <= nums.length <= 2 * 104<br>\n",
    "-1000 <= nums[i] <= 1000<br>\n",
    "-107 <= k <= 107"
   ]
  },
  {
   "cell_type": "markdown",
   "id": "06ad8ad8",
   "metadata": {},
   "source": [
    "## Problem Solution:"
   ]
  },
  {
   "cell_type": "code",
   "execution_count": 2,
   "id": "a63f16ee",
   "metadata": {},
   "outputs": [],
   "source": [
    "class Solution:\n",
    "    def subarraySum(self, nums, k):\n",
    "        ans = preSum = 0\n",
    "        runSum = {}\n",
    "        runSum[0] = 1\n",
    "        for n in nums:\n",
    "            preSum += n\n",
    "            if(runSum.get(preSum-k)):\n",
    "                ans += runSum.get(preSum-k)\n",
    "            runSum[preSum] = runSum.get(preSum, 0) + 1\n",
    "        return ans\n",
    "        \n",
    "            "
   ]
  },
  {
   "cell_type": "markdown",
   "id": "077636b0",
   "metadata": {},
   "source": [
    "### Notes:"
   ]
  },
  {
   "cell_type": "markdown",
   "id": "716f5932",
   "metadata": {},
   "source": [
    "In this solution, we make use of the fact that the sum of all elements between i and j is equal to the sum of all elements up to j minus the sum of all elements up to i. Using a dictionary and a variable that keeps a running sum of the list, we loop through the list. at any index, if the current running sum minus k is in the map, we know there exists at least one additional subarray equal to k, since we keep track of the values of presum throughout the list, and we know because of the above property that if the current sum minus the target exists in the hashmap, the subarray between the current element and the element that inserted the value in the hashmap must equal k. "
   ]
  },
  {
   "cell_type": "code",
   "execution_count": null,
   "id": "37de3dbf",
   "metadata": {},
   "outputs": [],
   "source": []
  }
 ],
 "metadata": {
  "kernelspec": {
   "display_name": "Python 3 (ipykernel)",
   "language": "python",
   "name": "python3"
  },
  "language_info": {
   "codemirror_mode": {
    "name": "ipython",
    "version": 3
   },
   "file_extension": ".py",
   "mimetype": "text/x-python",
   "name": "python",
   "nbconvert_exporter": "python",
   "pygments_lexer": "ipython3",
   "version": "3.8.3"
  }
 },
 "nbformat": 4,
 "nbformat_minor": 5
}
