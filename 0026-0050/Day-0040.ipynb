{
 "cells": [
  {
   "cell_type": "markdown",
   "id": "2f64edf6",
   "metadata": {},
   "source": [
    "# LeetCode Problem 142: Linked List Cycle II"
   ]
  },
  {
   "cell_type": "markdown",
   "id": "fb398e41",
   "metadata": {},
   "source": [
    "Given the head of a linked list, return the node where the cycle begins. If there is no cycle, return null.\n",
    "\n",
    "There is a cycle in a linked list if there is some node in the list that can be reached again by continuously following the next pointer. Internally, pos is used to denote the index of the node that tail's next pointer is connected to (0-indexed). It is -1 if there is no cycle. Note that pos is not passed as a parameter.\n",
    "\n",
    "Do not modify the linked list."
   ]
  },
  {
   "cell_type": "markdown",
   "id": "b54f6d97",
   "metadata": {},
   "source": [
    "### Examples:"
   ]
  },
  {
   "cell_type": "markdown",
   "id": "574362d4",
   "metadata": {},
   "source": [
    "Input: head = [3,2,0,-4], pos = 1\n",
    "Output: tail connects to node index 1\n",
    "Explanation: There is a cycle in the linked list, where tail connects to the second node.\n",
    "\n",
    "\n",
    "Input: head = [1,2], pos = 0\n",
    "Output: tail connects to node index 0\n",
    "Explanation: There is a cycle in the linked list, where tail connects to the first node.\n",
    "\n",
    "\n",
    "Input: head = [1], pos = -1\n",
    "Output: no cycle\n",
    "Explanation: There is no cycle in the linked list."
   ]
  },
  {
   "cell_type": "markdown",
   "id": "71eece5d",
   "metadata": {},
   "source": [
    "### Constraints:"
   ]
  },
  {
   "cell_type": "markdown",
   "id": "21fdcf0f",
   "metadata": {},
   "source": [
    "The number of the nodes in the list is in the range [0, 104].<br>\n",
    "-105 <= Node.val <= 105<br>\n",
    "pos is -1 or a valid index in the linked-list."
   ]
  },
  {
   "cell_type": "markdown",
   "id": "06ad8ad8",
   "metadata": {},
   "source": [
    "## Problem Solution:"
   ]
  },
  {
   "cell_type": "code",
   "execution_count": 2,
   "id": "a63f16ee",
   "metadata": {},
   "outputs": [],
   "source": [
    "class ListNode:\n",
    "    def __init__(self, x):\n",
    "         self.val = x\n",
    "         self.next = None\n",
    "\n",
    "class Solution:\n",
    "    def detectCycle(self, head):\n",
    "        slow = fast = head\n",
    "        while(fast != None and fast.next != None):\n",
    "            slow = slow.next\n",
    "            fast = fast.next.next\n",
    "            if(slow == fast):\n",
    "                slow = head\n",
    "                while(slow != fast):\n",
    "                    slow = slow.next\n",
    "                    fast = fast.next\n",
    "                return slow\n",
    "        return None"
   ]
  },
  {
   "cell_type": "markdown",
   "id": "077636b0",
   "metadata": {},
   "source": [
    "### Notes:"
   ]
  },
  {
   "cell_type": "markdown",
   "id": "716f5932",
   "metadata": {},
   "source": [
    "I used Floyd's cycle algorithm to solve this problem using a fast and slow pointer. Due to the mathematical relationship between one pointer moving twice as fast (covering 2x the nodes) as another pointer, we can deduce that if the slow and fast pointer ever meet, the start of the cycle must be the same distance from the meeting point as it is from the start of the list. We advance both pointers, and if ever they meet, we set one pointer to the head of the list and advance each pointer one node at a time until the nodes are equal to each other, which is the starting point of the cycle. If ever one of the nodes becomes None, we know there is no cycle and return None. Otherwise we return the point at which the two pointers meet (the second time)."
   ]
  },
  {
   "cell_type": "code",
   "execution_count": null,
   "id": "37de3dbf",
   "metadata": {},
   "outputs": [],
   "source": []
  }
 ],
 "metadata": {
  "kernelspec": {
   "display_name": "Python 3 (ipykernel)",
   "language": "python",
   "name": "python3"
  },
  "language_info": {
   "codemirror_mode": {
    "name": "ipython",
    "version": 3
   },
   "file_extension": ".py",
   "mimetype": "text/x-python",
   "name": "python",
   "nbconvert_exporter": "python",
   "pygments_lexer": "ipython3",
   "version": "3.8.3"
  }
 },
 "nbformat": 4,
 "nbformat_minor": 5
}
