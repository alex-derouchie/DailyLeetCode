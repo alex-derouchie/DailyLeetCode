{
 "cells": [
  {
   "cell_type": "markdown",
   "id": "05c815e5",
   "metadata": {},
   "source": [
    "# LeetCode Problem 21. Merge Two Sorted Lists"
   ]
  },
  {
   "cell_type": "markdown",
   "id": "90b995af",
   "metadata": {},
   "source": [
    "You are given the heads of two sorted linked lists list1 and list2.\n",
    "\n",
    "Merge the two lists in a one sorted list. The list should be made by splicing together the nodes of the first two lists.\n",
    "\n",
    "Return the head of the merged linked list."
   ]
  },
  {
   "cell_type": "markdown",
   "id": "2b9737ed",
   "metadata": {},
   "source": [
    "### Examples:"
   ]
  },
  {
   "cell_type": "markdown",
   "id": "ebc051bd",
   "metadata": {},
   "source": [
    "\n",
    "Input: list1 = [1,2,4], list2 = [1,3,4]\n",
    "Output: [1,1,2,3,4,4]\n",
    "\n",
    "Input: list1 = [], list2 = []\n",
    "Output: []\n",
    "\n",
    "Input: list1 = [], list2 = [0]\n",
    "Output: [0]"
   ]
  },
  {
   "cell_type": "markdown",
   "id": "45997377",
   "metadata": {},
   "source": [
    "### Constraints:"
   ]
  },
  {
   "cell_type": "markdown",
   "id": "c507508e",
   "metadata": {},
   "source": [
    "The number of nodes in both lists is in the range [0, 50].<br>\n",
    "-100 <= Node.val <= 100<br>\n",
    "Both list1 and list2 are sorted in non-decreasing order."
   ]
  },
  {
   "cell_type": "markdown",
   "id": "8d3a23f5",
   "metadata": {},
   "source": [
    "## Problem Solution:"
   ]
  },
  {
   "cell_type": "code",
   "execution_count": 2,
   "id": "d5e7af58",
   "metadata": {},
   "outputs": [],
   "source": [
    "\n",
    "  //Definition for singly-linked list.\n",
    "  public class ListNode {\n",
    "      int val;\n",
    "      ListNode next;\n",
    "      ListNode() {}\n",
    "      ListNode(int val) { this.val = val; }\n",
    "      ListNode(int val, ListNode next) { this.val = val; this.next = next; }\n",
    "  }\n",
    " \n",
    "class Solution {\n",
    "    public ListNode mergeTwoLists(ListNode list1, ListNode list2) {\n",
    "        ListNode head = new ListNode();\n",
    "        ListNode pointer = head;\n",
    "        \n",
    "        while(list1 != null && list2 != null){\n",
    "            if(list1.val < list2.val){\n",
    "                pointer.next = list1;\n",
    "                list1 = list1.next;\n",
    "                pointer = pointer.next;\n",
    "            } else {\n",
    "                pointer.next = list2;\n",
    "                list2 = list2.next;\n",
    "                pointer = pointer.next;\n",
    "            }\n",
    "        }\n",
    "        \n",
    "        if(list1 != null){\n",
    "            pointer.next = list1;\n",
    "        }\n",
    "        if(list2 != null){\n",
    "            pointer.next = list2;\n",
    "        }\n",
    "        \n",
    "        return head.next;\n",
    "    }\n",
    "}"
   ]
  },
  {
   "cell_type": "markdown",
   "id": "47689b3f",
   "metadata": {},
   "source": [
    "### Notes:"
   ]
  },
  {
   "cell_type": "markdown",
   "id": "ee0bfef5",
   "metadata": {},
   "source": [
    "This solution essentially uses the input nodes as pointers to traverse along the two lists, constructing the output list one node at a time depending on which list has the lowest current value. It compares the two so long as both lists are not null, and if either of the lists have any remainder by the time one of them is null, it is appended to the result. A head pointer is maintained in order to return the beginning of the constructed list."
   ]
  },
  {
   "cell_type": "code",
   "execution_count": null,
   "id": "bd7d8b12",
   "metadata": {},
   "outputs": [],
   "source": []
  }
 ],
 "metadata": {
  "kernelspec": {
   "display_name": "Java",
   "language": "java",
   "name": "java"
  },
  "language_info": {
   "codemirror_mode": "java",
   "file_extension": ".jshell",
   "mimetype": "text/x-java-source",
   "name": "Java",
   "pygments_lexer": "java",
   "version": "9+181"
  }
 },
 "nbformat": 4,
 "nbformat_minor": 5
}
