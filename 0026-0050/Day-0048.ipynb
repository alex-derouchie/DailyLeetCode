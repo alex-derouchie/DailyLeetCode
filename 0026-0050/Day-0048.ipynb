{
 "cells": [
  {
   "cell_type": "markdown",
   "id": "05c815e5",
   "metadata": {},
   "source": [
    "# LeetCode Problem 205. Isomorphic Strings"
   ]
  },
  {
   "cell_type": "markdown",
   "id": "90b995af",
   "metadata": {},
   "source": [
    "Given two strings s and t, determine if they are isomorphic.\n",
    "\n",
    "Two strings s and t are isomorphic if the characters in s can be replaced to get t.\n",
    "\n",
    "All occurrences of a character must be replaced with another character while preserving the order of characters. No two characters may map to the same character, but a character may map to itself."
   ]
  },
  {
   "cell_type": "markdown",
   "id": "2b9737ed",
   "metadata": {},
   "source": [
    "### Examples:"
   ]
  },
  {
   "cell_type": "markdown",
   "id": "ebc051bd",
   "metadata": {},
   "source": [
    "Input: s = \"egg\", t = \"add\"\n",
    "Output: true\n",
    "Example 2:\n",
    "\n",
    "Input: s = \"foo\", t = \"bar\"\n",
    "Output: false\n",
    "Example 3:\n",
    "\n",
    "Input: s = \"paper\", t = \"title\"\n",
    "Output: true"
   ]
  },
  {
   "cell_type": "markdown",
   "id": "45997377",
   "metadata": {},
   "source": [
    "### Constraints:"
   ]
  },
  {
   "cell_type": "markdown",
   "id": "c507508e",
   "metadata": {},
   "source": [
    "1 <= s.length <= 5 * 104<br>\n",
    "t.length == s.length<br>\n",
    "s and t consist of any valid ascii character."
   ]
  },
  {
   "cell_type": "markdown",
   "id": "8d3a23f5",
   "metadata": {},
   "source": [
    "## Problem Solution:"
   ]
  },
  {
   "cell_type": "code",
   "execution_count": 1,
   "id": "d5e7af58",
   "metadata": {},
   "outputs": [],
   "source": [
    "class Solution {\n",
    "    public boolean isIsomorphic(String s, String t) {\n",
    "        Map<Character, Character> charMapS = new HashMap<>();\n",
    "        Map<Character, Character> charMapT = new HashMap<>();\n",
    "        for(int i=0;i<s.length();i++){\n",
    "            if(charMapS.get(s.charAt(i)) != null){\n",
    "                if(t.charAt(i) != charMapS.get(s.charAt(i))) return false;\n",
    "            } else if(charMapT.get(t.charAt(i)) != null){\n",
    "                if(s.charAt(i) != charMapT.get(t.charAt(i))) return false;\n",
    "            }else{\n",
    "                charMapS.put(s.charAt(i), t.charAt(i));\n",
    "                charMapT.put(t.charAt(i), s.charAt(i));\n",
    "            }\n",
    "        }\n",
    "        return true;\n",
    "    }\n",
    "}"
   ]
  },
  {
   "cell_type": "markdown",
   "id": "47689b3f",
   "metadata": {},
   "source": [
    "### Notes:"
   ]
  },
  {
   "cell_type": "markdown",
   "id": "ee0bfef5",
   "metadata": {},
   "source": [
    "This solution uses two hashmaps to ensure that we can maintain O(1) lookup time while simulataneously ensuring that there are no double-assignments (each letter is only mapped to at most 1 other letter). We loop through each index of the two strings, checking both maps for an existing link. If one exists and is not upheld, we return false, otherwisse we add the new two-way connection between the letters and continue. If we make it to the end of the loop, the strings must be isomorphic. This solution runs in O(n) time and space."
   ]
  },
  {
   "cell_type": "code",
   "execution_count": null,
   "id": "bd7d8b12",
   "metadata": {},
   "outputs": [],
   "source": []
  }
 ],
 "metadata": {
  "kernelspec": {
   "display_name": "Java",
   "language": "java",
   "name": "java"
  },
  "language_info": {
   "codemirror_mode": "java",
   "file_extension": ".jshell",
   "mimetype": "text/x-java-source",
   "name": "Java",
   "pygments_lexer": "java",
   "version": "9+181"
  }
 },
 "nbformat": 4,
 "nbformat_minor": 5
}
