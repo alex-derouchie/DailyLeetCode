{
 "cells": [
  {
   "cell_type": "markdown",
   "id": "2f64edf6",
   "metadata": {},
   "source": [
    "# LeetCode Problem 290: Word Pattern"
   ]
  },
  {
   "cell_type": "markdown",
   "id": "fb398e41",
   "metadata": {},
   "source": [
    "Given a pattern and a string s, find if s follows the same pattern.\n",
    "\n",
    "Here follow means a full match, such that there is a bijection between a letter in pattern and a non-empty word in s."
   ]
  },
  {
   "cell_type": "markdown",
   "id": "b54f6d97",
   "metadata": {},
   "source": [
    "### Examples:"
   ]
  },
  {
   "cell_type": "markdown",
   "id": "574362d4",
   "metadata": {},
   "source": [
    "Input: pattern = \"abba\", s = \"dog cat cat dog\"\n",
    "Output: true\n",
    "\n",
    "Input: pattern = \"abba\", s = \"dog cat cat fish\"\n",
    "Output: false\n",
    "\n",
    "Input: pattern = \"aaaa\", s = \"dog cat cat dog\"\n",
    "Output: false"
   ]
  },
  {
   "cell_type": "markdown",
   "id": "71eece5d",
   "metadata": {},
   "source": [
    "### Constraints:"
   ]
  },
  {
   "cell_type": "markdown",
   "id": "21fdcf0f",
   "metadata": {},
   "source": [
    "1 <= pattern.length <= 300<br>\n",
    "pattern contains only lower-case English letters.<br>\n",
    "1 <= s.length <= 3000<br>\n",
    "s contains only lowercase English letters and spaces ' '.<br>\n",
    "s does not contain any leading or trailing spaces.<br>\n",
    "All the words in s are separated by a single space."
   ]
  },
  {
   "cell_type": "markdown",
   "id": "06ad8ad8",
   "metadata": {},
   "source": [
    "## Problem Solution:"
   ]
  },
  {
   "cell_type": "code",
   "execution_count": 1,
   "id": "a63f16ee",
   "metadata": {},
   "outputs": [],
   "source": [
    "class Solution:\n",
    "    def wordPattern(self, pattern: str, s: str) -> bool:\n",
    "        words, patternDict = s.split(), dict()\n",
    "        if(len(words) != len(pattern)): return False\n",
    "        if(len(set(pattern)) != len(set(words))): return False\n",
    "        \n",
    "        for c in range(len(words)):\n",
    "            if pattern[c] in patternDict:\n",
    "                if words[c] != patternDict[pattern[c]]: return False\n",
    "            else:\n",
    "                patternDict[pattern[c]] = words[c]\n",
    "        return True\n",
    "                "
   ]
  },
  {
   "cell_type": "markdown",
   "id": "077636b0",
   "metadata": {},
   "source": [
    "### Notes:"
   ]
  },
  {
   "cell_type": "markdown",
   "id": "716f5932",
   "metadata": {},
   "source": [
    "This solution uses a dictionary to map pattern characters to their respective words. It starts by splitting the string, then checks to ensure that there are the same number of words as there are characters in the pattern string, and that there is the same amount of unique words as there are unique pattern characters. After verifying this, it loops through the words list. If the current pattern character is in the pattern dictionary but the current word is not equal to the contents of the dictionary at that index, the pattern is not a match. If the dictionary does not yet contain that pattern letter, it is added to the dictionary and the loop continues. If the loop completes, the pattern is a match.\n",
    "\n",
    "It's worth noting that a faster speed could be traded off for greater space complexity here by using a second map to keep track of unique words instead of using the length of sets method. This method yields cleaner code and uses less space but is also a bit slower."
   ]
  },
  {
   "cell_type": "code",
   "execution_count": null,
   "id": "37de3dbf",
   "metadata": {},
   "outputs": [],
   "source": []
  }
 ],
 "metadata": {
  "kernelspec": {
   "display_name": "Python 3 (ipykernel)",
   "language": "python",
   "name": "python3"
  },
  "language_info": {
   "codemirror_mode": {
    "name": "ipython",
    "version": 3
   },
   "file_extension": ".py",
   "mimetype": "text/x-python",
   "name": "python",
   "nbconvert_exporter": "python",
   "pygments_lexer": "ipython3",
   "version": "3.8.3"
  }
 },
 "nbformat": 4,
 "nbformat_minor": 5
}
