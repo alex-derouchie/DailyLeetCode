{
 "cells": [
  {
   "cell_type": "markdown",
   "id": "2f64edf6",
   "metadata": {},
   "source": [
    "# LeetCode Problem 49: Group Anagrams"
   ]
  },
  {
   "cell_type": "markdown",
   "id": "fb398e41",
   "metadata": {},
   "source": [
    "Given an array of strings strs, group the anagrams together. You can return the answer in any order.\n",
    "\n",
    "An Anagram is a word or phrase formed by rearranging the letters of a different word or phrase, typically using all the original letters exactly once.\n"
   ]
  },
  {
   "cell_type": "markdown",
   "id": "b54f6d97",
   "metadata": {},
   "source": [
    "### Examples:"
   ]
  },
  {
   "cell_type": "markdown",
   "id": "574362d4",
   "metadata": {},
   "source": [
    "Input: strs = [\"eat\",\"tea\",\"tan\",\"ate\",\"nat\",\"bat\"]\n",
    "Output: [[\"bat\"],[\"nat\",\"tan\"],[\"ate\",\"eat\",\"tea\"]]\n",
    "\n",
    "Input: strs = [\"\"]\n",
    "Output: [[\"\"]]\n",
    "\n",
    "Input: strs = [\"a\"]\n",
    "Output: [[\"a\"]]"
   ]
  },
  {
   "cell_type": "markdown",
   "id": "71eece5d",
   "metadata": {},
   "source": [
    "### Constraints:"
   ]
  },
  {
   "cell_type": "markdown",
   "id": "21fdcf0f",
   "metadata": {},
   "source": [
    "1 <= strs.length <= 104\n",
    "0 <= strs[i].length <= 100\n",
    "strs[i] consists of lowercase English letters."
   ]
  },
  {
   "cell_type": "markdown",
   "id": "06ad8ad8",
   "metadata": {},
   "source": [
    "## Problem Solution:"
   ]
  },
  {
   "cell_type": "code",
   "execution_count": 2,
   "id": "a63f16ee",
   "metadata": {},
   "outputs": [],
   "source": [
    "class Solution:\n",
    "    def groupAnagrams(self, strs):\n",
    "        d = {}\n",
    "        for word in strs:\n",
    "            key = tuple(sorted(word))\n",
    "            d[key] = d.get(key, []) + [word]\n",
    "        return d.values()"
   ]
  },
  {
   "cell_type": "markdown",
   "id": "077636b0",
   "metadata": {},
   "source": [
    "### Notes:"
   ]
  },
  {
   "cell_type": "markdown",
   "id": "716f5932",
   "metadata": {},
   "source": [
    "To solve this problem, we make the simple observation that the set of all anagrams for any different combination of characters will always have the same character sequence when sorted. Knowing this, we can use a dictionary with key values corresponding to the sorted character sequence of the word in question (the key values must be stored as tuples to be hashable). For each word in the input list, we append that word to the dictionary at the location of the sorted sequence of its characters. the final answer to the problem is the list of values in the dictionary, which is a list of lists."
   ]
  },
  {
   "cell_type": "code",
   "execution_count": null,
   "id": "37de3dbf",
   "metadata": {},
   "outputs": [],
   "source": []
  }
 ],
 "metadata": {
  "kernelspec": {
   "display_name": "Python 3 (ipykernel)",
   "language": "python",
   "name": "python3"
  },
  "language_info": {
   "codemirror_mode": {
    "name": "ipython",
    "version": 3
   },
   "file_extension": ".py",
   "mimetype": "text/x-python",
   "name": "python",
   "nbconvert_exporter": "python",
   "pygments_lexer": "ipython3",
   "version": "3.8.3"
  }
 },
 "nbformat": 4,
 "nbformat_minor": 5
}
