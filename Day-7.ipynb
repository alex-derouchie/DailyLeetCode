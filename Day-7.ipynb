{
 "cells": [
  {
   "cell_type": "markdown",
   "id": "b1590511",
   "metadata": {},
   "source": [
    "# LeetCode Problem 733: Flood Fill"
   ]
  },
  {
   "cell_type": "markdown",
   "id": "73ae6a16",
   "metadata": {},
   "source": [
    "An image is represented by an m x n integer grid image where image[i][j] represents the pixel value of the image.\n",
    "\n",
    "You are also given three integers sr, sc, and newColor. You should perform a flood fill on the image starting from the pixel image[sr][sc].\n",
    "\n",
    "To perform a flood fill, consider the starting pixel, plus any pixels connected 4-directionally to the starting pixel of the same color as the starting pixel, plus any pixels connected 4-directionally to those pixels (also with the same color), and so on. Replace the color of all of the aforementioned pixels with newColor.\n",
    "\n",
    "Return the modified image after performing the flood fill."
   ]
  },
  {
   "cell_type": "markdown",
   "id": "3ce69d3f",
   "metadata": {},
   "source": [
    "### Examples:"
   ]
  },
  {
   "cell_type": "markdown",
   "id": "af053bb3",
   "metadata": {},
   "source": [
    "Input: image = [[1,1,1],[1,1,0],[1,0,1]], sr = 1, sc = 1, newColor = 2\n",
    "Output: [[2,2,2],[2,2,0],[2,0,1]]\n",
    "Explanation: From the center of the image with position (sr, sc) = (1, 1) (i.e., the red pixel), all pixels connected by a path of the same color as the starting pixel (i.e., the blue pixels) are colored with the new color.\n",
    "Note the bottom corner is not colored 2, because it is not 4-directionally connected to the starting pixel.\n",
    "\n",
    "Input: image = [[0,0,0],[0,0,0]], sr = 0, sc = 0, newColor = 2\n",
    "Output: [[2,2,2],[2,2,2]]"
   ]
  },
  {
   "cell_type": "markdown",
   "id": "f11d0892",
   "metadata": {},
   "source": [
    "### Constraints:"
   ]
  },
  {
   "cell_type": "markdown",
   "id": "c4825dea",
   "metadata": {},
   "source": [
    "m == image.length\n",
    "\n",
    "n == image[i].length\n",
    "\n",
    "1 <= m, n <= 50\n",
    "\n",
    "0 <= image[i][j], newColor < 216\n",
    "\n",
    "0 <= sr < m\n",
    "\n",
    "0 <= sc < n"
   ]
  },
  {
   "cell_type": "markdown",
   "id": "99ff79fa",
   "metadata": {},
   "source": [
    "## Problem Solution:"
   ]
  },
  {
   "cell_type": "code",
   "execution_count": 2,
   "id": "d4db38f5",
   "metadata": {},
   "outputs": [],
   "source": [
    "class Solution {\n",
    "    public int[][] floodFill(int[][] image, int sr, int sc, int newColor) {\n",
    "        int curColor = image[sr][sc];\n",
    "        if(curColor == newColor) return image;\n",
    "        image[sr][sc] = newColor;\n",
    "        if(sr > 0 && image[sr-1][sc] == curColor) floodFill(image, sr-1, sc, newColor);\n",
    "        if(sc > 0 && image[sr][sc-1] == curColor) floodFill(image, sr, sc-1, newColor);\n",
    "        if(sr < image.length-1 && image[sr+1][sc] == curColor) floodFill(image, sr+1, sc, newColor);\n",
    "        if(sc < image[0].length-1 && image[sr][sc+1] == curColor) floodFill(image, sr, sc+1, newColor);\n",
    "        return image;\n",
    "    }\n",
    "}"
   ]
  },
  {
   "cell_type": "markdown",
   "id": "afc85cee",
   "metadata": {},
   "source": [
    "### Notes:"
   ]
  },
  {
   "cell_type": "markdown",
   "id": "fb91ac7d",
   "metadata": {},
   "source": [
    "This solution uses DFS to recursively traverse each of the 4 directions of the image stemming from the starting location specified. if the newColor is the same as the current color, the image will not change, so the method can be returned without any changes made. after completing the DFS (updating the cells to the new color as we go), the method returns the updated image object."
   ]
  },
  {
   "cell_type": "code",
   "execution_count": null,
   "id": "315429c8",
   "metadata": {},
   "outputs": [],
   "source": []
  }
 ],
 "metadata": {
  "kernelspec": {
   "display_name": "Java",
   "language": "java",
   "name": "java"
  },
  "language_info": {
   "codemirror_mode": "java",
   "file_extension": ".jshell",
   "mimetype": "text/x-java-source",
   "name": "Java",
   "pygments_lexer": "java",
   "version": "9+181"
  }
 },
 "nbformat": 4,
 "nbformat_minor": 5
}
